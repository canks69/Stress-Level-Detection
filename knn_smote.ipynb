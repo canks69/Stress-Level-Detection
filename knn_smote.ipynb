{
 "cells": [
  {
   "cell_type": "markdown",
   "id": "05a45889",
   "metadata": {},
   "source": [
    "# KNN + SMOTE - Stress Level Detection\n",
    "\n",
    "Implementasi KNN dengan SMOTE untuk mengatasi ketidakseimbangan kelas dalam klasifikasi tingkat stress."
   ]
  },
  {
   "cell_type": "code",
   "execution_count": null,
   "id": "323519b9",
   "metadata": {},
   "outputs": [],
   "source": [
    "!pip install --upgrade imbalanced-learn\n",
    "!pip install --upgrade scikit-learn\n",
    "!pip install pandas\n",
    "!pip install matplotlib\n",
    "!pip install seaborn"
   ]
  },
  {
   "cell_type": "code",
   "execution_count": null,
   "id": "d13ce514",
   "metadata": {},
   "outputs": [],
   "source": [
    "import pandas as pd\n",
    "import numpy as np\n",
    "import matplotlib.pyplot as plt\n",
    "import seaborn as sns\n",
    "from sklearn.model_selection import train_test_split\n",
    "from sklearn.preprocessing import LabelEncoder, StandardScaler, OneHotEncoder\n",
    "from sklearn.impute import SimpleImputer\n",
    "from sklearn.compose import ColumnTransformer\n",
    "from sklearn.pipeline import Pipeline\n",
    "from sklearn.neighbors import KNeighborsClassifier\n",
    "from sklearn.metrics import accuracy_score, classification_report, confusion_matrix\n",
    "from imblearn.over_sampling import SMOTE\n",
    "from imblearn.pipeline import Pipeline as ImbPipeline\n",
    "\n",
    "print(\"✅ Library berhasil diimport\")"
   ]
  },
  {
   "cell_type": "markdown",
   "id": "b4a190b8",
   "metadata": {},
   "source": [
    "## 1. Data Loading dan Preprocessing"
   ]
  },
  {
   "cell_type": "code",
   "execution_count": null,
   "id": "e602fbca",
   "metadata": {},
   "outputs": [],
   "source": [
    "FILE_PATH = './dataset/fix dataset 1031.csv'\n",
    "\n",
    "# Read CSV with semicolon as separator and handle mixed decimal separators\n",
    "df = pd.read_csv(FILE_PATH, sep=';', decimal='.')\n",
    "dataset = df.copy()\n",
    "\n",
    "# Tampilkan Semua row pada kolom pertama yang memiliki nilai NaN\n",
    "print(\"📊 DATASET INFORMATION:\")\n",
    "print(\"Jumlah baris yang memiliki nilai NaN pada kolom pertama:\", dataset[dataset.columns[0]].isna().sum())\n",
    "\n",
    "# Bersihkan data dengan menghapus baris yang memiliki nilai NaN pada kolom pertama\n",
    "dataset = dataset.dropna(subset=[dataset.columns[0]])\n",
    "\n",
    "print(\"Dataset shape:\", dataset.shape)\n",
    "display(dataset.head())"
   ]
  },
  {
   "cell_type": "code",
   "execution_count": null,
   "id": "249d73dc",
   "metadata": {},
   "outputs": [],
   "source": [
    "# Fill missing values in Sleep Disorder with 'Normal'\n",
    "dataset['Sleep Disorder'] = dataset['Sleep Disorder'].fillna('Normal')\n",
    "\n",
    "# Split Blood Pressure column\n",
    "if 'Blood Pressure' in dataset.columns:\n",
    "    dataset[['Systolic', 'Diastolic']] = dataset['Blood Pressure'].str.split('/', expand=True)\n",
    "    dataset['Systolic'] = pd.to_numeric(dataset['Systolic'], errors='coerce')\n",
    "    dataset['Diastolic'] = pd.to_numeric(dataset['Diastolic'], errors='coerce')\n",
    "    dataset = dataset.drop('Blood Pressure', axis=1)\n",
    "\n",
    "# Clean numeric columns\n",
    "kolom_numerik = [\"Sleep Duration\", \"Heart Rate\", \"Daily Steps\", \"Systolic\", \"Diastolic\"]\n",
    "for col in kolom_numerik:\n",
    "    if col in dataset.columns:\n",
    "        dataset[col] = dataset[col].apply(lambda x: str(x).replace(',', '.') if isinstance(x, str) else x)\n",
    "        dataset[col] = pd.to_numeric(dataset[col], errors='coerce')\n",
    "\n",
    "print(\"✅ Data preprocessing selesai\")"
   ]
  },
  {
   "cell_type": "markdown",
   "id": "2b5c0ea2",
   "metadata": {},
   "source": [
    "## 2. Target Encoding dan Feature Selection"
   ]
  },
  {
   "cell_type": "code",
   "execution_count": null,
   "id": "037aa425",
   "metadata": {},
   "outputs": [],
   "source": [
    "# Label encoding for target\n",
    "label_encoder = LabelEncoder()\n",
    "target_encoded = label_encoder.fit_transform(dataset['Sleep Disorder'])\n",
    "\n",
    "print(\"Target classes:\", label_encoder.classes_)\n",
    "print(\"Encoded values:\", np.unique(target_encoded))\n",
    "\n",
    "# Show class distribution BEFORE SMOTE\n",
    "print(\"\\n=== DISTRIBUSI KELAS BEFORE SMOTE ====\")\n",
    "class_counts_before = pd.Series(target_encoded).value_counts().sort_index()\n",
    "for i, count in enumerate(class_counts_before):\n",
    "    print(f\"{label_encoder.classes_[i]}: {count} samples\")\n",
    "\n",
    "total_before = len(target_encoded)\n",
    "print(f\"\\nTotal samples before SMOTE: {total_before}\")"
   ]
  },
  {
   "cell_type": "code",
   "execution_count": null,
   "id": "c7b34326",
   "metadata": {},
   "outputs": [],
   "source": [
    "# Select features\n",
    "feature_columns = [\"Gender\", \"Age\", \"Occupation\", \"Sleep Duration\", \"Quality of Sleep\", \n",
    "                  \"Physical Activity Level\", \"Stress Level\", \"BMI Category\", \"Systolic\", \"Diastolic\"]\n",
    "\n",
    "# Filter only existing columns\n",
    "available_features = [col for col in feature_columns if col in dataset.columns]\n",
    "features = dataset[available_features]\n",
    "\n",
    "print(\"Selected features:\", available_features)\n",
    "print(\"Features shape:\", features.shape)"
   ]
  },
  {
   "cell_type": "markdown",
   "id": "30450532",
   "metadata": {},
   "source": [
    "## 3. Data Splitting"
   ]
  },
  {
   "cell_type": "code",
   "execution_count": null,
   "id": "a930c986",
   "metadata": {},
   "outputs": [],
   "source": [
    "# Split data\n",
    "X_train, X_test, y_train, y_test = train_test_split(\n",
    "    features, target_encoded, test_size=0.2, random_state=42, stratify=target_encoded\n",
    ")\n",
    "\n",
    "print(\"=== DATA SPLIT ====\")\n",
    "print(f\"Training set: {len(X_train)} samples\")\n",
    "print(f\"Test set: {len(X_test)} samples\")\n",
    "\n",
    "print(\"\\nDistribusi y_train BEFORE SMOTE:\")\n",
    "train_dist_before = pd.Series(y_train).value_counts().sort_index()\n",
    "for i, count in enumerate(train_dist_before):\n",
    "    print(f\"{label_encoder.classes_[i]}: {count} samples\")"
   ]
  },
  {
   "cell_type": "markdown",
   "id": "ac860b2d",
   "metadata": {},
   "source": [
    "## 4. Pipeline Setup dengan SMOTE"
   ]
  },
  {
   "cell_type": "code",
   "execution_count": null,
   "id": "17a6a1ab",
   "metadata": {},
   "outputs": [],
   "source": [
    "# Define numerical and categorical features\n",
    "numerical_features = [col for col in available_features if features[col].dtype in ['int64', 'float64']]\n",
    "categorical_features = [col for col in available_features if features[col].dtype == 'object']\n",
    "\n",
    "print(\"Numerical features:\", numerical_features)\n",
    "print(\"Categorical features:\", categorical_features)\n",
    "\n",
    "# Create preprocessors\n",
    "numerical_transformer = Pipeline(steps=[\n",
    "    ('imputer', SimpleImputer(strategy='mean')),\n",
    "    ('scaler', StandardScaler())\n",
    "])\n",
    "\n",
    "categorical_transformer = Pipeline(steps=[\n",
    "    ('imputer', SimpleImputer(strategy='most_frequent')),\n",
    "    ('onehot', OneHotEncoder(handle_unknown='ignore'))\n",
    "])\n",
    "\n",
    "# Combine preprocessors\n",
    "preprocessor = ColumnTransformer(transformers=[\n",
    "    ('num', numerical_transformer, numerical_features),\n",
    "    ('cat', categorical_transformer, categorical_features)\n",
    "])\n",
    "\n",
    "print(\"✅ Preprocessor pipeline created\")"
   ]
  },
  {
   "cell_type": "markdown",
   "id": "dc0c1ab8",
   "metadata": {},
   "source": [
    "## 5. SMOTE Application"
   ]
  },
  {
   "cell_type": "code",
   "execution_count": null,
   "id": "3ca82b2f",
   "metadata": {},
   "outputs": [],
   "source": [
    "# Apply preprocessing to see the effect of SMOTE clearly\n",
    "X_train_processed = preprocessor.fit_transform(X_train)\n",
    "\n",
    "# Apply SMOTE\n",
    "smote = SMOTE(random_state=42)\n",
    "X_train_smote, y_train_smote = smote.fit_resample(X_train_processed, y_train)\n",
    "\n",
    "print(\"=== COMPARISON BEFORE vs AFTER SMOTE ====\")\n",
    "print(\"\\nBEFORE SMOTE:\")\n",
    "for i, count in enumerate(train_dist_before):\n",
    "    print(f\"{label_encoder.classes_[i]}: {count} samples\")\n",
    "print(f\"Total: {len(y_train)} samples\")\n",
    "\n",
    "print(\"\\nAFTER SMOTE:\")\n",
    "train_dist_after = pd.Series(y_train_smote).value_counts().sort_index()\n",
    "for i, count in enumerate(train_dist_after):\n",
    "    print(f\"{label_encoder.classes_[i]}: {count} samples\")\n",
    "print(f\"Total: {len(y_train_smote)} samples\")\n",
    "\n",
    "# Calculate increase\n",
    "print(\"\\nINCREASE PER CLASS:\")\n",
    "for i in range(len(label_encoder.classes_)):\n",
    "    before = train_dist_before.iloc[i] if i < len(train_dist_before) else 0\n",
    "    after = train_dist_after.iloc[i] if i < len(train_dist_after) else 0\n",
    "    increase = after - before\n",
    "    print(f\"{label_encoder.classes_[i]}: +{increase} samples (from {before} to {after})\")"
   ]
  },
  {
   "cell_type": "code",
   "execution_count": null,
   "id": "656970c3",
   "metadata": {},
   "outputs": [],
   "source": [
    "# Visualize class distribution before and after SMOTE\n",
    "fig, (ax1, ax2) = plt.subplots(1, 2, figsize=(15, 5))\n",
    "\n",
    "# Before SMOTE\n",
    "before_data = pd.DataFrame({\n",
    "    'Class': [label_encoder.classes_[i] for i in train_dist_before.index],\n",
    "    'Count': train_dist_before.values\n",
    "})\n",
    "sns.barplot(data=before_data, x='Class', y='Count', ax=ax1)\n",
    "ax1.set_title('Class Distribution BEFORE SMOTE')\n",
    "ax1.tick_params(axis='x', rotation=45)\n",
    "\n",
    "# After SMOTE\n",
    "after_data = pd.DataFrame({\n",
    "    'Class': [label_encoder.classes_[i] for i in train_dist_after.index],\n",
    "    'Count': train_dist_after.values\n",
    "})\n",
    "sns.barplot(data=after_data, x='Class', y='Count', ax=ax2)\n",
    "ax2.set_title('Class Distribution AFTER SMOTE')\n",
    "ax2.tick_params(axis='x', rotation=45)\n",
    "\n",
    "plt.tight_layout()\n",
    "plt.show()"
   ]
  },
  {
   "cell_type": "markdown",
   "id": "3a1c5b41",
   "metadata": {},
   "source": [
    "## 6. KNN + SMOTE Training"
   ]
  },
  {
   "cell_type": "code",
   "execution_count": null,
   "id": "94b7c8af",
   "metadata": {},
   "outputs": [],
   "source": [
    "# Create KNN + SMOTE pipeline\n",
    "knn_smote_pipeline = ImbPipeline(steps=[\n",
    "    ('preprocessor', preprocessor),\n",
    "    ('smote', SMOTE(random_state=42)),\n",
    "    ('knn', KNeighborsClassifier(n_neighbors=5, n_jobs=-1))\n",
    "])\n",
    "\n",
    "# Train the model\n",
    "print(\"Training KNN + SMOTE model...\")\n",
    "knn_smote_pipeline.fit(X_train, y_train)\n",
    "print(\"✅ Model training completed\")"
   ]
  },
  {
   "cell_type": "markdown",
   "id": "a8085956",
   "metadata": {},
   "source": [
    "## 7. Model Evaluation"
   ]
  },
  {
   "cell_type": "code",
   "execution_count": null,
   "id": "8096c24a",
   "metadata": {},
   "outputs": [],
   "source": [
    "# Make predictions\n",
    "y_pred_smote = knn_smote_pipeline.predict(X_test)\n",
    "\n",
    "# Calculate accuracy\n",
    "accuracy_smote = accuracy_score(y_test, y_pred_smote)\n",
    "\n",
    "print(\"=== HASIL EVALUASI KNN + SMOTE ====\")\n",
    "print(f\"Akurasi: {accuracy_smote:.4f} ({accuracy_smote*100:.2f}%)\")\n",
    "print(\"\\nClassification Report:\")\n",
    "print(classification_report(y_test, y_pred_smote, target_names=label_encoder.classes_))"
   ]
  },
  {
   "cell_type": "code",
   "execution_count": null,
   "id": "ed13f322",
   "metadata": {},
   "outputs": [],
   "source": [
    "# Confusion Matrix\n",
    "cm_smote = confusion_matrix(y_test, y_pred_smote)\n",
    "\n",
    "plt.figure(figsize=(8, 6))\n",
    "sns.heatmap(cm_smote, annot=True, fmt=\"d\", cmap=\"Blues\",\n",
    "            xticklabels=label_encoder.classes_, yticklabels=label_encoder.classes_)\n",
    "plt.title(\"Confusion Matrix - KNN + SMOTE\")\n",
    "plt.xlabel(\"Predicted Label\")\n",
    "plt.ylabel(\"True Label\")\n",
    "plt.tight_layout()\n",
    "plt.show()"
   ]
  },
  {
   "cell_type": "markdown",
   "id": "41608457",
   "metadata": {},
   "source": [
    "## 8. Testing Different K Values dengan SMOTE"
   ]
  },
  {
   "cell_type": "code",
   "execution_count": null,
   "id": "2187ee19",
   "metadata": {},
   "outputs": [],
   "source": [
    "# Test different k values with SMOTE\n",
    "k_values = range(1, 21)\n",
    "accuracies_smote = []\n",
    "\n",
    "print(\"Testing different k values with SMOTE...\")\n",
    "for k in k_values:\n",
    "    knn_smote_pipeline.set_params(knn__n_neighbors=k)\n",
    "    knn_smote_pipeline.fit(X_train, y_train)\n",
    "    y_pred_k = knn_smote_pipeline.predict(X_test)\n",
    "    acc = accuracy_score(y_test, y_pred_k)\n",
    "    accuracies_smote.append(acc)\n",
    "    print(f\"k={k}: Accuracy = {acc:.4f}\")\n",
    "\n",
    "# Find best k for SMOTE\n",
    "best_k_smote = k_values[np.argmax(accuracies_smote)]\n",
    "best_accuracy_smote = max(accuracies_smote)\n",
    "\n",
    "print(f\"\\n=== BEST K VALUE untuk KNN + SMOTE ====\")\n",
    "print(f\"Best k: {best_k_smote}\")\n",
    "print(f\"Best accuracy: {best_accuracy_smote:.4f} ({best_accuracy_smote*100:.2f}%)\")"
   ]
  },
  {
   "cell_type": "code",
   "execution_count": null,
   "id": "764068ba",
   "metadata": {},
   "outputs": [],
   "source": [
    "# Plot accuracy vs k for SMOTE\n",
    "plt.figure(figsize=(10, 6))\n",
    "plt.plot(k_values, accuracies_smote, marker='o', linewidth=2, markersize=6, color='green')\n",
    "plt.axvline(x=best_k_smote, color='red', linestyle='--', alpha=0.7, label=f'Best k={best_k_smote}')\n",
    "plt.title('Accuracy vs. Number of Neighbors (k) - KNN + SMOTE')\n",
    "plt.xlabel('k (Number of Neighbors)')\n",
    "plt.ylabel('Accuracy')\n",
    "plt.grid(True, alpha=0.3)\n",
    "plt.legend()\n",
    "plt.xticks(k_values)\n",
    "plt.tight_layout()\n",
    "plt.show()"
   ]
  },
  {
   "cell_type": "markdown",
   "id": "f27a5a1e",
   "metadata": {},
   "source": [
    "## 9. Final Model dengan Best K"
   ]
  },
  {
   "cell_type": "code",
   "execution_count": null,
   "id": "4b531a21",
   "metadata": {},
   "outputs": [],
   "source": [
    "# Train final model with best k\n",
    "final_knn_smote = ImbPipeline(steps=[\n",
    "    ('preprocessor', preprocessor),\n",
    "    ('smote', SMOTE(random_state=42)),\n",
    "    ('knn', KNeighborsClassifier(n_neighbors=best_k_smote))\n",
    "])\n",
    "\n",
    "final_knn_smote.fit(X_train, y_train)\n",
    "final_pred_smote = final_knn_smote.predict(X_test)\n",
    "final_accuracy_smote = accuracy_score(y_test, final_pred_smote)\n",
    "\n",
    "print(\"=== FINAL MODEL PERFORMANCE (KNN + SMOTE) ====\")\n",
    "print(f\"Final model dengan k={best_k_smote}\")\n",
    "print(f\"Final accuracy: {final_accuracy_smote:.4f} ({final_accuracy_smote*100:.2f}%)\")\n",
    "print(\"\\nFinal Classification Report:\")\n",
    "print(classification_report(y_test, final_pred_smote, target_names=label_encoder.classes_))"
   ]
  },
  {
   "cell_type": "markdown",
   "id": "f2ebd012",
   "metadata": {},
   "source": [
    "## 10. Comparison with Original Data"
   ]
  },
  {
   "cell_type": "code",
   "execution_count": null,
   "id": "8e437bb8",
   "metadata": {},
   "outputs": [],
   "source": [
    "# Train KNN without SMOTE for comparison\n",
    "knn_original = Pipeline(steps=[\n",
    "    ('preprocessor', preprocessor),\n",
    "    ('knn', KNeighborsClassifier(n_neighbors=best_k_smote))\n",
    "])\n",
    "\n",
    "knn_original.fit(X_train, y_train)\n",
    "pred_original = knn_original.predict(X_test)\n",
    "accuracy_original = accuracy_score(y_test, pred_original)\n",
    "\n",
    "print(\"=== COMPARISON: KNN vs KNN + SMOTE ====\")\n",
    "print(f\"KNN Original (k={best_k_smote}): {accuracy_original:.4f} ({accuracy_original*100:.2f}%)\")\n",
    "print(f\"KNN + SMOTE (k={best_k_smote}): {final_accuracy_smote:.4f} ({final_accuracy_smote*100:.2f}%)\")\n",
    "print(f\"Improvement: {(final_accuracy_smote - accuracy_original)*100:.2f} percentage points\")"
   ]
  },
  {
   "cell_type": "markdown",
   "id": "04f911da",
   "metadata": {},
   "source": [
    "## Summary\n",
    "\n",
    "**KNN + SMOTE Results:**\n",
    "- **Data before SMOTE**: Class distribution as shown above\n",
    "- **Data after SMOTE**: Balanced class distribution\n",
    "- **Best k value**: Determined through systematic testing\n",
    "- **Performance improvement**: Comparison with original KNN\n",
    "- **SMOTE Impact**: Addresses class imbalance by generating synthetic samples"
   ]
  }
 ],
 "metadata": {
  "kernelspec": {
   "display_name": "Python 3",
   "language": "python",
   "name": "python3"
  },
  "language_info": {
   "codemirror_mode": {
    "name": "ipython",
    "version": 3
   },
   "file_extension": ".py",
   "mimetype": "text/x-python",
   "name": "python",
   "nbconvert_exporter": "python",
   "pygments_lexer": "ipython3",
   "version": "3.12.6"
  }
 },
 "nbformat": 4,
 "nbformat_minor": 5
}
