{
 "cells": [
  {
   "cell_type": "markdown",
   "id": "2bf39247",
   "metadata": {},
   "source": [
    "# Full KNN Scenarios - Stress Level Detection\n",
    "\n",
    "Implementasi lengkap tiga skenario KNN untuk klasifikasi tingkat stress:\n",
    "1. **KNN Murni**: KNN dasar tanpa optimasi tambahan\n",
    "2. **KNN + GridSearch**: KNN dengan optimasi hyperparameter\n",
    "3. **SMOTE + GridSearch + KNN**: KNN dengan balancing data dan optimasi hyperparameter"
   ]
  },
  {
   "cell_type": "markdown",
   "id": "eba123ca",
   "metadata": {},
   "source": [
    "## 📦 Library Installation dan Import"
   ]
  },
  {
   "cell_type": "code",
   "execution_count": null,
   "id": "79680fa1",
   "metadata": {},
   "outputs": [],
   "source": [
    "!pip install --upgrade imbalanced-learn\n",
    "!pip install scikit-learn\n",
    "!pip install pandas\n",
    "!pip install matplotlib\n",
    "!pip install seaborn"
   ]
  },
  {
   "cell_type": "code",
   "execution_count": null,
   "id": "425a1700",
   "metadata": {},
   "outputs": [],
   "source": [
    "import pandas as pd\n",
    "import numpy as np\n",
    "import matplotlib.pyplot as plt\n",
    "import seaborn as sns\n",
    "from sklearn.model_selection import train_test_split, GridSearchCV\n",
    "from sklearn.preprocessing import LabelEncoder, StandardScaler, OneHotEncoder\n",
    "from sklearn.impute import SimpleImputer\n",
    "from sklearn.compose import ColumnTransformer\n",
    "from sklearn.pipeline import Pipeline\n",
    "from sklearn.neighbors import KNeighborsClassifier\n",
    "from sklearn.metrics import accuracy_score, classification_report, confusion_matrix\n",
    "from imblearn.over_sampling import SMOTE\n",
    "from imblearn.pipeline import Pipeline as ImbPipeline\n",
    "import time\n",
    "\n",
    "print(\"✅ Library berhasil diimport\")"
   ]
  },
  {
   "cell_type": "markdown",
   "id": "341cd642",
   "metadata": {},
   "source": [
    "## 📊 Data Loading dan Preprocessing"
   ]
  },
  {
   "cell_type": "code",
   "execution_count": null,
   "id": "a45e1959",
   "metadata": {},
   "outputs": [],
   "source": [
    "FILE_PATH = './dataset/fix dataset 1031.csv'\n",
    "\n",
    "# Read CSV with semicolon as separator and handle mixed decimal separators\n",
    "df = pd.read_csv(FILE_PATH, sep=';', decimal='.')\n",
    "dataset = df.copy()\n",
    "\n",
    "# Tampilkan Semua row pada kolom pertama yang memiliki nilai NaN\n",
    "print(\"📊 DATASET INFORMATION:\")\n",
    "print(\"Jumlah baris yang memiliki nilai NaN pada kolom pertama:\", dataset[dataset.columns[0]].isna().sum())\n",
    "\n",
    "# Bersihkan data dengan menghapus baris yang memiliki nilai NaN pada kolom pertama\n",
    "dataset = dataset.dropna(subset=[dataset.columns[0]])\n",
    "\n",
    "print(\"Dataset shape:\", dataset.shape)\n",
    "display(dataset.head())"
   ]
  },
  {
   "cell_type": "code",
   "execution_count": null,
   "id": "bb9d2ad1",
   "metadata": {},
   "outputs": [],
   "source": [
    "# Check for missing values\n",
    "print(\"Missing values per column:\")\n",
    "nan_counts = dataset.isna().sum()\n",
    "display(nan_counts[nan_counts > 0])"
   ]
  },
  {
   "cell_type": "code",
   "execution_count": null,
   "id": "43ac579a",
   "metadata": {},
   "outputs": [],
   "source": [
    "# Fill missing values in Sleep Disorder with 'Normal'\n",
    "dataset['Sleep Disorder'] = dataset['Sleep Disorder'].fillna('Normal')\n",
    "\n",
    "# Split Blood Pressure column\n",
    "if 'Blood Pressure' in dataset.columns:\n",
    "    dataset[['Systolic', 'Diastolic']] = dataset['Blood Pressure'].str.split('/', expand=True)\n",
    "    dataset['Systolic'] = pd.to_numeric(dataset['Systolic'], errors='coerce')\n",
    "    dataset['Diastolic'] = pd.to_numeric(dataset['Diastolic'], errors='coerce')\n",
    "    dataset = dataset.drop('Blood Pressure', axis=1)\n",
    "\n",
    "# Clean numeric columns\n",
    "kolom_numerik = [\"Sleep Duration\", \"Heart Rate\", \"Daily Steps\", \"Systolic\", \"Diastolic\"]\n",
    "for col in kolom_numerik:\n",
    "    if col in dataset.columns:\n",
    "        dataset[col] = dataset[col].apply(lambda x: str(x).replace(',', '.') if isinstance(x, str) else x)\n",
    "        dataset[col] = pd.to_numeric(dataset[col], errors='coerce')\n",
    "\n",
    "print(\"✅ Data preprocessing selesai\")\n",
    "display(dataset.head())"
   ]
  },
  {
   "cell_type": "markdown",
   "id": "08b64443",
   "metadata": {},
   "source": [
    "## 🎯 Target Encoding dan Feature Selection"
   ]
  },
  {
   "cell_type": "code",
   "execution_count": null,
   "id": "89ddf6fc",
   "metadata": {},
   "outputs": [],
   "source": [
    "# Label encoding for target\n",
    "label_encoder = LabelEncoder()\n",
    "target_encoded = label_encoder.fit_transform(dataset['Sleep Disorder'])\n",
    "\n",
    "print(\"Target classes:\", label_encoder.classes_)\n",
    "print(\"Encoded values:\", np.unique(target_encoded))\n",
    "\n",
    "# Show class distribution\n",
    "print(\"\\n=== DISTRIBUSI KELAS ORIGINAL ====\")\n",
    "class_counts = pd.Series(target_encoded).value_counts().sort_index()\n",
    "for i, count in enumerate(class_counts):\n",
    "    print(f\"{label_encoder.classes_[i]}: {count} samples\")\n",
    "\n",
    "# Visualize class distribution\n",
    "plt.figure(figsize=(8, 5))\n",
    "sns.countplot(data=dataset, x='Sleep Disorder')\n",
    "plt.title('Distribusi Kelas Target (Original)')\n",
    "plt.xticks(rotation=45)\n",
    "plt.tight_layout()\n",
    "plt.show()"
   ]
  },
  {
   "cell_type": "code",
   "execution_count": null,
   "id": "10e08a75",
   "metadata": {},
   "outputs": [],
   "source": [
    "# Select features\n",
    "feature_columns = [\"Gender\", \"Age\", \"Occupation\", \"Sleep Duration\", \"Quality of Sleep\", \n",
    "                  \"Physical Activity Level\", \"Stress Level\", \"BMI Category\", \"Systolic\", \"Diastolic\"]\n",
    "\n",
    "# Filter only existing columns\n",
    "available_features = [col for col in feature_columns if col in dataset.columns]\n",
    "features = dataset[available_features]\n",
    "\n",
    "print(\"Selected features:\", available_features)\n",
    "print(\"Features shape:\", features.shape)\n",
    "display(features.head())"
   ]
  },
  {
   "cell_type": "markdown",
   "id": "0fbaad19",
   "metadata": {},
   "source": [
    "## 🔀 Data Splitting"
   ]
  },
  {
   "cell_type": "code",
   "execution_count": null,
   "id": "b26befb9",
   "metadata": {},
   "outputs": [],
   "source": [
    "# Split data\n",
    "X_train, X_test, y_train, y_test = train_test_split(\n",
    "    features, target_encoded, test_size=0.2, random_state=42, stratify=target_encoded\n",
    ")\n",
    "\n",
    "print(\"=== DATA SPLIT ====\")\n",
    "print(f\"Training set: {len(X_train)} samples\")\n",
    "print(f\"Test set: {len(X_test)} samples\")\n",
    "\n",
    "print(\"\\nDistribusi y_train:\")\n",
    "train_dist = pd.Series(y_train).value_counts().sort_index()\n",
    "for i, count in enumerate(train_dist):\n",
    "    print(f\"{label_encoder.classes_[i]}: {count} samples\")\n",
    "\n",
    "print(\"\\nDistribusi y_test:\")\n",
    "test_dist = pd.Series(y_test).value_counts().sort_index()\n",
    "for i, count in enumerate(test_dist):\n",
    "    print(f\"{label_encoder.classes_[i]}: {count} samples\")"
   ]
  },
  {
   "cell_type": "markdown",
   "id": "97891229",
   "metadata": {},
   "source": [
    "## ⚙️ Pipeline Setup"
   ]
  },
  {
   "cell_type": "code",
   "execution_count": null,
   "id": "8abe37d4",
   "metadata": {},
   "outputs": [],
   "source": [
    "# Define numerical and categorical features\n",
    "numerical_features = [col for col in available_features if features[col].dtype in ['int64', 'float64']]\n",
    "categorical_features = [col for col in available_features if features[col].dtype == 'object']\n",
    "\n",
    "print(\"Numerical features:\", numerical_features)\n",
    "print(\"Categorical features:\", categorical_features)\n",
    "\n",
    "# Create preprocessors\n",
    "numerical_transformer = Pipeline(steps=[\n",
    "    ('imputer', SimpleImputer(strategy='mean')),\n",
    "    ('scaler', StandardScaler())\n",
    "])\n",
    "\n",
    "categorical_transformer = Pipeline(steps=[\n",
    "    ('imputer', SimpleImputer(strategy='most_frequent')),\n",
    "    ('onehot', OneHotEncoder(handle_unknown='ignore'))\n",
    "])\n",
    "\n",
    "# Combine preprocessors\n",
    "preprocessor = ColumnTransformer(transformers=[\n",
    "    ('num', numerical_transformer, numerical_features),\n",
    "    ('cat', categorical_transformer, categorical_features)\n",
    "])\n",
    "\n",
    "print(\"✅ Preprocessor pipeline created\")"
   ]
  },
  {
   "cell_type": "markdown",
   "id": "9bc604a3",
   "metadata": {},
   "source": [
    "# 🎯 SKENARIO 1: KNN MURNI\n",
    "\n",
    "Implementasi KNN dasar tanpa optimasi tambahan untuk klasifikasi tingkat stress."
   ]
  },
  {
   "cell_type": "markdown",
   "id": "492cf2b4",
   "metadata": {},
   "source": [
    "## 1.1. KNN Murni Training"
   ]
  },
  {
   "cell_type": "code",
   "execution_count": null,
   "id": "9d983f36",
   "metadata": {},
   "outputs": [],
   "source": [
    "# Create KNN pipeline with default parameters (k=5)\n",
    "knn_pipeline = Pipeline(steps=[\n",
    "    ('preprocessor', preprocessor),\n",
    "    ('knn', KNeighborsClassifier())\n",
    "])\n",
    "\n",
    "# Train the model\n",
    "print(\"Training KNN model...\")\n",
    "knn_pipeline.fit(X_train, y_train)\n",
    "print(\"✅ Model training completed\")"
   ]
  },
  {
   "cell_type": "markdown",
   "id": "47bfa53b",
   "metadata": {},
   "source": [
    "## 1.2. KNN Murni Evaluation"
   ]
  },
  {
   "cell_type": "code",
   "execution_count": null,
   "id": "87d767f4",
   "metadata": {},
   "outputs": [],
   "source": [
    "# Make predictions\n",
    "y_pred_murni = knn_pipeline.predict(X_test)\n",
    "\n",
    "# Calculate accuracy\n",
    "accuracy_murni = accuracy_score(y_test, y_pred_murni)\n",
    "\n",
    "print(\"=== HASIL EVALUASI KNN MURNI ====\")\n",
    "print(f\"Akurasi: {accuracy_murni:.4f} ({accuracy_murni*100:.2f}%)\")\n",
    "print(\"\\nClassification Report:\")\n",
    "print(classification_report(y_test, y_pred_murni, target_names=label_encoder.classes_))"
   ]
  },
  {
   "cell_type": "code",
   "execution_count": null,
   "id": "d5f4f138",
   "metadata": {},
   "outputs": [],
   "source": [
    "# Confusion Matrix untuk KNN Murni\n",
    "cm_murni = confusion_matrix(y_test, y_pred_murni)\n",
    "\n",
    "plt.figure(figsize=(8, 6))\n",
    "sns.heatmap(cm_murni, annot=True, fmt=\"d\", cmap=\"Blues\",\n",
    "            xticklabels=label_encoder.classes_, yticklabels=label_encoder.classes_)\n",
    "plt.title(\"Confusion Matrix - KNN Murni\")\n",
    "plt.xlabel(\"Predicted Label\")\n",
    "plt.ylabel(\"True Label\")\n",
    "plt.tight_layout()\n",
    "plt.show()"
   ]
  },
  {
   "cell_type": "markdown",
   "id": "af8c8109",
   "metadata": {},
   "source": [
    "## 1.3. Testing Different K Values untuk KNN Murni"
   ]
  },
  {
   "cell_type": "code",
   "execution_count": null,
   "id": "9cf07bb4",
   "metadata": {},
   "outputs": [],
   "source": [
    "# Test different k values\n",
    "k_values = range(1, 21)\n",
    "accuracies_murni = []\n",
    "\n",
    "print(\"Testing different k values untuk KNN Murni...\")\n",
    "for k in k_values:\n",
    "    knn_pipeline.set_params(knn__n_neighbors=k)\n",
    "    knn_pipeline.fit(X_train, y_train)\n",
    "    y_pred_k = knn_pipeline.predict(X_test)\n",
    "    acc = accuracy_score(y_test, y_pred_k)\n",
    "    accuracies_murni.append(acc)\n",
    "    print(f\"k={k}: Accuracy = {acc:.4f}\")\n",
    "\n",
    "# Find best k\n",
    "best_k_murni = k_values[np.argmax(accuracies_murni)]\n",
    "best_accuracy_murni = max(accuracies_murni)\n",
    "\n",
    "print(f\"\\n=== BEST K VALUE untuk KNN MURNI ====\")\n",
    "print(f\"Best k: {best_k_murni}\")\n",
    "print(f\"Best accuracy: {best_accuracy_murni:.4f} ({best_accuracy_murni*100:.2f}%)\")"
   ]
  },
  {
   "cell_type": "code",
   "execution_count": null,
   "id": "546d2271",
   "metadata": {},
   "outputs": [],
   "source": [
    "# Plot accuracy vs k untuk KNN Murni\n",
    "plt.figure(figsize=(10, 6))\n",
    "plt.plot(k_values, accuracies_murni, marker='o', linewidth=2, markersize=6, color='blue')\n",
    "plt.axvline(x=best_k_murni, color='red', linestyle='--', alpha=0.7, label=f'Best k={best_k_murni}')\n",
    "plt.title('Accuracy vs. Number of Neighbors (k) - KNN Murni')\n",
    "plt.xlabel('k (Number of Neighbors)')\n",
    "plt.ylabel('Accuracy')\n",
    "plt.grid(True, alpha=0.3)\n",
    "plt.legend()\n",
    "plt.xticks(k_values)\n",
    "plt.tight_layout()\n",
    "plt.show()"
   ]
  },
  {
   "cell_type": "markdown",
   "id": "e84dcab1",
   "metadata": {},
   "source": [
    "# 🔍 SKENARIO 2: KNN + GRIDSEARCH\n",
    "\n",
    "Implementasi KNN dengan optimasi hyperparameter menggunakan GridSearchCV untuk klasifikasi tingkat stress."
   ]
  },
  {
   "cell_type": "markdown",
   "id": "7ad27202",
   "metadata": {},
   "source": [
    "## 2.1. Baseline Model (Before GridSearch)"
   ]
  },
  {
   "cell_type": "code",
   "execution_count": null,
   "id": "60259425",
   "metadata": {},
   "outputs": [],
   "source": [
    "# Create baseline KNN pipeline (default parameters)\n",
    "baseline_pipeline = Pipeline(steps=[\n",
    "    ('preprocessor', preprocessor),\n",
    "    ('knn', KNeighborsClassifier())\n",
    "])\n",
    "\n",
    "# Train baseline model\n",
    "print(\"Training baseline model...\")\n",
    "baseline_pipeline.fit(X_train, y_train)\n",
    "baseline_pred = baseline_pipeline.predict(X_test)\n",
    "baseline_accuracy = accuracy_score(y_test, baseline_pred)\n",
    "\n",
    "print(\"=== BASELINE MODEL (BEFORE GridSearch) ====\")\n",
    "print(\"Default hyperparameters:\")\n",
    "knn_params = baseline_pipeline.named_steps['knn'].get_params()\n",
    "important_params = ['n_neighbors', 'weights', 'algorithm', 'metric', 'p']\n",
    "for param in important_params:\n",
    "    if param in knn_params:\n",
    "        print(f\"  {param}: {knn_params[param]}\")\n",
    "\n",
    "print(f\"\\nBaseline accuracy: {baseline_accuracy:.4f} ({baseline_accuracy*100:.2f}%)\")"
   ]
  },
  {
   "cell_type": "markdown",
   "id": "dae6d7d1",
   "metadata": {},
   "source": [
    "## 2.2. GridSearchCV untuk Optimasi Hyperparameter"
   ]
  },
  {
   "cell_type": "code",
   "execution_count": null,
   "id": "6103e227",
   "metadata": {},
   "outputs": [],
   "source": [
    "# Define parameter grid for GridSearch\n",
    "param_grid = {\n",
    "    'knn__n_neighbors': [3, 5, 7, 9, 11, 13, 15, 17, 19, 21],\n",
    "    'knn__weights': ['uniform', 'distance'],\n",
    "    'knn__algorithm': ['auto', 'ball_tree', 'kd_tree', 'brute'],\n",
    "    'knn__metric': ['euclidean', 'manhattan', 'minkowski'],\n",
    "    'knn__p': [1, 2]  # Only relevant for minkowski metric\n",
    "}\n",
    "\n",
    "print(\"Parameter grid for GridSearch:\")\n",
    "for param, values in param_grid.items():\n",
    "    print(f\"  {param}: {values}\")\n",
    "\n",
    "print(f\"\\nTotal combinations to test: {np.prod([len(v) for v in param_grid.values()])}\")"
   ]
  },
  {
   "cell_type": "code",
   "execution_count": null,
   "id": "3936de1b",
   "metadata": {},
   "outputs": [],
   "source": [
    "# Create pipeline for GridSearch\n",
    "grid_pipeline = Pipeline(steps=[\n",
    "    ('preprocessor', preprocessor),\n",
    "    ('knn', KNeighborsClassifier())\n",
    "])\n",
    "\n",
    "# Perform GridSearchCV\n",
    "print(\"Starting GridSearchCV...\")\n",
    "print(\"This may take several minutes...\")\n",
    "\n",
    "start_time = time.time()\n",
    "\n",
    "grid_search = GridSearchCV(\n",
    "    grid_pipeline,\n",
    "    param_grid,\n",
    "    cv=5,  # 5-fold cross validation\n",
    "    scoring='accuracy',\n",
    "    n_jobs=-1,  # Use all available cores\n",
    "    verbose=1\n",
    ")\n",
    "\n",
    "grid_search.fit(X_train, y_train)\n",
    "\n",
    "end_time = time.time()\n",
    "elapsed_time = end_time - start_time\n",
    "\n",
    "print(f\"\\n✅ GridSearchCV completed in {elapsed_time:.2f} seconds\")"
   ]
  },
  {
   "cell_type": "markdown",
   "id": "94754468",
   "metadata": {},
   "source": [
    "## 2.3. GridSearch Results"
   ]
  },
  {
   "cell_type": "code",
   "execution_count": null,
   "id": "9418078c",
   "metadata": {},
   "outputs": [],
   "source": [
    "# Display GridSearch results\n",
    "print(\"=== GRIDSEARCH RESULTS ====\")\n",
    "print(\"\\nBest parameters found:\")\n",
    "for param, value in grid_search.best_params_.items():\n",
    "    print(f\"  {param}: {value}\")\n",
    "\n",
    "print(f\"\\nBest cross-validation score: {grid_search.best_score_:.4f} ({grid_search.best_score_*100:.2f}%)\")\n",
    "\n",
    "# Test the best model\n",
    "best_model = grid_search.best_estimator_\n",
    "y_pred_grid = best_model.predict(X_test)\n",
    "grid_accuracy = accuracy_score(y_test, y_pred_grid)\n",
    "\n",
    "print(f\"Test set accuracy with best model: {grid_accuracy:.4f} ({grid_accuracy*100:.2f}%)\")"
   ]
  },
  {
   "cell_type": "code",
   "execution_count": null,
   "id": "4ba81517",
   "metadata": {},
   "outputs": [],
   "source": [
    "# Compare Before vs After GridSearch\n",
    "print(\"=== COMPARISON: BEFORE vs AFTER GridSearch ====\")\n",
    "print(\"\\nBEFORE GridSearch (default parameters):\")\n",
    "print(f\"  n_neighbors: 5\")\n",
    "print(f\"  weights: uniform\")\n",
    "print(f\"  algorithm: auto\")\n",
    "print(f\"  metric: minkowski\")\n",
    "print(f\"  p: 2\")\n",
    "print(f\"  Accuracy: {baseline_accuracy:.4f} ({baseline_accuracy*100:.2f}%)\")\n",
    "\n",
    "print(\"\\nAFTER GridSearch (optimized parameters):\")\n",
    "for param, value in grid_search.best_params_.items():\n",
    "    param_name = param.replace('knn__', '')\n",
    "    print(f\"  {param_name}: {value}\")\n",
    "print(f\"  Accuracy: {grid_accuracy:.4f} ({grid_accuracy*100:.2f}%)\")\n",
    "\n",
    "improvement = grid_accuracy - baseline_accuracy\n",
    "print(f\"\\nImprovement: {improvement:.4f} ({improvement*100:.2f} percentage points)\")\n",
    "\n",
    "if improvement > 0:\n",
    "    print(\"✅ GridSearch improved the model performance!\")\n",
    "elif improvement == 0:\n",
    "    print(\"➖ No improvement from GridSearch\")\n",
    "else:\n",
    "    print(\"⚠️ GridSearch resulted in lower performance (may indicate overfitting)\")"
   ]
  },
  {
   "cell_type": "code",
   "execution_count": null,
   "id": "b0e52b55",
   "metadata": {},
   "outputs": [],
   "source": [
    "# Detailed classification report untuk GridSearch\n",
    "print(\"=== DETAILED PERFORMANCE ANALYSIS - GridSearch ====\")\n",
    "print(\"\\nClassification Report (Best Model):\")\n",
    "print(classification_report(y_test, y_pred_grid, target_names=label_encoder.classes_))"
   ]
  },
  {
   "cell_type": "code",
   "execution_count": null,
   "id": "2daba3cd",
   "metadata": {},
   "outputs": [],
   "source": [
    "# Confusion Matrix untuk GridSearch\n",
    "cm_grid = confusion_matrix(y_test, y_pred_grid)\n",
    "\n",
    "plt.figure(figsize=(8, 6))\n",
    "sns.heatmap(cm_grid, annot=True, fmt=\"d\", cmap=\"Blues\",\n",
    "            xticklabels=label_encoder.classes_, yticklabels=label_encoder.classes_)\n",
    "plt.title(\"Confusion Matrix - KNN with GridSearch\")\n",
    "plt.xlabel(\"Predicted Label\")\n",
    "plt.ylabel(\"True Label\")\n",
    "plt.tight_layout()\n",
    "plt.show()"
   ]
  },
  {
   "cell_type": "markdown",
   "id": "31aee68a",
   "metadata": {},
   "source": [
    "# 🎛️ SKENARIO 3: SMOTE + GRIDSEARCH + KNN\n",
    "\n",
    "Implementasi KNN dengan kombinasi SMOTE untuk mengatasi ketidakseimbangan kelas dan GridSearchCV untuk optimasi hyperparameter dalam klasifikasi tingkat stress."
   ]
  },
  {
   "cell_type": "markdown",
   "id": "8d9f6eb3",
   "metadata": {},
   "source": [
    "## 3.1. SMOTE Application untuk Melihat Efek Balancing"
   ]
  },
  {
   "cell_type": "code",
   "execution_count": null,
   "id": "463a839a",
   "metadata": {},
   "outputs": [],
   "source": [
    "# Apply preprocessing to see the effect of SMOTE clearly\n",
    "X_train_processed = preprocessor.fit_transform(X_train)\n",
    "\n",
    "# Apply SMOTE\n",
    "smote = SMOTE(random_state=42)\n",
    "X_train_smote, y_train_smote = smote.fit_resample(X_train_processed, y_train)\n",
    "\n",
    "print(\"=== COMPARISON BEFORE vs AFTER SMOTE ====\")\n",
    "print(\"\\nBEFORE SMOTE:\")\n",
    "for i, count in enumerate(train_dist):\n",
    "    print(f\"{label_encoder.classes_[i]}: {count} samples\")\n",
    "print(f\"Total: {len(y_train)} samples\")\n",
    "\n",
    "print(\"\\nAFTER SMOTE:\")\n",
    "train_dist_after = pd.Series(y_train_smote).value_counts().sort_index()\n",
    "for i, count in enumerate(train_dist_after):\n",
    "    print(f\"{label_encoder.classes_[i]}: {count} samples\")\n",
    "print(f\"Total: {len(y_train_smote)} samples\")\n",
    "\n",
    "# Calculate increase\n",
    "print(\"\\nINCREASE PER CLASS:\")\n",
    "for i in range(len(label_encoder.classes_)):\n",
    "    before = train_dist.iloc[i] if i < len(train_dist) else 0\n",
    "    after = train_dist_after.iloc[i] if i < len(train_dist_after) else 0\n",
    "    increase = after - before\n",
    "    print(f\"{label_encoder.classes_[i]}: +{increase} samples (from {before} to {after})\")"
   ]
  },
  {
   "cell_type": "code",
   "execution_count": null,
   "id": "6a083119",
   "metadata": {},
   "outputs": [],
   "source": [
    "# Visualize class distribution before and after SMOTE\n",
    "fig, (ax1, ax2) = plt.subplots(1, 2, figsize=(15, 5))\n",
    "\n",
    "# Before SMOTE\n",
    "before_data = pd.DataFrame({\n",
    "    'Class': [label_encoder.classes_[i] for i in train_dist.index],\n",
    "    'Count': train_dist.values\n",
    "})\n",
    "sns.barplot(data=before_data, x='Class', y='Count', ax=ax1)\n",
    "ax1.set_title('Class Distribution BEFORE SMOTE')\n",
    "ax1.tick_params(axis='x', rotation=45)\n",
    "\n",
    "# After SMOTE\n",
    "after_data = pd.DataFrame({\n",
    "    'Class': [label_encoder.classes_[i] for i in train_dist_after.index],\n",
    "    'Count': train_dist_after.values\n",
    "})\n",
    "sns.barplot(data=after_data, x='Class', y='Count', ax=ax2)\n",
    "ax2.set_title('Class Distribution AFTER SMOTE')\n",
    "ax2.tick_params(axis='x', rotation=45)\n",
    "\n",
    "plt.tight_layout()\n",
    "plt.show()"
   ]
  },
  {
   "cell_type": "markdown",
   "id": "aeb81135",
   "metadata": {},
   "source": [
    "## 3.2. Baseline Model dengan SMOTE (Before GridSearch)"
   ]
  },
  {
   "cell_type": "code",
   "execution_count": null,
   "id": "c8dd67c0",
   "metadata": {},
   "outputs": [],
   "source": [
    "# Create baseline SMOTE + KNN pipeline (default parameters)\n",
    "baseline_smote_pipeline = ImbPipeline(steps=[\n",
    "    ('preprocessor', preprocessor),\n",
    "    ('smote', SMOTE(random_state=42)),\n",
    "    ('knn', KNeighborsClassifier())\n",
    "])\n",
    "\n",
    "# Train baseline model\n",
    "print(\"Training baseline SMOTE + KNN model...\")\n",
    "baseline_smote_pipeline.fit(X_train, y_train)\n",
    "baseline_smote_pred = baseline_smote_pipeline.predict(X_test)\n",
    "baseline_smote_accuracy = accuracy_score(y_test, baseline_smote_pred)\n",
    "\n",
    "print(\"=== BASELINE MODEL (BEFORE GridSearch) ====\")\n",
    "print(\"Default hyperparameters:\")\n",
    "knn_params_smote = baseline_smote_pipeline.named_steps['knn'].get_params()\n",
    "important_params = ['n_neighbors', 'weights', 'algorithm', 'metric', 'p']\n",
    "for param in important_params:\n",
    "    if param in knn_params_smote:\n",
    "        print(f\"  {param}: {knn_params_smote[param]}\")\n",
    "\n",
    "print(f\"\\nBaseline accuracy with SMOTE: {baseline_smote_accuracy:.4f} ({baseline_smote_accuracy*100:.2f}%)\")"
   ]
  },
  {
   "cell_type": "markdown",
   "id": "811b010a",
   "metadata": {},
   "source": [
    "## 3.3. GridSearchCV untuk Optimasi Hyperparameter dengan SMOTE"
   ]
  },
  {
   "cell_type": "code",
   "execution_count": null,
   "id": "711ec02f",
   "metadata": {},
   "outputs": [],
   "source": [
    "# Create pipeline for GridSearch with SMOTE\n",
    "grid_smote_pipeline = ImbPipeline(steps=[\n",
    "    ('preprocessor', preprocessor),\n",
    "    ('smote', SMOTE(random_state=42)),\n",
    "    ('knn', KNeighborsClassifier())\n",
    "])\n",
    "\n",
    "# Perform GridSearchCV\n",
    "print(\"Starting GridSearchCV with SMOTE + KNN...\")\n",
    "print(\"This may take several minutes...\")\n",
    "\n",
    "start_time_smote = time.time()\n",
    "\n",
    "grid_search_smote = GridSearchCV(\n",
    "    grid_smote_pipeline,\n",
    "    param_grid,\n",
    "    cv=5,  # 5-fold cross validation\n",
    "    scoring='accuracy',\n",
    "    n_jobs=1,  # Sequential processing (avoids pickling issues with ImbPipeline)\n",
    "    verbose=1\n",
    ")\n",
    "\n",
    "grid_search_smote.fit(X_train, y_train)\n",
    "\n",
    "end_time_smote = time.time()\n",
    "elapsed_time_smote = end_time_smote - start_time_smote\n",
    "\n",
    "print(f\"\\n✅ GridSearchCV dengan SMOTE completed in {elapsed_time_smote:.2f} seconds\")"
   ]
  },
  {
   "cell_type": "markdown",
   "id": "e396a5e7",
   "metadata": {},
   "source": [
    "## 3.4. GridSearch + SMOTE Results"
   ]
  },
  {
   "cell_type": "code",
   "execution_count": null,
   "id": "faf487a0",
   "metadata": {},
   "outputs": [],
   "source": [
    "# Display GridSearch results\n",
    "print(\"=== GRIDSEARCH + SMOTE RESULTS ====\")\n",
    "print(\"\\nBest parameters found:\")\n",
    "for param, value in grid_search_smote.best_params_.items():\n",
    "    print(f\"  {param}: {value}\")\n",
    "\n",
    "print(f\"\\nBest cross-validation score: {grid_search_smote.best_score_:.4f} ({grid_search_smote.best_score_*100:.2f}%)\")\n",
    "\n",
    "# Test the best model\n",
    "best_model_smote = grid_search_smote.best_estimator_\n",
    "y_pred_grid_smote = best_model_smote.predict(X_test)\n",
    "grid_smote_accuracy = accuracy_score(y_test, y_pred_grid_smote)\n",
    "\n",
    "print(f\"Test set accuracy with best SMOTE + GridSearch model: {grid_smote_accuracy:.4f} ({grid_smote_accuracy*100:.2f}%)\")"
   ]
  },
  {
   "cell_type": "code",
   "execution_count": null,
   "id": "29647fbb",
   "metadata": {},
   "outputs": [],
   "source": [
    "# Compare Before vs After GridSearch (both with SMOTE)\n",
    "print(\"=== COMPARISON: BEFORE vs AFTER GridSearch (dengan SMOTE) ====\")\n",
    "print(\"\\nBEFORE GridSearch (SMOTE + default KNN parameters):\")\n",
    "print(f\"  n_neighbors: 5\")\n",
    "print(f\"  weights: uniform\")\n",
    "print(f\"  algorithm: auto\")\n",
    "print(f\"  metric: minkowski\")\n",
    "print(f\"  p: 2\")\n",
    "print(f\"  Accuracy: {baseline_smote_accuracy:.4f} ({baseline_smote_accuracy*100:.2f}%)\")\n",
    "\n",
    "print(\"\\nAFTER GridSearch (SMOTE + optimized KNN parameters):\")\n",
    "for param, value in grid_search_smote.best_params_.items():\n",
    "    param_name = param.replace('knn__', '')\n",
    "    print(f\"  {param_name}: {value}\")\n",
    "print(f\"  Accuracy: {grid_smote_accuracy:.4f} ({grid_smote_accuracy*100:.2f}%)\")\n",
    "\n",
    "improvement_smote = grid_smote_accuracy - baseline_smote_accuracy\n",
    "print(f\"\\nImprovement: {improvement_smote:.4f} ({improvement_smote*100:.2f} percentage points)\")\n",
    "\n",
    "if improvement_smote > 0:\n",
    "    print(\"✅ GridSearch improved SMOTE + KNN model performance!\")\n",
    "elif improvement_smote == 0:\n",
    "    print(\"➖ No improvement from GridSearch\")\n",
    "else:\n",
    "    print(\"⚠️ GridSearch resulted in lower performance (may indicate overfitting)\")"
   ]
  },
  {
   "cell_type": "code",
   "execution_count": null,
   "id": "1be99ca9",
   "metadata": {},
   "outputs": [],
   "source": [
    "# Detailed classification report untuk SMOTE + GridSearch\n",
    "print(\"=== DETAILED PERFORMANCE ANALYSIS - SMOTE + GridSearch ====\")\n",
    "print(\"\\nClassification Report (Best SMOTE + GridSearch Model):\")\n",
    "print(classification_report(y_test, y_pred_grid_smote, target_names=label_encoder.classes_))"
   ]
  },
  {
   "cell_type": "code",
   "execution_count": null,
   "id": "b32ab9ee",
   "metadata": {},
   "outputs": [],
   "source": [
    "# Confusion Matrix untuk SMOTE + GridSearch\n",
    "cm_grid_smote = confusion_matrix(y_test, y_pred_grid_smote)\n",
    "\n",
    "plt.figure(figsize=(8, 6))\n",
    "sns.heatmap(cm_grid_smote, annot=True, fmt=\"d\", cmap=\"Blues\",\n",
    "            xticklabels=label_encoder.classes_, yticklabels=label_encoder.classes_)\n",
    "plt.title(\"Confusion Matrix - SMOTE + GridSearch + KNN\")\n",
    "plt.xlabel(\"Predicted Label\")\n",
    "plt.ylabel(\"True Label\")\n",
    "plt.tight_layout()\n",
    "plt.show()"
   ]
  },
  {
   "cell_type": "markdown",
   "id": "a4f3ddf0",
   "metadata": {},
   "source": [
    "# 📊 FINAL COMPARISON - SEMUA SKENARIO\n",
    "\n",
    "Perbandingan lengkap antara ketiga skenario KNN yang telah diimplementasikan."
   ]
  },
  {
   "cell_type": "markdown",
   "id": "35bc8406",
   "metadata": {},
   "source": [
    "## Comparison Akurasi Semua Model"
   ]
  },
  {
   "cell_type": "code",
   "execution_count": null,
   "id": "946d226a",
   "metadata": {},
   "outputs": [],
   "source": [
    "print(\"=== COMPARISON: SEMUA SKENARIO KNN ====\")\n",
    "print(f\"1. KNN Murni (k=5): {accuracy_murni:.4f} ({accuracy_murni*100:.2f}%)\")\n",
    "print(f\"2. KNN Murni Best K (k={best_k_murni}): {best_accuracy_murni:.4f} ({best_accuracy_murni*100:.2f}%)\")\n",
    "print(f\"3. KNN + GridSearch: {grid_accuracy:.4f} ({grid_accuracy*100:.2f}%)\")\n",
    "print(f\"4. KNN + SMOTE: {baseline_smote_accuracy:.4f} ({baseline_smote_accuracy*100:.2f}%)\")\n",
    "print(f\"5. SMOTE + GridSearch + KNN: {grid_smote_accuracy:.4f} ({grid_smote_accuracy*100:.2f}%)\")\n",
    "\n",
    "print(f\"\\nImprovement Analysis:\")\n",
    "print(f\"KNN Murni Best K vs KNN Murni (k=5): {(best_accuracy_murni - accuracy_murni)*100:+.2f} pp\")\n",
    "print(f\"KNN + GridSearch vs KNN Murni: {(grid_accuracy - accuracy_murni)*100:+.2f} pp\")\n",
    "print(f\"KNN + SMOTE vs KNN Murni: {(baseline_smote_accuracy - accuracy_murni)*100:+.2f} pp\")\n",
    "print(f\"SMOTE + GridSearch vs KNN Murni: {(grid_smote_accuracy - accuracy_murni)*100:+.2f} pp\")\n",
    "print(f\"SMOTE + GridSearch vs KNN + GridSearch: {(grid_smote_accuracy - grid_accuracy)*100:+.2f} pp\")"
   ]
  },
  {
   "cell_type": "code",
   "execution_count": null,
   "id": "cedd599f",
   "metadata": {},
   "outputs": [],
   "source": [
    "# Visualize comparison semua model\n",
    "models = ['KNN Murni\\n(k=5)', f'KNN Murni\\n(k={best_k_murni})', 'KNN +\\nGridSearch', 'KNN +\\nSMOTE', 'SMOTE +\\nGridSearch +\\nKNN']\n",
    "accuracies = [accuracy_murni, best_accuracy_murni, grid_accuracy, baseline_smote_accuracy, grid_smote_accuracy]\n",
    "colors = ['lightblue', 'blue', 'orange', 'lightgreen', 'darkgreen']\n",
    "\n",
    "plt.figure(figsize=(14, 8))\n",
    "bars = plt.bar(models, accuracies, color=colors, alpha=0.7)\n",
    "plt.title('Performance Comparison - All KNN Scenarios', fontsize=16, fontweight='bold')\n",
    "plt.ylabel('Accuracy', fontsize=12)\n",
    "plt.ylim(0, 1)\n",
    "\n",
    "# Add value labels on bars\n",
    "for bar, acc in zip(bars, accuracies):\n",
    "    plt.text(bar.get_x() + bar.get_width()/2, bar.get_height() + 0.01, \n",
    "             f'{acc:.4f}', ha='center', va='bottom', fontweight='bold', fontsize=10)\n",
    "\n",
    "plt.xticks(rotation=45, ha='right')\n",
    "plt.grid(True, alpha=0.3, axis='y')\n",
    "plt.tight_layout()\n",
    "plt.show()"
   ]
  },
  {
   "cell_type": "markdown",
   "id": "f100a4e4",
   "metadata": {},
   "source": [
    "## Confusion Matrix Comparison"
   ]
  },
  {
   "cell_type": "code",
   "execution_count": null,
   "id": "1c784744",
   "metadata": {},
   "outputs": [],
   "source": [
    "# Compare confusion matrices\n",
    "fig, axes = plt.subplots(2, 3, figsize=(18, 12))\n",
    "fig.suptitle('Confusion Matrix Comparison - All KNN Scenarios', fontsize=16, fontweight='bold')\n",
    "\n",
    "# KNN Murni (k=5)\n",
    "sns.heatmap(cm_murni, annot=True, fmt=\"d\", cmap=\"Blues\", ax=axes[0,0],\n",
    "            xticklabels=label_encoder.classes_, yticklabels=label_encoder.classes_)\n",
    "axes[0,0].set_title(f'KNN Murni (k=5)\\nAccuracy: {accuracy_murni:.4f}')\n",
    "\n",
    "# KNN Murni Best K\n",
    "knn_pipeline.set_params(knn__n_neighbors=best_k_murni)\n",
    "knn_pipeline.fit(X_train, y_train)\n",
    "y_pred_best_k = knn_pipeline.predict(X_test)\n",
    "cm_best_k = confusion_matrix(y_test, y_pred_best_k)\n",
    "sns.heatmap(cm_best_k, annot=True, fmt=\"d\", cmap=\"Blues\", ax=axes[0,1],\n",
    "            xticklabels=label_encoder.classes_, yticklabels=label_encoder.classes_)\n",
    "axes[0,1].set_title(f'KNN Murni (k={best_k_murni})\\nAccuracy: {best_accuracy_murni:.4f}')\n",
    "\n",
    "# KNN + GridSearch\n",
    "sns.heatmap(cm_grid, annot=True, fmt=\"d\", cmap=\"Blues\", ax=axes[0,2],\n",
    "            xticklabels=label_encoder.classes_, yticklabels=label_encoder.classes_)\n",
    "axes[0,2].set_title(f'KNN + GridSearch\\nAccuracy: {grid_accuracy:.4f}')\n",
    "\n",
    "# KNN + SMOTE\n",
    "cm_smote_only = confusion_matrix(y_test, baseline_smote_pred)\n",
    "sns.heatmap(cm_smote_only, annot=True, fmt=\"d\", cmap=\"Blues\", ax=axes[1,0],\n",
    "            xticklabels=label_encoder.classes_, yticklabels=label_encoder.classes_)\n",
    "axes[1,0].set_title(f'KNN + SMOTE\\nAccuracy: {baseline_smote_accuracy:.4f}')\n",
    "\n",
    "# SMOTE + GridSearch + KNN\n",
    "sns.heatmap(cm_grid_smote, annot=True, fmt=\"d\", cmap=\"Blues\", ax=axes[1,1],\n",
    "            xticklabels=label_encoder.classes_, yticklabels=label_encoder.classes_)\n",
    "axes[1,1].set_title(f'SMOTE + GridSearch + KNN\\nAccuracy: {grid_smote_accuracy:.4f}')\n",
    "\n",
    "# Hide the last subplot\n",
    "axes[1,2].axis('off')\n",
    "\n",
    "plt.tight_layout()\n",
    "plt.show()"
   ]
  },
  {
   "cell_type": "markdown",
   "id": "07032dbd",
   "metadata": {},
   "source": [
    "## Summary dan Analisis Hyperparameter"
   ]
  },
  {
   "cell_type": "code",
   "execution_count": null,
   "id": "9aacecea",
   "metadata": {},
   "outputs": [],
   "source": [
    "print(\"=\" * 80)\n",
    "print(\"FINAL SUMMARY - FULL KNN SCENARIOS ANALYSIS\")\n",
    "print(\"=\" * 80)\n",
    "\n",
    "print(\"\\n📊 DATASET INFORMATION:\")\n",
    "print(f\"   Total samples: {len(dataset)}\")\n",
    "print(f\"   Features used: {len(available_features)}\")\n",
    "print(f\"   Classes: {len(label_encoder.classes_)} ({', '.join(label_encoder.classes_)})\")\n",
    "print(f\"   Train/Test split: {len(X_train)}/{len(X_test)} samples\")\n",
    "\n",
    "print(\"\\n🎯 SCENARIO RESULTS:\")\n",
    "print(f\"   1. KNN Murni (k=5): {accuracy_murni:.4f} ({accuracy_murni*100:.2f}%)\")\n",
    "print(f\"   2. KNN Murni Best K (k={best_k_murni}): {best_accuracy_murni:.4f} ({best_accuracy_murni*100:.2f}%)\")\n",
    "print(f\"   3. KNN + GridSearch: {grid_accuracy:.4f} ({grid_accuracy*100:.2f}%)\")\n",
    "print(f\"   4. KNN + SMOTE: {baseline_smote_accuracy:.4f} ({baseline_smote_accuracy*100:.2f}%)\")\n",
    "print(f\"   5. SMOTE + GridSearch + KNN: {grid_smote_accuracy:.4f} ({grid_smote_accuracy*100:.2f}%)\")\n",
    "\n",
    "# Find best performing model\n",
    "all_accuracies = [accuracy_murni, best_accuracy_murni, grid_accuracy, baseline_smote_accuracy, grid_smote_accuracy]\n",
    "all_models = ['KNN Murni (k=5)', f'KNN Murni (k={best_k_murni})', 'KNN + GridSearch', 'KNN + SMOTE', 'SMOTE + GridSearch + KNN']\n",
    "best_idx = np.argmax(all_accuracies)\n",
    "best_model_name = all_models[best_idx]\n",
    "best_accuracy = all_accuracies[best_idx]\n",
    "\n",
    "print(f\"\\n🏆 BEST PERFORMING MODEL: {best_model_name}\")\n",
    "print(f\"   Accuracy: {best_accuracy:.4f} ({best_accuracy*100:.2f}%)\")\n",
    "\n",
    "print(\"\\n⚙️ OPTIMAL HYPERPARAMETERS:\")\n",
    "print(\"   KNN + GridSearch:\")\n",
    "for param, value in grid_search.best_params_.items():\n",
    "    param_name = param.replace('knn__', '')\n",
    "    print(f\"     {param_name}: {value}\")\n",
    "\n",
    "print(\"   SMOTE + GridSearch + KNN:\")\n",
    "for param, value in grid_search_smote.best_params_.items():\n",
    "    param_name = param.replace('knn__', '')\n",
    "    print(f\"     {param_name}: {value}\")\n",
    "\n",
    "print(\"\\n📈 KEY INSIGHTS:\")\n",
    "smote_effect = baseline_smote_accuracy - accuracy_murni\n",
    "gridsearch_effect = grid_accuracy - accuracy_murni\n",
    "combined_effect = grid_smote_accuracy - accuracy_murni\n",
    "\n",
    "print(f\"   • SMOTE effect alone: {smote_effect*100:+.2f} percentage points\")\n",
    "print(f\"   • GridSearch effect alone: {gridsearch_effect*100:+.2f} percentage points\")\n",
    "print(f\"   • Combined SMOTE + GridSearch effect: {combined_effect*100:+.2f} percentage points\")\n",
    "print(f\"   • Best manual k-tuning: k={best_k_murni} (+{(best_accuracy_murni-accuracy_murni)*100:.2f} pp)\")\n",
    "\n",
    "if combined_effect > max(smote_effect, gridsearch_effect):\n",
    "    print(\"   ✅ Combining SMOTE + GridSearch provides the best results!\")\n",
    "elif gridsearch_effect > smote_effect:\n",
    "    print(\"   ✅ GridSearch optimization is more effective than SMOTE balancing\")\n",
    "else:\n",
    "    print(\"   ✅ SMOTE balancing is more effective than GridSearch optimization\")\n",
    "\n",
    "print(\"\\n🔍 COMPUTATIONAL COMPLEXITY:\")\n",
    "if 'elapsed_time' in locals():\n",
    "    print(f\"   • GridSearch time: {elapsed_time:.2f} seconds\")\n",
    "if 'elapsed_time_smote' in locals():\n",
    "    print(f\"   • SMOTE + GridSearch time: {elapsed_time_smote:.2f} seconds\")\n",
    "print(f\"   • Total combinations tested: {np.prod([len(v) for v in param_grid.values()])}\")\n",
    "\n",
    "print(\"\\n\" + \"=\" * 80)"
   ]
  }
 ],
 "metadata": {
  "kernelspec": {
   "display_name": "Python 3",
   "language": "python",
   "name": "python3"
  },
  "language_info": {
   "codemirror_mode": {
    "name": "ipython",
    "version": 3
   },
   "file_extension": ".py",
   "mimetype": "text/x-python",
   "name": "python",
   "nbconvert_exporter": "python",
   "pygments_lexer": "ipython3",
   "version": "3.12.6"
  }
 },
 "nbformat": 4,
 "nbformat_minor": 5
}
