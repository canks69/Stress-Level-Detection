{
 "cells": [
  {
   "cell_type": "markdown",
   "id": "05a45889",
   "metadata": {},
   "source": [
    "# KNN + SMOTE - Stress Level Detection\n",
    "\n",
    "Implementasi KNN dengan SMOTE untuk mengatasi ketidakseimbangan kelas dalam klasifikasi tingkat stress."
   ]
  },
  {
   "cell_type": "code",
   "execution_count": 42,
   "id": "323519b9",
   "metadata": {},
   "outputs": [
    {
     "name": "stdout",
     "output_type": "stream",
     "text": [
      "Requirement already satisfied: imbalanced-learn in /Library/Frameworks/Python.framework/Versions/3.12/lib/python3.12/site-packages (0.13.0)\n",
      "Requirement already satisfied: numpy<3,>=1.24.3 in /Library/Frameworks/Python.framework/Versions/3.12/lib/python3.12/site-packages (from imbalanced-learn) (2.3.1)\n",
      "Requirement already satisfied: scipy<2,>=1.10.1 in /Library/Frameworks/Python.framework/Versions/3.12/lib/python3.12/site-packages (from imbalanced-learn) (1.16.0)\n",
      "Requirement already satisfied: scikit-learn<2,>=1.3.2 in /Library/Frameworks/Python.framework/Versions/3.12/lib/python3.12/site-packages (from imbalanced-learn) (1.7.1)\n",
      "Requirement already satisfied: sklearn-compat<1,>=0.1 in /Library/Frameworks/Python.framework/Versions/3.12/lib/python3.12/site-packages (from imbalanced-learn) (0.1.3)\n",
      "Requirement already satisfied: joblib<2,>=1.1.1 in /Library/Frameworks/Python.framework/Versions/3.12/lib/python3.12/site-packages (from imbalanced-learn) (1.5.1)\n",
      "Requirement already satisfied: threadpoolctl<4,>=2.0.0 in /Library/Frameworks/Python.framework/Versions/3.12/lib/python3.12/site-packages (from imbalanced-learn) (3.6.0)\n",
      "Requirement already satisfied: numpy<3,>=1.24.3 in /Library/Frameworks/Python.framework/Versions/3.12/lib/python3.12/site-packages (from imbalanced-learn) (2.3.1)\n",
      "Requirement already satisfied: scipy<2,>=1.10.1 in /Library/Frameworks/Python.framework/Versions/3.12/lib/python3.12/site-packages (from imbalanced-learn) (1.16.0)\n",
      "Requirement already satisfied: scikit-learn<2,>=1.3.2 in /Library/Frameworks/Python.framework/Versions/3.12/lib/python3.12/site-packages (from imbalanced-learn) (1.7.1)\n",
      "Requirement already satisfied: sklearn-compat<1,>=0.1 in /Library/Frameworks/Python.framework/Versions/3.12/lib/python3.12/site-packages (from imbalanced-learn) (0.1.3)\n",
      "Requirement already satisfied: joblib<2,>=1.1.1 in /Library/Frameworks/Python.framework/Versions/3.12/lib/python3.12/site-packages (from imbalanced-learn) (1.5.1)\n",
      "Requirement already satisfied: threadpoolctl<4,>=2.0.0 in /Library/Frameworks/Python.framework/Versions/3.12/lib/python3.12/site-packages (from imbalanced-learn) (3.6.0)\n",
      "Collecting scikit-learn<2,>=1.3.2 (from imbalanced-learn)\n",
      "  Using cached scikit_learn-1.6.1-cp312-cp312-macosx_12_0_arm64.whl.metadata (31 kB)\n",
      "Using cached scikit_learn-1.6.1-cp312-cp312-macosx_12_0_arm64.whl (11.2 MB)\n",
      "Collecting scikit-learn<2,>=1.3.2 (from imbalanced-learn)\n",
      "  Using cached scikit_learn-1.6.1-cp312-cp312-macosx_12_0_arm64.whl.metadata (31 kB)\n",
      "Using cached scikit_learn-1.6.1-cp312-cp312-macosx_12_0_arm64.whl (11.2 MB)\n",
      "Installing collected packages: scikit-learn\n",
      "  Attempting uninstall: scikit-learn\n",
      "    Found existing installation: scikit-learn 1.7.1\n",
      "    Uninstalling scikit-learn-1.7.1:\n",
      "Installing collected packages: scikit-learn\n",
      "  Attempting uninstall: scikit-learn\n",
      "    Found existing installation: scikit-learn 1.7.1\n",
      "    Uninstalling scikit-learn-1.7.1:\n",
      "      Successfully uninstalled scikit-learn-1.7.1\n",
      "      Successfully uninstalled scikit-learn-1.7.1\n",
      "Successfully installed scikit-learn-1.6.1\n",
      "Successfully installed scikit-learn-1.6.1\n",
      "Requirement already satisfied: scikit-learn in /Library/Frameworks/Python.framework/Versions/3.12/lib/python3.12/site-packages (1.6.1)\n",
      "Requirement already satisfied: scikit-learn in /Library/Frameworks/Python.framework/Versions/3.12/lib/python3.12/site-packages (1.6.1)\n",
      "Collecting scikit-learn\n",
      "  Using cached scikit_learn-1.7.1-cp312-cp312-macosx_12_0_arm64.whl.metadata (11 kB)\n",
      "Requirement already satisfied: numpy>=1.22.0 in /Library/Frameworks/Python.framework/Versions/3.12/lib/python3.12/site-packages (from scikit-learn) (2.3.1)\n",
      "Requirement already satisfied: scipy>=1.8.0 in /Library/Frameworks/Python.framework/Versions/3.12/lib/python3.12/site-packages (from scikit-learn) (1.16.0)\n",
      "Requirement already satisfied: joblib>=1.2.0 in /Library/Frameworks/Python.framework/Versions/3.12/lib/python3.12/site-packages (from scikit-learn) (1.5.1)\n",
      "Requirement already satisfied: threadpoolctl>=3.1.0 in /Library/Frameworks/Python.framework/Versions/3.12/lib/python3.12/site-packages (from scikit-learn) (3.6.0)\n",
      "Using cached scikit_learn-1.7.1-cp312-cp312-macosx_12_0_arm64.whl (8.6 MB)\n",
      "Collecting scikit-learn\n",
      "  Using cached scikit_learn-1.7.1-cp312-cp312-macosx_12_0_arm64.whl.metadata (11 kB)\n",
      "Requirement already satisfied: numpy>=1.22.0 in /Library/Frameworks/Python.framework/Versions/3.12/lib/python3.12/site-packages (from scikit-learn) (2.3.1)\n",
      "Requirement already satisfied: scipy>=1.8.0 in /Library/Frameworks/Python.framework/Versions/3.12/lib/python3.12/site-packages (from scikit-learn) (1.16.0)\n",
      "Requirement already satisfied: joblib>=1.2.0 in /Library/Frameworks/Python.framework/Versions/3.12/lib/python3.12/site-packages (from scikit-learn) (1.5.1)\n",
      "Requirement already satisfied: threadpoolctl>=3.1.0 in /Library/Frameworks/Python.framework/Versions/3.12/lib/python3.12/site-packages (from scikit-learn) (3.6.0)\n",
      "Using cached scikit_learn-1.7.1-cp312-cp312-macosx_12_0_arm64.whl (8.6 MB)\n",
      "Installing collected packages: scikit-learn\n",
      "  Attempting uninstall: scikit-learn\n",
      "Installing collected packages: scikit-learn\n",
      "  Attempting uninstall: scikit-learn\n",
      "    Found existing installation: scikit-learn 1.6.1\n",
      "    Uninstalling scikit-learn-1.6.1:\n",
      "      Successfully uninstalled scikit-learn-1.6.1\n",
      "    Found existing installation: scikit-learn 1.6.1\n",
      "    Uninstalling scikit-learn-1.6.1:\n",
      "      Successfully uninstalled scikit-learn-1.6.1\n",
      "\u001b[31mERROR: pip's dependency resolver does not currently take into account all the packages that are installed. This behaviour is the source of the following dependency conflicts.\n",
      "sklearn-compat 0.1.3 requires scikit-learn<1.7,>=1.2, but you have scikit-learn 1.7.1 which is incompatible.\u001b[0m\u001b[31m\n",
      "\u001b[0mSuccessfully installed scikit-learn-1.7.1\n",
      "\u001b[31mERROR: pip's dependency resolver does not currently take into account all the packages that are installed. This behaviour is the source of the following dependency conflicts.\n",
      "sklearn-compat 0.1.3 requires scikit-learn<1.7,>=1.2, but you have scikit-learn 1.7.1 which is incompatible.\u001b[0m\u001b[31m\n",
      "\u001b[0mSuccessfully installed scikit-learn-1.7.1\n",
      "Requirement already satisfied: pandas in /Library/Frameworks/Python.framework/Versions/3.12/lib/python3.12/site-packages (2.3.1)\n",
      "Requirement already satisfied: numpy>=1.26.0 in /Library/Frameworks/Python.framework/Versions/3.12/lib/python3.12/site-packages (from pandas) (2.3.1)\n",
      "Requirement already satisfied: python-dateutil>=2.8.2 in /Users/canks/Library/Python/3.12/lib/python/site-packages (from pandas) (2.9.0.post0)\n",
      "Requirement already satisfied: pytz>=2020.1 in /Library/Frameworks/Python.framework/Versions/3.12/lib/python3.12/site-packages (from pandas) (2025.2)\n",
      "Requirement already satisfied: tzdata>=2022.7 in /Library/Frameworks/Python.framework/Versions/3.12/lib/python3.12/site-packages (from pandas) (2025.2)\n",
      "Requirement already satisfied: six>=1.5 in /Users/canks/Library/Python/3.12/lib/python/site-packages (from python-dateutil>=2.8.2->pandas) (1.17.0)\n",
      "Requirement already satisfied: pandas in /Library/Frameworks/Python.framework/Versions/3.12/lib/python3.12/site-packages (2.3.1)\n",
      "Requirement already satisfied: numpy>=1.26.0 in /Library/Frameworks/Python.framework/Versions/3.12/lib/python3.12/site-packages (from pandas) (2.3.1)\n",
      "Requirement already satisfied: python-dateutil>=2.8.2 in /Users/canks/Library/Python/3.12/lib/python/site-packages (from pandas) (2.9.0.post0)\n",
      "Requirement already satisfied: pytz>=2020.1 in /Library/Frameworks/Python.framework/Versions/3.12/lib/python3.12/site-packages (from pandas) (2025.2)\n",
      "Requirement already satisfied: tzdata>=2022.7 in /Library/Frameworks/Python.framework/Versions/3.12/lib/python3.12/site-packages (from pandas) (2025.2)\n",
      "Requirement already satisfied: six>=1.5 in /Users/canks/Library/Python/3.12/lib/python/site-packages (from python-dateutil>=2.8.2->pandas) (1.17.0)\n",
      "Requirement already satisfied: matplotlib in /Library/Frameworks/Python.framework/Versions/3.12/lib/python3.12/site-packages (3.10.3)\n",
      "Requirement already satisfied: contourpy>=1.0.1 in /Library/Frameworks/Python.framework/Versions/3.12/lib/python3.12/site-packages (from matplotlib) (1.3.2)\n",
      "Requirement already satisfied: cycler>=0.10 in /Library/Frameworks/Python.framework/Versions/3.12/lib/python3.12/site-packages (from matplotlib) (0.12.1)\n",
      "Requirement already satisfied: fonttools>=4.22.0 in /Library/Frameworks/Python.framework/Versions/3.12/lib/python3.12/site-packages (from matplotlib) (4.59.0)\n",
      "Requirement already satisfied: matplotlib in /Library/Frameworks/Python.framework/Versions/3.12/lib/python3.12/site-packages (3.10.3)\n",
      "Requirement already satisfied: contourpy>=1.0.1 in /Library/Frameworks/Python.framework/Versions/3.12/lib/python3.12/site-packages (from matplotlib) (1.3.2)\n",
      "Requirement already satisfied: cycler>=0.10 in /Library/Frameworks/Python.framework/Versions/3.12/lib/python3.12/site-packages (from matplotlib) (0.12.1)\n",
      "Requirement already satisfied: fonttools>=4.22.0 in /Library/Frameworks/Python.framework/Versions/3.12/lib/python3.12/site-packages (from matplotlib) (4.59.0)\n",
      "Requirement already satisfied: kiwisolver>=1.3.1 in /Library/Frameworks/Python.framework/Versions/3.12/lib/python3.12/site-packages (from matplotlib) (1.4.8)\n",
      "Requirement already satisfied: numpy>=1.23 in /Library/Frameworks/Python.framework/Versions/3.12/lib/python3.12/site-packages (from matplotlib) (2.3.1)\n",
      "Requirement already satisfied: packaging>=20.0 in /Users/canks/Library/Python/3.12/lib/python/site-packages (from matplotlib) (25.0)\n",
      "Requirement already satisfied: pillow>=8 in /Library/Frameworks/Python.framework/Versions/3.12/lib/python3.12/site-packages (from matplotlib) (11.3.0)\n",
      "Requirement already satisfied: pyparsing>=2.3.1 in /Library/Frameworks/Python.framework/Versions/3.12/lib/python3.12/site-packages (from matplotlib) (3.2.3)\n",
      "Requirement already satisfied: python-dateutil>=2.7 in /Users/canks/Library/Python/3.12/lib/python/site-packages (from matplotlib) (2.9.0.post0)\n",
      "Requirement already satisfied: six>=1.5 in /Users/canks/Library/Python/3.12/lib/python/site-packages (from python-dateutil>=2.7->matplotlib) (1.17.0)\n",
      "Requirement already satisfied: kiwisolver>=1.3.1 in /Library/Frameworks/Python.framework/Versions/3.12/lib/python3.12/site-packages (from matplotlib) (1.4.8)\n",
      "Requirement already satisfied: numpy>=1.23 in /Library/Frameworks/Python.framework/Versions/3.12/lib/python3.12/site-packages (from matplotlib) (2.3.1)\n",
      "Requirement already satisfied: packaging>=20.0 in /Users/canks/Library/Python/3.12/lib/python/site-packages (from matplotlib) (25.0)\n",
      "Requirement already satisfied: pillow>=8 in /Library/Frameworks/Python.framework/Versions/3.12/lib/python3.12/site-packages (from matplotlib) (11.3.0)\n",
      "Requirement already satisfied: pyparsing>=2.3.1 in /Library/Frameworks/Python.framework/Versions/3.12/lib/python3.12/site-packages (from matplotlib) (3.2.3)\n",
      "Requirement already satisfied: python-dateutil>=2.7 in /Users/canks/Library/Python/3.12/lib/python/site-packages (from matplotlib) (2.9.0.post0)\n",
      "Requirement already satisfied: six>=1.5 in /Users/canks/Library/Python/3.12/lib/python/site-packages (from python-dateutil>=2.7->matplotlib) (1.17.0)\n",
      "Requirement already satisfied: seaborn in /Library/Frameworks/Python.framework/Versions/3.12/lib/python3.12/site-packages (0.13.2)\n",
      "Requirement already satisfied: numpy!=1.24.0,>=1.20 in /Library/Frameworks/Python.framework/Versions/3.12/lib/python3.12/site-packages (from seaborn) (2.3.1)\n",
      "Requirement already satisfied: pandas>=1.2 in /Library/Frameworks/Python.framework/Versions/3.12/lib/python3.12/site-packages (from seaborn) (2.3.1)\n",
      "Requirement already satisfied: matplotlib!=3.6.1,>=3.4 in /Library/Frameworks/Python.framework/Versions/3.12/lib/python3.12/site-packages (from seaborn) (3.10.3)\n",
      "Requirement already satisfied: contourpy>=1.0.1 in /Library/Frameworks/Python.framework/Versions/3.12/lib/python3.12/site-packages (from matplotlib!=3.6.1,>=3.4->seaborn) (1.3.2)\n",
      "Requirement already satisfied: cycler>=0.10 in /Library/Frameworks/Python.framework/Versions/3.12/lib/python3.12/site-packages (from matplotlib!=3.6.1,>=3.4->seaborn) (0.12.1)\n",
      "Requirement already satisfied: fonttools>=4.22.0 in /Library/Frameworks/Python.framework/Versions/3.12/lib/python3.12/site-packages (from matplotlib!=3.6.1,>=3.4->seaborn) (4.59.0)\n",
      "Requirement already satisfied: kiwisolver>=1.3.1 in /Library/Frameworks/Python.framework/Versions/3.12/lib/python3.12/site-packages (from matplotlib!=3.6.1,>=3.4->seaborn) (1.4.8)\n",
      "Requirement already satisfied: packaging>=20.0 in /Users/canks/Library/Python/3.12/lib/python/site-packages (from matplotlib!=3.6.1,>=3.4->seaborn) (25.0)\n",
      "Requirement already satisfied: pillow>=8 in /Library/Frameworks/Python.framework/Versions/3.12/lib/python3.12/site-packages (from matplotlib!=3.6.1,>=3.4->seaborn) (11.3.0)\n",
      "Requirement already satisfied: pyparsing>=2.3.1 in /Library/Frameworks/Python.framework/Versions/3.12/lib/python3.12/site-packages (from matplotlib!=3.6.1,>=3.4->seaborn) (3.2.3)\n",
      "Requirement already satisfied: python-dateutil>=2.7 in /Users/canks/Library/Python/3.12/lib/python/site-packages (from matplotlib!=3.6.1,>=3.4->seaborn) (2.9.0.post0)\n",
      "Requirement already satisfied: seaborn in /Library/Frameworks/Python.framework/Versions/3.12/lib/python3.12/site-packages (0.13.2)\n",
      "Requirement already satisfied: numpy!=1.24.0,>=1.20 in /Library/Frameworks/Python.framework/Versions/3.12/lib/python3.12/site-packages (from seaborn) (2.3.1)\n",
      "Requirement already satisfied: pandas>=1.2 in /Library/Frameworks/Python.framework/Versions/3.12/lib/python3.12/site-packages (from seaborn) (2.3.1)\n",
      "Requirement already satisfied: matplotlib!=3.6.1,>=3.4 in /Library/Frameworks/Python.framework/Versions/3.12/lib/python3.12/site-packages (from seaborn) (3.10.3)\n",
      "Requirement already satisfied: contourpy>=1.0.1 in /Library/Frameworks/Python.framework/Versions/3.12/lib/python3.12/site-packages (from matplotlib!=3.6.1,>=3.4->seaborn) (1.3.2)\n",
      "Requirement already satisfied: cycler>=0.10 in /Library/Frameworks/Python.framework/Versions/3.12/lib/python3.12/site-packages (from matplotlib!=3.6.1,>=3.4->seaborn) (0.12.1)\n",
      "Requirement already satisfied: fonttools>=4.22.0 in /Library/Frameworks/Python.framework/Versions/3.12/lib/python3.12/site-packages (from matplotlib!=3.6.1,>=3.4->seaborn) (4.59.0)\n",
      "Requirement already satisfied: kiwisolver>=1.3.1 in /Library/Frameworks/Python.framework/Versions/3.12/lib/python3.12/site-packages (from matplotlib!=3.6.1,>=3.4->seaborn) (1.4.8)\n",
      "Requirement already satisfied: packaging>=20.0 in /Users/canks/Library/Python/3.12/lib/python/site-packages (from matplotlib!=3.6.1,>=3.4->seaborn) (25.0)\n",
      "Requirement already satisfied: pillow>=8 in /Library/Frameworks/Python.framework/Versions/3.12/lib/python3.12/site-packages (from matplotlib!=3.6.1,>=3.4->seaborn) (11.3.0)\n",
      "Requirement already satisfied: pyparsing>=2.3.1 in /Library/Frameworks/Python.framework/Versions/3.12/lib/python3.12/site-packages (from matplotlib!=3.6.1,>=3.4->seaborn) (3.2.3)\n",
      "Requirement already satisfied: python-dateutil>=2.7 in /Users/canks/Library/Python/3.12/lib/python/site-packages (from matplotlib!=3.6.1,>=3.4->seaborn) (2.9.0.post0)\n",
      "Requirement already satisfied: pytz>=2020.1 in /Library/Frameworks/Python.framework/Versions/3.12/lib/python3.12/site-packages (from pandas>=1.2->seaborn) (2025.2)\n",
      "Requirement already satisfied: tzdata>=2022.7 in /Library/Frameworks/Python.framework/Versions/3.12/lib/python3.12/site-packages (from pandas>=1.2->seaborn) (2025.2)\n",
      "Requirement already satisfied: six>=1.5 in /Users/canks/Library/Python/3.12/lib/python/site-packages (from python-dateutil>=2.7->matplotlib!=3.6.1,>=3.4->seaborn) (1.17.0)\n",
      "Requirement already satisfied: pytz>=2020.1 in /Library/Frameworks/Python.framework/Versions/3.12/lib/python3.12/site-packages (from pandas>=1.2->seaborn) (2025.2)\n",
      "Requirement already satisfied: tzdata>=2022.7 in /Library/Frameworks/Python.framework/Versions/3.12/lib/python3.12/site-packages (from pandas>=1.2->seaborn) (2025.2)\n",
      "Requirement already satisfied: six>=1.5 in /Users/canks/Library/Python/3.12/lib/python/site-packages (from python-dateutil>=2.7->matplotlib!=3.6.1,>=3.4->seaborn) (1.17.0)\n"
     ]
    }
   ],
   "source": [
    "!pip install --upgrade imbalanced-learn\n",
    "!pip install --upgrade scikit-learn\n",
    "!pip install pandas\n",
    "!pip install matplotlib\n",
    "!pip install seaborn"
   ]
  },
  {
   "cell_type": "code",
   "execution_count": 43,
   "id": "d13ce514",
   "metadata": {},
   "outputs": [
    {
     "name": "stdout",
     "output_type": "stream",
     "text": [
      "✅ Library berhasil diimport\n"
     ]
    }
   ],
   "source": [
    "import pandas as pd\n",
    "import numpy as np\n",
    "import matplotlib.pyplot as plt\n",
    "import seaborn as sns\n",
    "from sklearn.model_selection import train_test_split\n",
    "from sklearn.preprocessing import LabelEncoder, StandardScaler, OneHotEncoder\n",
    "from sklearn.impute import SimpleImputer\n",
    "from sklearn.compose import ColumnTransformer\n",
    "from sklearn.pipeline import Pipeline\n",
    "from sklearn.neighbors import KNeighborsClassifier\n",
    "from sklearn.metrics import accuracy_score, classification_report, confusion_matrix\n",
    "from imblearn.over_sampling import SMOTE\n",
    "from imblearn.pipeline import Pipeline as ImbPipeline\n",
    "\n",
    "print(\"✅ Library berhasil diimport\")"
   ]
  },
  {
   "cell_type": "markdown",
   "id": "b4a190b8",
   "metadata": {},
   "source": [
    "## 1. Data Loading dan Preprocessing"
   ]
  },
  {
   "cell_type": "code",
   "execution_count": 44,
   "id": "e602fbca",
   "metadata": {},
   "outputs": [
    {
     "name": "stdout",
     "output_type": "stream",
     "text": [
      "Dataset shape: (1096, 13)\n"
     ]
    },
    {
     "data": {
      "text/html": [
       "<div>\n",
       "<style scoped>\n",
       "    .dataframe tbody tr th:only-of-type {\n",
       "        vertical-align: middle;\n",
       "    }\n",
       "\n",
       "    .dataframe tbody tr th {\n",
       "        vertical-align: top;\n",
       "    }\n",
       "\n",
       "    .dataframe thead th {\n",
       "        text-align: right;\n",
       "    }\n",
       "</style>\n",
       "<table border=\"1\" class=\"dataframe\">\n",
       "  <thead>\n",
       "    <tr style=\"text-align: right;\">\n",
       "      <th></th>\n",
       "      <th>Person ID</th>\n",
       "      <th>Gender</th>\n",
       "      <th>Age</th>\n",
       "      <th>Occupation</th>\n",
       "      <th>Sleep Duration</th>\n",
       "      <th>Quality of Sleep</th>\n",
       "      <th>Physical Activity Level</th>\n",
       "      <th>Stress Level</th>\n",
       "      <th>BMI Category</th>\n",
       "      <th>Blood Pressure</th>\n",
       "      <th>Heart Rate</th>\n",
       "      <th>Daily Steps</th>\n",
       "      <th>Sleep Disorder</th>\n",
       "    </tr>\n",
       "  </thead>\n",
       "  <tbody>\n",
       "    <tr>\n",
       "      <th>0</th>\n",
       "      <td>1.0</td>\n",
       "      <td>Male</td>\n",
       "      <td>27.0</td>\n",
       "      <td>Software Engineer</td>\n",
       "      <td>06.01</td>\n",
       "      <td>6.0</td>\n",
       "      <td>42.0</td>\n",
       "      <td>6.0</td>\n",
       "      <td>Overweight</td>\n",
       "      <td>126/83</td>\n",
       "      <td>77.0</td>\n",
       "      <td>4200.0</td>\n",
       "      <td>NaN</td>\n",
       "    </tr>\n",
       "    <tr>\n",
       "      <th>1</th>\n",
       "      <td>2.0</td>\n",
       "      <td>Male</td>\n",
       "      <td>28.0</td>\n",
       "      <td>Doctor</td>\n",
       "      <td>06.02</td>\n",
       "      <td>6.0</td>\n",
       "      <td>60.0</td>\n",
       "      <td>8.0</td>\n",
       "      <td>Normal</td>\n",
       "      <td>125/80</td>\n",
       "      <td>75.0</td>\n",
       "      <td>10000.0</td>\n",
       "      <td>NaN</td>\n",
       "    </tr>\n",
       "    <tr>\n",
       "      <th>2</th>\n",
       "      <td>3.0</td>\n",
       "      <td>Male</td>\n",
       "      <td>28.0</td>\n",
       "      <td>Doctor</td>\n",
       "      <td>06.02</td>\n",
       "      <td>6.0</td>\n",
       "      <td>60.0</td>\n",
       "      <td>8.0</td>\n",
       "      <td>Normal</td>\n",
       "      <td>125/80</td>\n",
       "      <td>75.0</td>\n",
       "      <td>10000.0</td>\n",
       "      <td>NaN</td>\n",
       "    </tr>\n",
       "    <tr>\n",
       "      <th>3</th>\n",
       "      <td>4.0</td>\n",
       "      <td>Male</td>\n",
       "      <td>28.0</td>\n",
       "      <td>Sales Representative</td>\n",
       "      <td>05.09</td>\n",
       "      <td>4.0</td>\n",
       "      <td>30.0</td>\n",
       "      <td>8.0</td>\n",
       "      <td>Obese</td>\n",
       "      <td>140/90</td>\n",
       "      <td>85.0</td>\n",
       "      <td>3000.0</td>\n",
       "      <td>Sleep Apnea</td>\n",
       "    </tr>\n",
       "    <tr>\n",
       "      <th>4</th>\n",
       "      <td>5.0</td>\n",
       "      <td>Male</td>\n",
       "      <td>28.0</td>\n",
       "      <td>Sales Representative</td>\n",
       "      <td>05.09</td>\n",
       "      <td>4.0</td>\n",
       "      <td>30.0</td>\n",
       "      <td>8.0</td>\n",
       "      <td>Obese</td>\n",
       "      <td>140/90</td>\n",
       "      <td>85.0</td>\n",
       "      <td>3000.0</td>\n",
       "      <td>Sleep Apnea</td>\n",
       "    </tr>\n",
       "  </tbody>\n",
       "</table>\n",
       "</div>"
      ],
      "text/plain": [
       "   Person ID Gender   Age            Occupation Sleep Duration  \\\n",
       "0        1.0   Male  27.0     Software Engineer          06.01   \n",
       "1        2.0   Male  28.0                Doctor          06.02   \n",
       "2        3.0   Male  28.0                Doctor          06.02   \n",
       "3        4.0   Male  28.0  Sales Representative          05.09   \n",
       "4        5.0   Male  28.0  Sales Representative          05.09   \n",
       "\n",
       "   Quality of Sleep  Physical Activity Level  Stress Level BMI Category  \\\n",
       "0               6.0                     42.0           6.0   Overweight   \n",
       "1               6.0                     60.0           8.0       Normal   \n",
       "2               6.0                     60.0           8.0       Normal   \n",
       "3               4.0                     30.0           8.0        Obese   \n",
       "4               4.0                     30.0           8.0        Obese   \n",
       "\n",
       "  Blood Pressure  Heart Rate  Daily Steps Sleep Disorder  \n",
       "0         126/83        77.0       4200.0            NaN  \n",
       "1         125/80        75.0      10000.0            NaN  \n",
       "2         125/80        75.0      10000.0            NaN  \n",
       "3         140/90        85.0       3000.0    Sleep Apnea  \n",
       "4         140/90        85.0       3000.0    Sleep Apnea  "
      ]
     },
     "metadata": {},
     "output_type": "display_data"
    }
   ],
   "source": [
    "FILE_PATH = './dataset/fix dataset 1031.csv'\n",
    "\n",
    "# Read CSV with semicolon as separator and handle mixed decimal separators\n",
    "df = pd.read_csv(FILE_PATH, sep=';', decimal='.')\n",
    "dataset = df.copy()\n",
    "\n",
    "print(\"Dataset shape:\", dataset.shape)\n",
    "display(dataset.head())"
   ]
  },
  {
   "cell_type": "code",
   "execution_count": 45,
   "id": "249d73dc",
   "metadata": {},
   "outputs": [
    {
     "name": "stdout",
     "output_type": "stream",
     "text": [
      "✅ Data preprocessing selesai\n"
     ]
    }
   ],
   "source": [
    "# Fill missing values in Sleep Disorder with 'Normal'\n",
    "dataset['Sleep Disorder'] = dataset['Sleep Disorder'].fillna('Normal')\n",
    "\n",
    "# Split Blood Pressure column\n",
    "if 'Blood Pressure' in dataset.columns:\n",
    "    dataset[['Systolic', 'Diastolic']] = dataset['Blood Pressure'].str.split('/', expand=True)\n",
    "    dataset['Systolic'] = pd.to_numeric(dataset['Systolic'], errors='coerce')\n",
    "    dataset['Diastolic'] = pd.to_numeric(dataset['Diastolic'], errors='coerce')\n",
    "    dataset = dataset.drop('Blood Pressure', axis=1)\n",
    "\n",
    "# Clean numeric columns\n",
    "kolom_numerik = [\"Sleep Duration\", \"Heart Rate\", \"Daily Steps\", \"Systolic\", \"Diastolic\"]\n",
    "for col in kolom_numerik:\n",
    "    if col in dataset.columns:\n",
    "        dataset[col] = dataset[col].apply(lambda x: str(x).replace(',', '.') if isinstance(x, str) else x)\n",
    "        dataset[col] = pd.to_numeric(dataset[col], errors='coerce')\n",
    "\n",
    "print(\"✅ Data preprocessing selesai\")"
   ]
  },
  {
   "cell_type": "markdown",
   "id": "2b5c0ea2",
   "metadata": {},
   "source": [
    "## 2. Target Encoding dan Feature Selection"
   ]
  },
  {
   "cell_type": "code",
   "execution_count": 46,
   "id": "037aa425",
   "metadata": {},
   "outputs": [
    {
     "name": "stdout",
     "output_type": "stream",
     "text": [
      "Target classes: ['Insomnia' 'Normal' 'Sleep Apnea']\n",
      "Encoded values: [0 1 2]\n",
      "\n",
      "=== DISTRIBUSI KELAS BEFORE SMOTE ====\n",
      "Insomnia: 296 samples\n",
      "Normal: 503 samples\n",
      "Sleep Apnea: 297 samples\n",
      "\n",
      "Total samples before SMOTE: 1096\n"
     ]
    }
   ],
   "source": [
    "# Label encoding for target\n",
    "label_encoder = LabelEncoder()\n",
    "target_encoded = label_encoder.fit_transform(dataset['Sleep Disorder'])\n",
    "\n",
    "print(\"Target classes:\", label_encoder.classes_)\n",
    "print(\"Encoded values:\", np.unique(target_encoded))\n",
    "\n",
    "# Show class distribution BEFORE SMOTE\n",
    "print(\"\\n=== DISTRIBUSI KELAS BEFORE SMOTE ====\")\n",
    "class_counts_before = pd.Series(target_encoded).value_counts().sort_index()\n",
    "for i, count in enumerate(class_counts_before):\n",
    "    print(f\"{label_encoder.classes_[i]}: {count} samples\")\n",
    "\n",
    "total_before = len(target_encoded)\n",
    "print(f\"\\nTotal samples before SMOTE: {total_before}\")"
   ]
  },
  {
   "cell_type": "code",
   "execution_count": 47,
   "id": "c7b34326",
   "metadata": {},
   "outputs": [
    {
     "name": "stdout",
     "output_type": "stream",
     "text": [
      "Selected features: ['Gender', 'Age', 'Occupation', 'Sleep Duration', 'Quality of Sleep', 'Physical Activity Level', 'Stress Level', 'BMI Category', 'Systolic', 'Diastolic']\n",
      "Features shape: (1096, 10)\n"
     ]
    }
   ],
   "source": [
    "# Select features\n",
    "feature_columns = [\"Gender\", \"Age\", \"Occupation\", \"Sleep Duration\", \"Quality of Sleep\", \n",
    "                  \"Physical Activity Level\", \"Stress Level\", \"BMI Category\", \"Systolic\", \"Diastolic\"]\n",
    "\n",
    "# Filter only existing columns\n",
    "available_features = [col for col in feature_columns if col in dataset.columns]\n",
    "features = dataset[available_features]\n",
    "\n",
    "print(\"Selected features:\", available_features)\n",
    "print(\"Features shape:\", features.shape)"
   ]
  },
  {
   "cell_type": "markdown",
   "id": "30450532",
   "metadata": {},
   "source": [
    "## 3. Data Splitting"
   ]
  },
  {
   "cell_type": "code",
   "execution_count": 48,
   "id": "a930c986",
   "metadata": {},
   "outputs": [
    {
     "name": "stdout",
     "output_type": "stream",
     "text": [
      "=== DATA SPLIT ====\n",
      "Training set: 876 samples\n",
      "Test set: 220 samples\n",
      "\n",
      "Distribusi y_train BEFORE SMOTE:\n",
      "Insomnia: 237 samples\n",
      "Normal: 402 samples\n",
      "Sleep Apnea: 237 samples\n"
     ]
    }
   ],
   "source": [
    "# Split data\n",
    "X_train, X_test, y_train, y_test = train_test_split(\n",
    "    features, target_encoded, test_size=0.2, random_state=42, stratify=target_encoded\n",
    ")\n",
    "\n",
    "print(\"=== DATA SPLIT ====\")\n",
    "print(f\"Training set: {len(X_train)} samples\")\n",
    "print(f\"Test set: {len(X_test)} samples\")\n",
    "\n",
    "print(\"\\nDistribusi y_train BEFORE SMOTE:\")\n",
    "train_dist_before = pd.Series(y_train).value_counts().sort_index()\n",
    "for i, count in enumerate(train_dist_before):\n",
    "    print(f\"{label_encoder.classes_[i]}: {count} samples\")"
   ]
  },
  {
   "cell_type": "markdown",
   "id": "ac860b2d",
   "metadata": {},
   "source": [
    "## 4. Pipeline Setup dengan SMOTE"
   ]
  },
  {
   "cell_type": "code",
   "execution_count": 49,
   "id": "17a6a1ab",
   "metadata": {},
   "outputs": [
    {
     "name": "stdout",
     "output_type": "stream",
     "text": [
      "Numerical features: ['Age', 'Sleep Duration', 'Quality of Sleep', 'Physical Activity Level', 'Stress Level', 'Systolic', 'Diastolic']\n",
      "Categorical features: ['Gender', 'Occupation', 'BMI Category']\n",
      "✅ Preprocessor pipeline created\n"
     ]
    }
   ],
   "source": [
    "# Define numerical and categorical features\n",
    "numerical_features = [col for col in available_features if features[col].dtype in ['int64', 'float64']]\n",
    "categorical_features = [col for col in available_features if features[col].dtype == 'object']\n",
    "\n",
    "print(\"Numerical features:\", numerical_features)\n",
    "print(\"Categorical features:\", categorical_features)\n",
    "\n",
    "# Create preprocessors\n",
    "numerical_transformer = Pipeline(steps=[\n",
    "    ('imputer', SimpleImputer(strategy='mean')),\n",
    "    ('scaler', StandardScaler())\n",
    "])\n",
    "\n",
    "categorical_transformer = Pipeline(steps=[\n",
    "    ('imputer', SimpleImputer(strategy='most_frequent')),\n",
    "    ('onehot', OneHotEncoder(handle_unknown='ignore'))\n",
    "])\n",
    "\n",
    "# Combine preprocessors\n",
    "preprocessor = ColumnTransformer(transformers=[\n",
    "    ('num', numerical_transformer, numerical_features),\n",
    "    ('cat', categorical_transformer, categorical_features)\n",
    "])\n",
    "\n",
    "print(\"✅ Preprocessor pipeline created\")"
   ]
  },
  {
   "cell_type": "markdown",
   "id": "dc0c1ab8",
   "metadata": {},
   "source": [
    "## 5. SMOTE Application"
   ]
  },
  {
   "cell_type": "code",
   "execution_count": 50,
   "id": "3ca82b2f",
   "metadata": {},
   "outputs": [
    {
     "name": "stdout",
     "output_type": "stream",
     "text": [
      "=== COMPARISON BEFORE vs AFTER SMOTE ====\n",
      "\n",
      "BEFORE SMOTE:\n",
      "Insomnia: 237 samples\n",
      "Normal: 402 samples\n",
      "Sleep Apnea: 237 samples\n",
      "Total: 876 samples\n",
      "\n",
      "AFTER SMOTE:\n",
      "Insomnia: 402 samples\n",
      "Normal: 402 samples\n",
      "Sleep Apnea: 402 samples\n",
      "Total: 1206 samples\n",
      "\n",
      "INCREASE PER CLASS:\n",
      "Insomnia: +165 samples (from 237 to 402)\n",
      "Normal: +0 samples (from 402 to 402)\n",
      "Sleep Apnea: +165 samples (from 237 to 402)\n"
     ]
    }
   ],
   "source": [
    "# Apply preprocessing to see the effect of SMOTE clearly\n",
    "X_train_processed = preprocessor.fit_transform(X_train)\n",
    "\n",
    "# Apply SMOTE\n",
    "smote = SMOTE(random_state=42)\n",
    "X_train_smote, y_train_smote = smote.fit_resample(X_train_processed, y_train)\n",
    "\n",
    "print(\"=== COMPARISON BEFORE vs AFTER SMOTE ====\")\n",
    "print(\"\\nBEFORE SMOTE:\")\n",
    "for i, count in enumerate(train_dist_before):\n",
    "    print(f\"{label_encoder.classes_[i]}: {count} samples\")\n",
    "print(f\"Total: {len(y_train)} samples\")\n",
    "\n",
    "print(\"\\nAFTER SMOTE:\")\n",
    "train_dist_after = pd.Series(y_train_smote).value_counts().sort_index()\n",
    "for i, count in enumerate(train_dist_after):\n",
    "    print(f\"{label_encoder.classes_[i]}: {count} samples\")\n",
    "print(f\"Total: {len(y_train_smote)} samples\")\n",
    "\n",
    "# Calculate increase\n",
    "print(\"\\nINCREASE PER CLASS:\")\n",
    "for i in range(len(label_encoder.classes_)):\n",
    "    before = train_dist_before.iloc[i] if i < len(train_dist_before) else 0\n",
    "    after = train_dist_after.iloc[i] if i < len(train_dist_after) else 0\n",
    "    increase = after - before\n",
    "    print(f\"{label_encoder.classes_[i]}: +{increase} samples (from {before} to {after})\")"
   ]
  },
  {
   "cell_type": "code",
   "execution_count": 51,
   "id": "656970c3",
   "metadata": {},
   "outputs": [
    {
     "data": {
      "image/png": "[encoded data removed]",
      "text/plain": [
       "<Figure size 1500x500 with 2 Axes>"
      ]
     },
     "metadata": {},
     "output_type": "display_data"
    }
   ],
   "source": [
    "# Visualize class distribution before and after SMOTE\n",
    "fig, (ax1, ax2) = plt.subplots(1, 2, figsize=(15, 5))\n",
    "\n",
    "# Before SMOTE\n",
    "before_data = pd.DataFrame({\n",
    "    'Class': [label_encoder.classes_[i] for i in train_dist_before.index],\n",
    "    'Count': train_dist_before.values\n",
    "})\n",
    "sns.barplot(data=before_data, x='Class', y='Count', ax=ax1)\n",
    "ax1.set_title('Class Distribution BEFORE SMOTE')\n",
    "ax1.tick_params(axis='x', rotation=45)\n",
    "\n",
    "# After SMOTE\n",
    "after_data = pd.DataFrame({\n",
    "    'Class': [label_encoder.classes_[i] for i in train_dist_after.index],\n",
    "    'Count': train_dist_after.values\n",
    "})\n",
    "sns.barplot(data=after_data, x='Class', y='Count', ax=ax2)\n",
    "ax2.set_title('Class Distribution AFTER SMOTE')\n",
    "ax2.tick_params(axis='x', rotation=45)\n",
    "\n",
    "plt.tight_layout()\n",
    "plt.show()"
   ]
  },
  {
   "cell_type": "markdown",
   "id": "3a1c5b41",
   "metadata": {},
   "source": [
    "## 6. KNN + SMOTE Training"
   ]
  },
  {
   "cell_type": "code",
   "execution_count": 52,
   "id": "94b7c8af",
   "metadata": {},
   "outputs": [
    {
     "name": "stdout",
     "output_type": "stream",
     "text": [
      "Training KNN + SMOTE model...\n",
      "✅ Model training completed\n"
     ]
    }
   ],
   "source": [
    "# Create KNN + SMOTE pipeline\n",
    "knn_smote_pipeline = ImbPipeline(steps=[\n",
    "    ('preprocessor', preprocessor),\n",
    "    ('smote', SMOTE(random_state=42)),\n",
    "    ('knn', KNeighborsClassifier(n_neighbors=5, n_jobs=-1))\n",
    "])\n",
    "\n",
    "# Train the model\n",
    "print(\"Training KNN + SMOTE model...\")\n",
    "knn_smote_pipeline.fit(X_train, y_train)\n",
    "print(\"✅ Model training completed\")"
   ]
  },
  {
   "cell_type": "markdown",
   "id": "a8085956",
   "metadata": {},
   "source": [
    "## 7. Model Evaluation"
   ]
  },
  {
   "cell_type": "code",
   "execution_count": 53,
   "id": "8096c24a",
   "metadata": {},
   "outputs": [
    {
     "name": "stdout",
     "output_type": "stream",
     "text": [
      "=== HASIL EVALUASI KNN + SMOTE ====\n",
      "Akurasi: 0.9091 (90.91%)\n",
      "\n",
      "Classification Report:\n",
      "              precision    recall  f1-score   support\n",
      "\n",
      "    Insomnia       0.91      0.90      0.91        59\n",
      "      Normal       0.91      0.91      0.91       101\n",
      " Sleep Apnea       0.90      0.92      0.91        60\n",
      "\n",
      "    accuracy                           0.91       220\n",
      "   macro avg       0.91      0.91      0.91       220\n",
      "weighted avg       0.91      0.91      0.91       220\n",
      "\n"
     ]
    }
   ],
   "source": [
    "# Make predictions\n",
    "y_pred_smote = knn_smote_pipeline.predict(X_test)\n",
    "\n",
    "# Calculate accuracy\n",
    "accuracy_smote = accuracy_score(y_test, y_pred_smote)\n",
    "\n",
    "print(\"=== HASIL EVALUASI KNN + SMOTE ====\")\n",
    "print(f\"Akurasi: {accuracy_smote:.4f} ({accuracy_smote*100:.2f}%)\")\n",
    "print(\"\\nClassification Report:\")\n",
    "print(classification_report(y_test, y_pred_smote, target_names=label_encoder.classes_))"
   ]
  },
  {
   "cell_type": "code",
   "execution_count": 54,
   "id": "ed13f322",
   "metadata": {},
   "outputs": [
    {
     "data": {
      "image/png": "[encoded data removed]",
      "text/plain": [
       "<Figure size 800x600 with 2 Axes>"
      ]
     },
     "metadata": {},
     "output_type": "display_data"
    }
   ],
   "source": [
    "# Confusion Matrix\n",
    "cm_smote = confusion_matrix(y_test, y_pred_smote)\n",
    "\n",
    "plt.figure(figsize=(8, 6))\n",
    "sns.heatmap(cm_smote, annot=True, fmt=\"d\", cmap=\"Blues\",\n",
    "            xticklabels=label_encoder.classes_, yticklabels=label_encoder.classes_)\n",
    "plt.title(\"Confusion Matrix - KNN + SMOTE\")\n",
    "plt.xlabel(\"Predicted Label\")\n",
    "plt.ylabel(\"True Label\")\n",
    "plt.tight_layout()\n",
    "plt.show()"
   ]
  },
  {
   "cell_type": "markdown",
   "id": "41608457",
   "metadata": {},
   "source": [
    "## 8. Testing Different K Values dengan SMOTE"
   ]
  },
  {
   "cell_type": "code",
   "execution_count": 55,
   "id": "2187ee19",
   "metadata": {},
   "outputs": [
    {
     "name": "stdout",
     "output_type": "stream",
     "text": [
      "Testing different k values with SMOTE...\n",
      "k=1: Accuracy = 0.8909\n",
      "k=2: Accuracy = 0.8909\n",
      "k=3: Accuracy = 0.9136\n",
      "k=4: Accuracy = 0.9045\n",
      "k=5: Accuracy = 0.9091\n",
      "k=6: Accuracy = 0.9318\n",
      "k=7: Accuracy = 0.9227\n",
      "k=8: Accuracy = 0.9227\n",
      "k=9: Accuracy = 0.9227\n",
      "k=5: Accuracy = 0.9091\n",
      "k=6: Accuracy = 0.9318\n",
      "k=7: Accuracy = 0.9227\n",
      "k=8: Accuracy = 0.9227\n",
      "k=9: Accuracy = 0.9227\n",
      "k=10: Accuracy = 0.9318\n",
      "k=11: Accuracy = 0.9273\n",
      "k=12: Accuracy = 0.9318\n",
      "k=13: Accuracy = 0.9136\n",
      "k=14: Accuracy = 0.9182\n",
      "k=15: Accuracy = 0.9045\n",
      "k=16: Accuracy = 0.9091\n",
      "k=17: Accuracy = 0.9091\n",
      "k=18: Accuracy = 0.9091\n",
      "k=10: Accuracy = 0.9318\n",
      "k=11: Accuracy = 0.9273\n",
      "k=12: Accuracy = 0.9318\n",
      "k=13: Accuracy = 0.9136\n",
      "k=14: Accuracy = 0.9182\n",
      "k=15: Accuracy = 0.9045\n",
      "k=16: Accuracy = 0.9091\n",
      "k=17: Accuracy = 0.9091\n",
      "k=18: Accuracy = 0.9091\n",
      "k=19: Accuracy = 0.9000\n",
      "k=20: Accuracy = 0.9045\n",
      "\n",
      "=== BEST K VALUE untuk KNN + SMOTE ====\n",
      "Best k: 6\n",
      "Best accuracy: 0.9318 (93.18%)\n",
      "k=19: Accuracy = 0.9000\n",
      "k=20: Accuracy = 0.9045\n",
      "\n",
      "=== BEST K VALUE untuk KNN + SMOTE ====\n",
      "Best k: 6\n",
      "Best accuracy: 0.9318 (93.18%)\n"
     ]
    }
   ],
   "source": [
    "# Test different k values with SMOTE\n",
    "k_values = range(1, 21)\n",
    "accuracies_smote = []\n",
    "\n",
    "print(\"Testing different k values with SMOTE...\")\n",
    "for k in k_values:\n",
    "    knn_smote_pipeline.set_params(knn__n_neighbors=k)\n",
    "    knn_smote_pipeline.fit(X_train, y_train)\n",
    "    y_pred_k = knn_smote_pipeline.predict(X_test)\n",
    "    acc = accuracy_score(y_test, y_pred_k)\n",
    "    accuracies_smote.append(acc)\n",
    "    print(f\"k={k}: Accuracy = {acc:.4f}\")\n",
    "\n",
    "# Find best k for SMOTE\n",
    "best_k_smote = k_values[np.argmax(accuracies_smote)]\n",
    "best_accuracy_smote = max(accuracies_smote)\n",
    "\n",
    "print(f\"\\n=== BEST K VALUE untuk KNN + SMOTE ====\")\n",
    "print(f\"Best k: {best_k_smote}\")\n",
    "print(f\"Best accuracy: {best_accuracy_smote:.4f} ({best_accuracy_smote*100:.2f}%)\")"
   ]
  },
  {
   "cell_type": "code",
   "execution_count": 56,
   "id": "764068ba",
   "metadata": {},
   "outputs": [
    {
     "data": {
      "image/png": "[encoded data removed]",
      "text/plain": [
       "<Figure size 1000x600 with 1 Axes>"
      ]
     },
     "metadata": {},
     "output_type": "display_data"
    }
   ],
   "source": [
    "# Plot accuracy vs k for SMOTE\n",
    "plt.figure(figsize=(10, 6))\n",
    "plt.plot(k_values, accuracies_smote, marker='o', linewidth=2, markersize=6, color='green')\n",
    "plt.axvline(x=best_k_smote, color='red', linestyle='--', alpha=0.7, label=f'Best k={best_k_smote}')\n",
    "plt.title('Accuracy vs. Number of Neighbors (k) - KNN + SMOTE')\n",
    "plt.xlabel('k (Number of Neighbors)')\n",
    "plt.ylabel('Accuracy')\n",
    "plt.grid(True, alpha=0.3)\n",
    "plt.legend()\n",
    "plt.xticks(k_values)\n",
    "plt.tight_layout()\n",
    "plt.show()"
   ]
  },
  {
   "cell_type": "markdown",
   "id": "f27a5a1e",
   "metadata": {},
   "source": [
    "## 9. Final Model dengan Best K"
   ]
  },
  {
   "cell_type": "code",
   "execution_count": 57,
   "id": "4b531a21",
   "metadata": {},
   "outputs": [
    {
     "name": "stdout",
     "output_type": "stream",
     "text": [
      "=== FINAL MODEL PERFORMANCE (KNN + SMOTE) ====\n",
      "Final model dengan k=6\n",
      "Final accuracy: 0.9318 (93.18%)\n",
      "\n",
      "Final Classification Report:\n",
      "              precision    recall  f1-score   support\n",
      "\n",
      "    Insomnia       0.96      0.88      0.92        59\n",
      "      Normal       0.91      0.97      0.94       101\n",
      " Sleep Apnea       0.95      0.92      0.93        60\n",
      "\n",
      "    accuracy                           0.93       220\n",
      "   macro avg       0.94      0.92      0.93       220\n",
      "weighted avg       0.93      0.93      0.93       220\n",
      "\n"
     ]
    }
   ],
   "source": [
    "# Train final model with best k\n",
    "final_knn_smote = ImbPipeline(steps=[\n",
    "    ('preprocessor', preprocessor),\n",
    "    ('smote', SMOTE(random_state=42)),\n",
    "    ('knn', KNeighborsClassifier(n_neighbors=best_k_smote))\n",
    "])\n",
    "\n",
    "final_knn_smote.fit(X_train, y_train)\n",
    "final_pred_smote = final_knn_smote.predict(X_test)\n",
    "final_accuracy_smote = accuracy_score(y_test, final_pred_smote)\n",
    "\n",
    "print(\"=== FINAL MODEL PERFORMANCE (KNN + SMOTE) ====\")\n",
    "print(f\"Final model dengan k={best_k_smote}\")\n",
    "print(f\"Final accuracy: {final_accuracy_smote:.4f} ({final_accuracy_smote*100:.2f}%)\")\n",
    "print(\"\\nFinal Classification Report:\")\n",
    "print(classification_report(y_test, final_pred_smote, target_names=label_encoder.classes_))"
   ]
  },
  {
   "cell_type": "markdown",
   "id": "f2ebd012",
   "metadata": {},
   "source": [
    "## 10. Comparison with Original Data"
   ]
  },
  {
   "cell_type": "code",
   "execution_count": 58,
   "id": "8e437bb8",
   "metadata": {},
   "outputs": [
    {
     "name": "stdout",
     "output_type": "stream",
     "text": [
      "=== COMPARISON: KNN vs KNN + SMOTE ====\n",
      "KNN Original (k=6): 0.9318 (93.18%)\n",
      "KNN + SMOTE (k=6): 0.9318 (93.18%)\n",
      "Improvement: 0.00 percentage points\n"
     ]
    }
   ],
   "source": [
    "# Train KNN without SMOTE for comparison\n",
    "knn_original = Pipeline(steps=[\n",
    "    ('preprocessor', preprocessor),\n",
    "    ('knn', KNeighborsClassifier(n_neighbors=best_k_smote))\n",
    "])\n",
    "\n",
    "knn_original.fit(X_train, y_train)\n",
    "pred_original = knn_original.predict(X_test)\n",
    "accuracy_original = accuracy_score(y_test, pred_original)\n",
    "\n",
    "print(\"=== COMPARISON: KNN vs KNN + SMOTE ====\")\n",
    "print(f\"KNN Original (k={best_k_smote}): {accuracy_original:.4f} ({accuracy_original*100:.2f}%)\")\n",
    "print(f\"KNN + SMOTE (k={best_k_smote}): {final_accuracy_smote:.4f} ({final_accuracy_smote*100:.2f}%)\")\n",
    "print(f\"Improvement: {(final_accuracy_smote - accuracy_original)*100:.2f} percentage points\")"
   ]
  },
  {
   "cell_type": "markdown",
   "id": "04f911da",
   "metadata": {},
   "source": [
    "## Summary\n",
    "\n",
    "**KNN + SMOTE Results:**\n",
    "- **Data before SMOTE**: Class distribution as shown above\n",
    "- **Data after SMOTE**: Balanced class distribution\n",
    "- **Best k value**: Determined through systematic testing\n",
    "- **Performance improvement**: Comparison with original KNN\n",
    "- **SMOTE Impact**: Addresses class imbalance by generating synthetic samples"
   ]
  }
 ],
 "metadata": {
  "kernelspec": {
   "display_name": "Python 3",
   "language": "python",
   "name": "python3"
  },
  "language_info": {
   "codemirror_mode": {
    "name": "ipython",
    "version": 3
   },
   "file_extension": ".py",
   "mimetype": "text/x-python",
   "name": "python",
   "nbconvert_exporter": "python",
   "pygments_lexer": "ipython3",
   "version": "3.12.6"
  }
 },
 "nbformat": 4,
 "nbformat_minor": 5
}
