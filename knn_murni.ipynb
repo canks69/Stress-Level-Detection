{
  "cells": [
    {
      "cell_type": "markdown",
      "id": "8218d914",
      "metadata": {
        "id": "8218d914"
      },
      "source": [
        "# KNN Murni - Stress Level Detection\n",
        "\n",
        "Implementasi KNN dasar tanpa optimasi tambahan untuk klasifikasi tingkat stress."
      ]
    },
    {
      "cell_type": "code",
      "execution_count": null,
      "id": "b25345c4",
      "metadata": {
        "colab": {
          "base_uri": "https://localhost:8080/"
        },
        "id": "b25345c4",
        "outputId": "99599407-2bd1-4413-e575-bac185b1fec1"
      },
      "outputs": [],
      "source": [
        "!pip install --upgrade imbalanced-learn\n",
        "!pip install scikit-learn\n",
        "!pip install pandas\n",
        "!pip install matplotlib\n",
        "!pip install seaborn"
      ]
    },
    {
      "cell_type": "code",
      "execution_count": null,
      "id": "5d11629b",
      "metadata": {
        "colab": {
          "base_uri": "https://localhost:8080/"
        },
        "id": "5d11629b",
        "outputId": "c3025dd8-1b90-4348-ee68-1e49de0a130d"
      },
      "outputs": [],
      "source": [
        "import pandas as pd\n",
        "import numpy as np\n",
        "import matplotlib.pyplot as plt\n",
        "import seaborn as sns\n",
        "from sklearn.model_selection import train_test_split\n",
        "from sklearn.preprocessing import LabelEncoder, StandardScaler, OneHotEncoder\n",
        "from sklearn.impute import SimpleImputer\n",
        "from sklearn.compose import ColumnTransformer\n",
        "from sklearn.pipeline import Pipeline\n",
        "from sklearn.neighbors import KNeighborsClassifier\n",
        "from sklearn.metrics import accuracy_score, classification_report, confusion_matrix\n",
        "\n",
        "print(\"✅ Library berhasil diimport\")"
      ]
    },
    {
      "cell_type": "markdown",
      "id": "a07bc8d0",
      "metadata": {
        "id": "a07bc8d0"
      },
      "source": [
        "## 1. Data Loading dan Preprocessing"
      ]
    },
    {
      "cell_type": "code",
      "execution_count": null,
      "id": "aea62c20",
      "metadata": {
        "colab": {
          "base_uri": "https://localhost:8080/",
          "height": 258
        },
        "id": "aea62c20",
        "outputId": "004aa4c7-c21e-4348-cb6f-d99d29532ab5"
      },
      "outputs": [],
      "source": [
        "FILE_PATH = './dataset/fix dataset 1031.csv'\n",
        "\n",
        "# Read CSV with semicolon as separator and handle mixed decimal separators\n",
        "df = pd.read_csv(FILE_PATH, sep=';', decimal='.')\n",
        "dataset = df.copy()\n",
        "\n",
        "# Tampilkan Semua row pada kolom pertama yang memiliki nilai NaN\n",
        "print(\"📊 DATASET INFORMATION:\")\n",
        "print(\"Jumlah baris yang memiliki nilai NaN pada kolom pertama:\", dataset[dataset.columns[0]].isna().sum())\n",
        "\n",
        "# Bersihkan data dengan menghapus baris yang memiliki nilai NaN pada kolom pertama\n",
        "dataset = dataset.dropna(subset=[dataset.columns[0]])\n",
        "\n",
        "print(\"Dataset shape:\", dataset.shape)\n",
        "display(dataset.head())"
      ]
    },
    {
      "cell_type": "code",
      "execution_count": null,
      "id": "1a61186b",
      "metadata": {
        "colab": {
          "base_uri": "https://localhost:8080/",
          "height": 132
        },
        "id": "1a61186b",
        "outputId": "8b107ffc-906b-45f8-9ba7-865f7ab14a75"
      },
      "outputs": [],
      "source": [
        "# Check for missing values\n",
        "print(\"Missing values per column:\")\n",
        "nan_counts = dataset.isna().sum()\n",
        "display(nan_counts[nan_counts > 0])"
      ]
    },
    {
      "cell_type": "code",
      "execution_count": null,
      "id": "aac48ee3",
      "metadata": {
        "colab": {
          "base_uri": "https://localhost:8080/",
          "height": 275
        },
        "id": "aac48ee3",
        "outputId": "3a456da1-3b66-497f-f792-24aee45a0921"
      },
      "outputs": [],
      "source": [
        "# Fill missing values in Sleep Disorder with 'Normal'\n",
        "dataset['Sleep Disorder'] = dataset['Sleep Disorder'].fillna('Normal')\n",
        "\n",
        "# Split Blood Pressure column\n",
        "if 'Blood Pressure' in dataset.columns:\n",
        "    dataset[['Systolic', 'Diastolic']] = dataset['Blood Pressure'].str.split('/', expand=True)\n",
        "    dataset['Systolic'] = pd.to_numeric(dataset['Systolic'], errors='coerce')\n",
        "    dataset['Diastolic'] = pd.to_numeric(dataset['Diastolic'], errors='coerce')\n",
        "    dataset = dataset.drop('Blood Pressure', axis=1)\n",
        "\n",
        "# Clean numeric columns\n",
        "kolom_numerik = [\"Sleep Duration\", \"Heart Rate\", \"Daily Steps\", \"Systolic\", \"Diastolic\"]\n",
        "for col in kolom_numerik:\n",
        "    if col in dataset.columns:\n",
        "        dataset[col] = dataset[col].apply(lambda x: str(x).replace(',', '.') if isinstance(x, str) else x)\n",
        "        dataset[col] = pd.to_numeric(dataset[col], errors='coerce')\n",
        "\n",
        "print(\"✅ Data preprocessing selesai\")\n",
        "display(dataset.head())"
      ]
    },
    {
      "cell_type": "markdown",
      "id": "aaf677e0",
      "metadata": {
        "id": "aaf677e0"
      },
      "source": [
        "## 2. Target Encoding dan Feature Selection"
      ]
    },
    {
      "cell_type": "code",
      "execution_count": null,
      "id": "af86972d",
      "metadata": {
        "colab": {
          "base_uri": "https://localhost:8080/",
          "height": 629
        },
        "id": "af86972d",
        "outputId": "ae94d8af-6960-4030-d160-1d9062608b2d"
      },
      "outputs": [],
      "source": [
        "# Label encoding for target\n",
        "label_encoder = LabelEncoder()\n",
        "target_encoded = label_encoder.fit_transform(dataset['Sleep Disorder'])\n",
        "\n",
        "print(\"Target classes:\", label_encoder.classes_)\n",
        "print(\"Encoded values:\", np.unique(target_encoded))\n",
        "\n",
        "# Show class distribution\n",
        "print(\"\\n=== DISTRIBUSI KELAS ORIGINAL ====\")\n",
        "class_counts = pd.Series(target_encoded).value_counts().sort_index()\n",
        "for i, count in enumerate(class_counts):\n",
        "    print(f\"{label_encoder.classes_[i]}: {count} samples\")\n",
        "\n",
        "# Visualize class distribution\n",
        "plt.figure(figsize=(8, 5))\n",
        "sns.countplot(data=dataset, x='Sleep Disorder')\n",
        "plt.title('Distribusi Kelas Target (Original)')\n",
        "plt.xticks(rotation=45)\n",
        "plt.tight_layout()\n",
        "plt.show()"
      ]
    },
    {
      "cell_type": "code",
      "execution_count": null,
      "id": "3a1562d6",
      "metadata": {
        "colab": {
          "base_uri": "https://localhost:8080/",
          "height": 240
        },
        "id": "3a1562d6",
        "outputId": "9aeb5845-66b5-4475-fbbf-0523f1d6bc81"
      },
      "outputs": [],
      "source": [
        "# Select features\n",
        "feature_columns = [\"Gender\", \"Age\", \"Occupation\", \"Sleep Duration\", \"Quality of Sleep\",\n",
        "                  \"Physical Activity Level\", \"Stress Level\", \"BMI Category\", \"Systolic\", \"Diastolic\"]\n",
        "\n",
        "# Filter only existing columns\n",
        "available_features = [col for col in feature_columns if col in dataset.columns]\n",
        "features = dataset[available_features]\n",
        "\n",
        "print(\"Selected features:\", available_features)\n",
        "print(\"Features shape:\", features.shape)\n",
        "display(features.head())"
      ]
    },
    {
      "cell_type": "markdown",
      "id": "c62f6a5e",
      "metadata": {
        "id": "c62f6a5e"
      },
      "source": [
        "## 3. Data Splitting"
      ]
    },
    {
      "cell_type": "code",
      "execution_count": null,
      "id": "81986837",
      "metadata": {
        "colab": {
          "base_uri": "https://localhost:8080/"
        },
        "id": "81986837",
        "outputId": "2032690b-090c-44a5-f278-ad7c79dce32b"
      },
      "outputs": [],
      "source": [
        "# Split data\n",
        "X_train, X_test, y_train, y_test = train_test_split(\n",
        "    features, target_encoded, test_size=0.2, random_state=42, stratify=target_encoded\n",
        ")\n",
        "\n",
        "print(\"=== DATA SPLIT ====\")\n",
        "print(f\"Training set: {len(X_train)} samples\")\n",
        "print(f\"Test set: {len(X_test)} samples\")\n",
        "\n",
        "print(\"\\nDistribusi y_train:\")\n",
        "train_dist = pd.Series(y_train).value_counts().sort_index()\n",
        "for i, count in enumerate(train_dist):\n",
        "    print(f\"{label_encoder.classes_[i]}: {count} samples\")\n",
        "\n",
        "print(\"\\nDistribusi y_test:\")\n",
        "test_dist = pd.Series(y_test).value_counts().sort_index()\n",
        "for i, count in enumerate(test_dist):\n",
        "    print(f\"{label_encoder.classes_[i]}: {count} samples\")"
      ]
    },
    {
      "cell_type": "markdown",
      "id": "563473d1",
      "metadata": {
        "id": "563473d1"
      },
      "source": [
        "## 4. Pipeline Setup"
      ]
    },
    {
      "cell_type": "code",
      "execution_count": null,
      "id": "96c359db",
      "metadata": {
        "colab": {
          "base_uri": "https://localhost:8080/"
        },
        "id": "96c359db",
        "outputId": "66c5ad49-d6f3-4a5d-969e-a8a98fd5b35f"
      },
      "outputs": [],
      "source": [
        "# Define numerical and categorical features\n",
        "numerical_features = [col for col in available_features if features[col].dtype in ['int64', 'float64']]\n",
        "categorical_features = [col for col in available_features if features[col].dtype == 'object']\n",
        "\n",
        "print(\"Numerical features:\", numerical_features)\n",
        "print(\"Categorical features:\", categorical_features)\n",
        "\n",
        "# Create preprocessors\n",
        "numerical_transformer = Pipeline(steps=[\n",
        "    ('imputer', SimpleImputer(strategy='mean')),\n",
        "    ('scaler', StandardScaler())\n",
        "])\n",
        "\n",
        "categorical_transformer = Pipeline(steps=[\n",
        "    ('imputer', SimpleImputer(strategy='most_frequent')),\n",
        "    ('onehot', OneHotEncoder(handle_unknown='ignore'))\n",
        "])\n",
        "\n",
        "# Combine preprocessors\n",
        "preprocessor = ColumnTransformer(transformers=[\n",
        "    ('num', numerical_transformer, numerical_features),\n",
        "    ('cat', categorical_transformer, categorical_features)\n",
        "])\n",
        "\n",
        "print(\"✅ Preprocessor pipeline created\")"
      ]
    },
    {
      "cell_type": "markdown",
      "id": "07dab6e8",
      "metadata": {
        "id": "07dab6e8"
      },
      "source": [
        "## 5. KNN Murni Training"
      ]
    },
    {
      "cell_type": "code",
      "execution_count": null,
      "id": "a794fc90",
      "metadata": {
        "colab": {
          "base_uri": "https://localhost:8080/"
        },
        "id": "a794fc90",
        "outputId": "a6259ea7-5fe8-4e48-c291-bb620a05efd6"
      },
      "outputs": [],
      "source": [
        "# Create KNN pipeline with default parameters (k=5)\n",
        "knn_pipeline = Pipeline(steps=[\n",
        "    ('preprocessor', preprocessor),\n",
        "    ('knn', KNeighborsClassifier())\n",
        "])\n",
        "\n",
        "# Train the model\n",
        "print(\"Training KNN model...\")\n",
        "knn_pipeline.fit(X_train, y_train)\n",
        "print(\"✅ Model training completed\")"
      ]
    },
    {
      "cell_type": "markdown",
      "id": "062fc7ef",
      "metadata": {
        "id": "062fc7ef"
      },
      "source": [
        "## 6. Model Evaluation"
      ]
    },
    {
      "cell_type": "code",
      "execution_count": null,
      "id": "9d0032be",
      "metadata": {
        "colab": {
          "base_uri": "https://localhost:8080/"
        },
        "id": "9d0032be",
        "outputId": "43f442fb-5048-4e4f-b945-6f6b7ce4e8cf"
      },
      "outputs": [],
      "source": [
        "# Make predictions\n",
        "y_pred = knn_pipeline.predict(X_test)\n",
        "\n",
        "# Calculate accuracy\n",
        "accuracy = accuracy_score(y_test, y_pred)\n",
        "\n",
        "print(\"=== HASIL EVALUASI KNN MURNI ====\")\n",
        "print(f\"Akurasi: {accuracy:.4f} ({accuracy*100:.2f}%)\")\n",
        "print(\"\\nClassification Report:\")\n",
        "print(classification_report(y_test, y_pred, target_names=label_encoder.classes_))"
      ]
    },
    {
      "cell_type": "code",
      "execution_count": null,
      "id": "caabe99a",
      "metadata": {
        "colab": {
          "base_uri": "https://localhost:8080/",
          "height": 607
        },
        "id": "caabe99a",
        "outputId": "3fd60dcb-87bd-4e00-d395-cf446e9497ab"
      },
      "outputs": [],
      "source": [
        "# Confusion Matrix\n",
        "cm = confusion_matrix(y_test, y_pred)\n",
        "\n",
        "plt.figure(figsize=(8, 6))\n",
        "sns.heatmap(cm, annot=True, fmt=\"d\", cmap=\"Blues\",\n",
        "            xticklabels=label_encoder.classes_, yticklabels=label_encoder.classes_)\n",
        "plt.title(\"Confusion Matrix - KNN Murni\")\n",
        "plt.xlabel(\"Predicted Label\")\n",
        "plt.ylabel(\"True Label\")\n",
        "plt.tight_layout()\n",
        "plt.show()"
      ]
    },
    {
      "cell_type": "markdown",
      "id": "9be0235a",
      "metadata": {
        "id": "9be0235a"
      },
      "source": [
        "## 7. Testing Different K Values"
      ]
    },
    {
      "cell_type": "code",
      "execution_count": null,
      "id": "940cc181",
      "metadata": {
        "colab": {
          "base_uri": "https://localhost:8080/"
        },
        "id": "940cc181",
        "outputId": "349dc8d4-4fbb-42c0-a419-17dd5cb4bef9"
      },
      "outputs": [],
      "source": [
        "# Test different k values\n",
        "k_values = range(1, 21)\n",
        "accuracies = []\n",
        "\n",
        "print(\"Testing different k values...\")\n",
        "for k in k_values:\n",
        "    knn_pipeline.set_params(knn__n_neighbors=k)\n",
        "    knn_pipeline.fit(X_train, y_train)\n",
        "    y_pred_k = knn_pipeline.predict(X_test)\n",
        "    acc = accuracy_score(y_test, y_pred_k)\n",
        "    accuracies.append(acc)\n",
        "    print(f\"k={k}: Accuracy = {acc:.4f}\")\n",
        "\n",
        "# Find best k\n",
        "best_k = k_values[np.argmax(accuracies)]\n",
        "best_accuracy = max(accuracies)\n",
        "\n",
        "print(f\"\\n=== BEST K VALUE ====\")\n",
        "print(f\"Best k: {best_k}\")\n",
        "print(f\"Best accuracy: {best_accuracy:.4f} ({best_accuracy*100:.2f}%)\")"
      ]
    },
    {
      "cell_type": "code",
      "execution_count": null,
      "id": "488cc267",
      "metadata": {
        "colab": {
          "base_uri": "https://localhost:8080/",
          "height": 607
        },
        "id": "488cc267",
        "outputId": "d71f0a23-274e-4b9d-bbb4-1f38c5e41bb7"
      },
      "outputs": [],
      "source": [
        "# Plot accuracy vs k\n",
        "plt.figure(figsize=(10, 6))\n",
        "plt.plot(k_values, accuracies, marker='o', linewidth=2, markersize=6)\n",
        "plt.axvline(x=best_k, color='red', linestyle='--', alpha=0.7, label=f'Best k={best_k}')\n",
        "plt.title('Accuracy vs. Number of Neighbors (k) - KNN Murni')\n",
        "plt.xlabel('k (Number of Neighbors)')\n",
        "plt.ylabel('Accuracy')\n",
        "plt.grid(True, alpha=0.3)\n",
        "plt.legend()\n",
        "plt.xticks(k_values)\n",
        "plt.tight_layout()\n",
        "plt.show()"
      ]
    },
    {
      "cell_type": "markdown",
      "id": "9ed6cc5b",
      "metadata": {
        "id": "9ed6cc5b"
      },
      "source": [
        "## 8. Final Model dengan Best K"
      ]
    },
    {
      "cell_type": "code",
      "execution_count": null,
      "id": "6d6adf98",
      "metadata": {
        "colab": {
          "base_uri": "https://localhost:8080/"
        },
        "id": "6d6adf98",
        "outputId": "4cb9b948-f641-426e-b132-99f24bb09297"
      },
      "outputs": [],
      "source": [
        "# Train final model with best k\n",
        "final_knn = Pipeline(steps=[\n",
        "    ('preprocessor', preprocessor),\n",
        "    ('knn', KNeighborsClassifier())\n",
        "])\n",
        "\n",
        "final_knn.fit(X_train, y_train)\n",
        "final_pred = final_knn.predict(X_test)\n",
        "final_accuracy = accuracy_score(y_test, final_pred)\n",
        "\n",
        "print(\"=== FINAL MODEL PERFORMANCE ====\")\n",
        "print(f\"Final model dengan k={best_k}\")\n",
        "print(f\"Final accuracy: {final_accuracy:.4f} ({final_accuracy*100:.2f}%)\")\n",
        "print(\"\\nFinal Classification Report:\")\n",
        "print(classification_report(y_test, final_pred, target_names=label_encoder.classes_))"
      ]
    },
    {
      "cell_type": "markdown",
      "id": "71d40f81",
      "metadata": {
        "id": "71d40f81"
      },
      "source": [
        "## Summary\n",
        "\n",
        "**KNN Murni Results:**\n",
        "- Dataset menggunakan data asli tanpa balancing\n",
        "- Best k value yang ditemukan melalui testing manual\n",
        "- Akurasi final model dengan hyperparameter terbaik"
      ]
    },
    {
      "cell_type": "code",
      "execution_count": null,
      "id": "94c0d60b",
      "metadata": {
        "id": "94c0d60b"
      },
      "outputs": [],
      "source": [
        "# pip install --upgrade imbalanced-learn"
      ]
    },
    {
      "cell_type": "code",
      "execution_count": null,
      "id": "8686e172",
      "metadata": {
        "id": "8686e172"
      },
      "outputs": [],
      "source": [
        "# pip install pandas matplotlib seaborn"
      ]
    },
    {
      "cell_type": "code",
      "execution_count": null,
      "id": "ddad70e9",
      "metadata": {
        "id": "ddad70e9"
      },
      "outputs": [],
      "source": [
        "import numpy as np\n",
        "import pandas as pd\n",
        "from sklearn.model_selection import train_test_split, GridSearchCV\n",
        "from sklearn.preprocessing import StandardScaler, OneHotEncoder, LabelEncoder\n",
        "from sklearn.compose import ColumnTransformer\n",
        "from sklearn.pipeline import Pipeline\n",
        "from sklearn.impute import SimpleImputer\n",
        "from sklearn.neighbors import KNeighborsClassifier\n",
        "from sklearn.metrics import classification_report, accuracy_score, confusion_matrix\n",
        "\n",
        "\n",
        "import matplotlib.pyplot as plt\n",
        "import seaborn as sns"
      ]
    },
    {
      "cell_type": "code",
      "execution_count": null,
      "id": "ca3f85cb",
      "metadata": {
        "colab": {
          "base_uri": "https://localhost:8080/",
          "height": 240
        },
        "id": "ca3f85cb",
        "outputId": "0c4487ac-fe63-4512-f33e-11014f380c2f"
      },
      "outputs": [],
      "source": [
        "import pandas as pd\n",
        "\n",
        "FILE_PATH = './dataset/fix dataset 1031.csv'\n",
        "\n",
        "# Membaca file CSV dengan delimiter ';'\n",
        "df = pd.read_csv(FILE_PATH, delimiter=';')\n",
        "dataset = df.copy()\n",
        "\n",
        "# Menampilkan judul\n",
        "print(\"Dataset Original\")\n",
        "print(\"==================================\")\n",
        "\n",
        "# Menampilkan tabel dengan format rapi\n",
        "display(dataset.head())  # jika menggunakan Jupyter/Colab\n"
      ]
    },
    {
      "cell_type": "code",
      "execution_count": null,
      "id": "adf4b3f3",
      "metadata": {
        "colab": {
          "base_uri": "https://localhost:8080/",
          "height": 931
        },
        "id": "adf4b3f3",
        "outputId": "bcb49f33-4b56-423b-f7bb-67e6b46321c6"
      },
      "outputs": [],
      "source": [
        "# Menampilkan jumlah data NaN per kolom dalam bentuk tabel\n",
        "nan_count = df.isna().sum()\n",
        "nan_count_df = nan_count.reset_index()\n",
        "nan_count_df.columns = ['Kolom', 'Jumlah NaN']\n",
        "print(\"Jumlah data NaN per kolom:\")\n",
        "display(nan_count_df)\n",
        "\n",
        "# Menampilkan hanya kolom yang memiliki NaN\n",
        "nan_only = df[df.columns[df.isna().any()]].isna().sum()\n",
        "nan_only_df = nan_only.reset_index()\n",
        "nan_only_df.columns = ['Kolom', 'Jumlah NaN']\n",
        "print(\"Kolom yang memiliki nilai NaN:\")\n",
        "display(nan_only_df)"
      ]
    },
    {
      "cell_type": "code",
      "execution_count": null,
      "id": "1f311f57",
      "metadata": {
        "colab": {
          "base_uri": "https://localhost:8080/",
          "height": 240
        },
        "id": "1f311f57",
        "outputId": "50c46701-62a9-4edc-edc3-c182122d800e"
      },
      "outputs": [],
      "source": [
        "# Ganti Label NaN ke Normal\n",
        "print(\"Step 1: Mengisi kolom yang NaN menjadi Kategori Normal\")\n",
        "print(\"==================================\")\n",
        "dataset[\"Sleep Disorder\"] = dataset[\"Sleep Disorder\"].fillna(\"Normal\")\n",
        "display(dataset.head())\n"
      ]
    },
    {
      "cell_type": "code",
      "execution_count": null,
      "id": "b1603396",
      "metadata": {
        "id": "b1603396"
      },
      "outputs": [],
      "source": [
        "# Label Encoding untuk target\n",
        "label_encoder = LabelEncoder()\n",
        "target_encoded = label_encoder.fit_transform(dataset[\"Sleep Disorder\"])"
      ]
    },
    {
      "cell_type": "code",
      "execution_count": null,
      "id": "74f76485",
      "metadata": {
        "colab": {
          "base_uri": "https://localhost:8080/"
        },
        "id": "74f76485",
        "outputId": "171fc24f-4f09-4746-acd1-da413cae3216"
      },
      "outputs": [],
      "source": [
        "# Label encoding\n",
        "print(\"\\n--- Sebelum Encoding Target ---\")\n",
        "\n",
        "# Define the 'target' variable here\n",
        "target = dataset[\"Sleep Disorder\"] # Assign the original target column\n",
        "\n",
        "print(\"Tipe data target:\", target.dtype)\n",
        "print(\"Nilai unik target:\", target.unique())\n",
        "\n",
        "#label_encoder = LabelEncoder() # This line is commented out, which is fine as it was already initialized\n",
        "#target_encoded = label_encoder.fit_transform(target) # This line is also commented out, which is fine as target_encoded was created in the previous cell\n",
        "\n",
        "print(\"\\n--- Setelah Encoding Target ---\")\n",
        "# Ensure target_encoded exists before using it. It is created in the previous cell.\n",
        "print(\"Tipe data target (setelah encoding):\", target_encoded.dtype)\n",
        "print(\"Nilai unik target (setelah encoding):\", pd.Series(target_encoded).unique())\n",
        "print(\"Mapping LabelEncoder:\", list(label_encoder.classes_), \"->\", list(range(len(label_encoder.classes_))))"
      ]
    },
    {
      "cell_type": "code",
      "execution_count": null,
      "id": "3af77f4e",
      "metadata": {
        "colab": {
          "base_uri": "https://localhost:8080/",
          "height": 293
        },
        "id": "3af77f4e",
        "outputId": "b93371aa-5928-4cbb-e456-e224f3aacb0f"
      },
      "outputs": [],
      "source": [
        "from IPython.display import display\n",
        "import pandas as pd # Pastikan pandas diimpor jika cell ini dijalankan secara terpisah\n",
        "\n",
        "# Memisahkan kolom 'Blood Pressure'\n",
        "if 'Blood Pressure' in dataset.columns:\n",
        "    dataset[['Systolic', 'Diastolic']] = dataset['Blood Pressure'].str.split('/', expand=True)\n",
        "    dataset['Systolic'] = pd.to_numeric(dataset['Systolic'], errors='coerce')\n",
        "    dataset['Diastolic'] = pd.to_numeric(dataset['Diastolic'], errors='coerce')\n",
        "    # Hapus kolom 'blood pressure' yang asli jika sudah tidak diperlukan\n",
        "    dataset = dataset.drop('Blood Pressure', axis=1)\n",
        "\n",
        "    # Tampilkan dengan format tabel\n",
        "    print(\"Dataset setelah memisahkan 'Blood Pressure':\")\n",
        "    print(\"=============================================\")\n",
        "    display(dataset.head())\n",
        "else:\n",
        "    print(\"'Blood Pressure' column not found in the dataset. It might have been processed already.\")\n",
        "    # You might want to display the current dataset head here as well\n",
        "    display(dataset.head())\n"
      ]
    },
    {
      "cell_type": "code",
      "execution_count": null,
      "id": "5569b403",
      "metadata": {
        "id": "5569b403"
      },
      "outputs": [],
      "source": [
        "# *** Move the data cleaning code here ***\n",
        "# Daftar kolom numerik yang perlu dibersihkan dari koma\n",
        "kolom_numerik = [\"Sleep Duration\", \"Heart Rate\", \"Daily Steps\", \"Systolic\", \"Diastolic\"] # Added Systolic and Diastolic assuming they might have commas initially before split\n"
      ]
    },
    {
      "cell_type": "code",
      "execution_count": null,
      "id": "64367b0f",
      "metadata": {
        "colab": {
          "base_uri": "https://localhost:8080/",
          "height": 659
        },
        "id": "64367b0f",
        "outputId": "36061dd3-78fa-44ed-ca45-081ef19319ea"
      },
      "outputs": [],
      "source": [
        "# Memisahkan fitur dan target\n",
        "features = dataset[[\"Gender\", \"Age\", \"Occupation\", \"Sleep Duration\",\n",
        "                     \"Quality of Sleep\", \"Physical Activity Level\",\n",
        "                     \"Stress Level\", \"BMI Category\", \"Systolic\", \"Diastolic\"]]\n",
        "target = dataset[\"Sleep Disorder\"]\n",
        "\n",
        "print(\"\\nStep 2: Memisahkan fitur dan target\")\n",
        "print(\"==================================\")\n",
        "print(\"Features (head):\")\n",
        "display(features.head(7))\n",
        "print(\"\\nTarget (head):\")\n",
        "display(target.head(7))\n"
      ]
    },
    {
      "cell_type": "code",
      "execution_count": null,
      "id": "47659505",
      "metadata": {
        "colab": {
          "base_uri": "https://localhost:8080/"
        },
        "id": "47659505",
        "outputId": "871e6b7d-de91-420c-9a68-5f54c113bbbd"
      },
      "outputs": [],
      "source": [
        "numerical_column = 'Physical Activity Level' # Example: Replace with the actual numerical column name\n",
        "\n",
        "# Check if the column is numeric before proceeding\n",
        "if pd.api.types.is_numeric_dtype(df[numerical_column]):\n",
        "    Q1 = df[numerical_column].quantile(0.25)\n",
        "    Q3 = df[numerical_column].quantile(0.75)\n",
        "    IQR = Q3 - Q1\n",
        "\n",
        "    lower_bound = Q1 - 1.5 * IQR\n",
        "    upper_bound = Q3 + 1.5 * IQR\n",
        "\n",
        "    # Cari baris yang merupakan outlier\n",
        "    outliers = df[(df[numerical_column] < lower_bound) | (df[numerical_column] > upper_bound)]\n",
        "\n",
        "    print(f\"Jumlah outlier pada kolom '{numerical_column}': {len(outliers)}\")\n",
        "    print(outliers)\n",
        "else:\n",
        "    print(f\"Kolom '{numerical_column}' tidak bersifat numerik. Tidak dapat menghitung outlier menggunakan metode IQR.\")"
      ]
    },
    {
      "cell_type": "code",
      "execution_count": null,
      "id": "5f07faf0",
      "metadata": {
        "colab": {
          "base_uri": "https://localhost:8080/",
          "height": 460
        },
        "id": "5f07faf0",
        "outputId": "fe122215-a13b-49e4-aded-af22334c960f"
      },
      "outputs": [],
      "source": [
        "# Split data\n",
        "X_train, X_test, y_train, y_test = train_test_split(features, target_encoded, test_size=0.2, random_state=42)\n",
        "\n",
        "print(\"\\n--- Data Latih dan Uji ---\")\n",
        "print(\"Jumlah data latih:\", len(X_train))\n",
        "print(\"Jumlah data uji:\", len(X_test))\n",
        "\n",
        "print(\"Distribusi y_train:\")\n",
        "display(pd.Series(y_train).value_counts())\n",
        "\n",
        "print(\"\\nDistribusi y_test:\")\n",
        "display(pd.Series(y_test).value_counts())"
      ]
    },
    {
      "cell_type": "code",
      "execution_count": null,
      "id": "80143d34",
      "metadata": {
        "id": "80143d34"
      },
      "outputs": [],
      "source": [
        "# Mendefinisikan fitur numerik dan kategorikal\n",
        "numerical_features = [\"Age\", \"Sleep Duration\", \"Quality of Sleep\",\n",
        "                      \"Physical Activity Level\", \"Stress Level\",\"Systolic\", \"Diastolic\"]\n",
        "categorical_features = [\"Gender\", \"Occupation\", \"BMI Category\"]\n",
        "\n",
        "#Mendefinisikan Preprocessor\n",
        "numerical_transformer = Pipeline(steps=[\n",
        "    ('imputer', SimpleImputer(strategy='mean')),\n",
        "    ('scaler', StandardScaler())\n",
        "])\n",
        "\n",
        "categorical_transformer = Pipeline(steps=[\n",
        "    ('imputer', SimpleImputer(strategy='most_frequent')),\n",
        "    ('onehot', OneHotEncoder(handle_unknown='ignore'))\n",
        "])\n",
        "\n",
        "preprocessor = ColumnTransformer(transformers=[\n",
        "    ('num', numerical_transformer, numerical_features),\n",
        "    ('cat', categorical_transformer, categorical_features)\n",
        "])"
      ]
    },
    {
      "cell_type": "code",
      "execution_count": null,
      "id": "93e01e5c",
      "metadata": {
        "colab": {
          "base_uri": "https://localhost:8080/",
          "height": 1000
        },
        "id": "93e01e5c",
        "outputId": "c1b3c6a6-ff88-43d8-d681-30c3d6db3406"
      },
      "outputs": [],
      "source": [
        "display(\"Training Features (X_train):\\n\", X_train)\n",
        "display(\"\\nTraining Target (y_train):\\n\", y_train)"
      ]
    }
  ],
  "metadata": {
    "colab": {
      "provenance": []
    },
    "kernelspec": {
      "display_name": "Python 3",
      "language": "python",
      "name": "python3"
    },
    "language_info": {
      "codemirror_mode": {
        "name": "ipython",
        "version": 3
      },
      "file_extension": ".py",
      "mimetype": "text/x-python",
      "name": "python",
      "nbconvert_exporter": "python",
      "pygments_lexer": "ipython3",
      "version": "3.12.6"
    }
  },
  "nbformat": 4,
  "nbformat_minor": 5
}
