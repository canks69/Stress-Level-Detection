{
  "cells": [
    {
      "cell_type": "markdown",
      "id": "1a06a5ef",
      "metadata": {
        "id": "1a06a5ef"
      },
      "source": [
        "# SMOTE + GridSearch + KNN - Stress Level Detection\n",
        "\n",
        "Implementasi KNN dengan kombinasi SMOTE untuk mengatasi ketidakseimbangan kelas dan GridSearchCV untuk optimasi hyperparameter dalam klasifikasi tingkat stress.\n",
        "\n",
        "**Skenario**: SMOTE + GridSearch + KNN"
      ]
    },
    {
      "cell_type": "code",
      "execution_count": 1,
      "id": "57e99569",
      "metadata": {
        "id": "57e99569",
        "outputId": "57e96396-cbf7-424e-91e6-25c89944d139",
        "colab": {
          "base_uri": "https://localhost:8080/"
        }
      },
      "outputs": [
        {
          "output_type": "stream",
          "name": "stdout",
          "text": [
            "Requirement already satisfied: imbalanced-learn in /usr/local/lib/python3.11/dist-packages (0.13.0)\n",
            "Requirement already satisfied: numpy<3,>=1.24.3 in /usr/local/lib/python3.11/dist-packages (from imbalanced-learn) (2.0.2)\n",
            "Requirement already satisfied: scipy<2,>=1.10.1 in /usr/local/lib/python3.11/dist-packages (from imbalanced-learn) (1.15.3)\n",
            "Requirement already satisfied: scikit-learn<2,>=1.3.2 in /usr/local/lib/python3.11/dist-packages (from imbalanced-learn) (1.7.1)\n",
            "Requirement already satisfied: sklearn-compat<1,>=0.1 in /usr/local/lib/python3.11/dist-packages (from imbalanced-learn) (0.1.3)\n",
            "Requirement already satisfied: joblib<2,>=1.1.1 in /usr/local/lib/python3.11/dist-packages (from imbalanced-learn) (1.5.1)\n",
            "Requirement already satisfied: threadpoolctl<4,>=2.0.0 in /usr/local/lib/python3.11/dist-packages (from imbalanced-learn) (3.6.0)\n",
            "Collecting scikit-learn<2,>=1.3.2 (from imbalanced-learn)\n",
            "  Using cached scikit_learn-1.6.1-cp311-cp311-manylinux_2_17_x86_64.manylinux2014_x86_64.whl.metadata (18 kB)\n",
            "Using cached scikit_learn-1.6.1-cp311-cp311-manylinux_2_17_x86_64.manylinux2014_x86_64.whl (13.5 MB)\n",
            "Installing collected packages: scikit-learn\n",
            "  Attempting uninstall: scikit-learn\n",
            "    Found existing installation: scikit-learn 1.7.1\n",
            "    Uninstalling scikit-learn-1.7.1:\n",
            "      Successfully uninstalled scikit-learn-1.7.1\n",
            "\u001b[33mWARNING: Ignoring invalid distribution ~cikit-learn (/usr/local/lib/python3.11/dist-packages)\u001b[0m\u001b[33m\n",
            "\u001b[0mSuccessfully installed scikit-learn\n",
            "\u001b[33mWARNING: Ignoring invalid distribution ~cikit-learn (/usr/local/lib/python3.11/dist-packages)\u001b[0m\u001b[33m\n",
            "\u001b[0m\u001b[33mWARNING: Ignoring invalid distribution ~cikit-learn (/usr/local/lib/python3.11/dist-packages)\u001b[0m\u001b[33m\n",
            "\u001b[0mCollecting scikit-learn\n",
            "  Using cached scikit_learn-1.7.1-cp311-cp311-manylinux2014_x86_64.manylinux_2_17_x86_64.whl.metadata (11 kB)\n",
            "Requirement already satisfied: numpy>=1.22.0 in /usr/local/lib/python3.11/dist-packages (from scikit-learn) (2.0.2)\n",
            "Requirement already satisfied: scipy>=1.8.0 in /usr/local/lib/python3.11/dist-packages (from scikit-learn) (1.15.3)\n",
            "Requirement already satisfied: joblib>=1.2.0 in /usr/local/lib/python3.11/dist-packages (from scikit-learn) (1.5.1)\n",
            "Requirement already satisfied: threadpoolctl>=3.1.0 in /usr/local/lib/python3.11/dist-packages (from scikit-learn) (3.6.0)\n",
            "Using cached scikit_learn-1.7.1-cp311-cp311-manylinux2014_x86_64.manylinux_2_17_x86_64.whl (9.7 MB)\n",
            "\u001b[33mWARNING: Ignoring invalid distribution ~cikit-learn (/usr/local/lib/python3.11/dist-packages)\u001b[0m\u001b[33m\n",
            "\u001b[0mInstalling collected packages: scikit-learn\n",
            "\u001b[31mERROR: pip's dependency resolver does not currently take into account all the packages that are installed. This behaviour is the source of the following dependency conflicts.\n",
            "sklearn-compat 0.1.3 requires scikit-learn<1.7,>=1.2, but you have scikit-learn 1.7.1 which is incompatible.\u001b[0m\u001b[31m\n",
            "\u001b[0mSuccessfully installed scikit-learn-1.7.1\n",
            "Requirement already satisfied: pandas in /usr/local/lib/python3.11/dist-packages (2.2.2)\n",
            "Requirement already satisfied: numpy>=1.23.2 in /usr/local/lib/python3.11/dist-packages (from pandas) (2.0.2)\n",
            "Requirement already satisfied: python-dateutil>=2.8.2 in /usr/local/lib/python3.11/dist-packages (from pandas) (2.9.0.post0)\n",
            "Requirement already satisfied: pytz>=2020.1 in /usr/local/lib/python3.11/dist-packages (from pandas) (2025.2)\n",
            "Requirement already satisfied: tzdata>=2022.7 in /usr/local/lib/python3.11/dist-packages (from pandas) (2025.2)\n",
            "Requirement already satisfied: six>=1.5 in /usr/local/lib/python3.11/dist-packages (from python-dateutil>=2.8.2->pandas) (1.17.0)\n",
            "Requirement already satisfied: matplotlib in /usr/local/lib/python3.11/dist-packages (3.10.0)\n",
            "Requirement already satisfied: contourpy>=1.0.1 in /usr/local/lib/python3.11/dist-packages (from matplotlib) (1.3.2)\n",
            "Requirement already satisfied: cycler>=0.10 in /usr/local/lib/python3.11/dist-packages (from matplotlib) (0.12.1)\n",
            "Requirement already satisfied: fonttools>=4.22.0 in /usr/local/lib/python3.11/dist-packages (from matplotlib) (4.58.5)\n",
            "Requirement already satisfied: kiwisolver>=1.3.1 in /usr/local/lib/python3.11/dist-packages (from matplotlib) (1.4.8)\n",
            "Requirement already satisfied: numpy>=1.23 in /usr/local/lib/python3.11/dist-packages (from matplotlib) (2.0.2)\n",
            "Requirement already satisfied: packaging>=20.0 in /usr/local/lib/python3.11/dist-packages (from matplotlib) (25.0)\n",
            "Requirement already satisfied: pillow>=8 in /usr/local/lib/python3.11/dist-packages (from matplotlib) (11.2.1)\n",
            "Requirement already satisfied: pyparsing>=2.3.1 in /usr/local/lib/python3.11/dist-packages (from matplotlib) (3.2.3)\n",
            "Requirement already satisfied: python-dateutil>=2.7 in /usr/local/lib/python3.11/dist-packages (from matplotlib) (2.9.0.post0)\n",
            "Requirement already satisfied: six>=1.5 in /usr/local/lib/python3.11/dist-packages (from python-dateutil>=2.7->matplotlib) (1.17.0)\n",
            "Requirement already satisfied: seaborn in /usr/local/lib/python3.11/dist-packages (0.13.2)\n",
            "Requirement already satisfied: numpy!=1.24.0,>=1.20 in /usr/local/lib/python3.11/dist-packages (from seaborn) (2.0.2)\n",
            "Requirement already satisfied: pandas>=1.2 in /usr/local/lib/python3.11/dist-packages (from seaborn) (2.2.2)\n",
            "Requirement already satisfied: matplotlib!=3.6.1,>=3.4 in /usr/local/lib/python3.11/dist-packages (from seaborn) (3.10.0)\n",
            "Requirement already satisfied: contourpy>=1.0.1 in /usr/local/lib/python3.11/dist-packages (from matplotlib!=3.6.1,>=3.4->seaborn) (1.3.2)\n",
            "Requirement already satisfied: cycler>=0.10 in /usr/local/lib/python3.11/dist-packages (from matplotlib!=3.6.1,>=3.4->seaborn) (0.12.1)\n",
            "Requirement already satisfied: fonttools>=4.22.0 in /usr/local/lib/python3.11/dist-packages (from matplotlib!=3.6.1,>=3.4->seaborn) (4.58.5)\n",
            "Requirement already satisfied: kiwisolver>=1.3.1 in /usr/local/lib/python3.11/dist-packages (from matplotlib!=3.6.1,>=3.4->seaborn) (1.4.8)\n",
            "Requirement already satisfied: packaging>=20.0 in /usr/local/lib/python3.11/dist-packages (from matplotlib!=3.6.1,>=3.4->seaborn) (25.0)\n",
            "Requirement already satisfied: pillow>=8 in /usr/local/lib/python3.11/dist-packages (from matplotlib!=3.6.1,>=3.4->seaborn) (11.2.1)\n",
            "Requirement already satisfied: pyparsing>=2.3.1 in /usr/local/lib/python3.11/dist-packages (from matplotlib!=3.6.1,>=3.4->seaborn) (3.2.3)\n",
            "Requirement already satisfied: python-dateutil>=2.7 in /usr/local/lib/python3.11/dist-packages (from matplotlib!=3.6.1,>=3.4->seaborn) (2.9.0.post0)\n",
            "Requirement already satisfied: pytz>=2020.1 in /usr/local/lib/python3.11/dist-packages (from pandas>=1.2->seaborn) (2025.2)\n",
            "Requirement already satisfied: tzdata>=2022.7 in /usr/local/lib/python3.11/dist-packages (from pandas>=1.2->seaborn) (2025.2)\n",
            "Requirement already satisfied: six>=1.5 in /usr/local/lib/python3.11/dist-packages (from python-dateutil>=2.7->matplotlib!=3.6.1,>=3.4->seaborn) (1.17.0)\n"
          ]
        }
      ],
      "source": [
        "!pip install --upgrade imbalanced-learn\n",
        "!pip install --upgrade scikit-learn\n",
        "!pip install pandas\n",
        "!pip install matplotlib\n",
        "!pip install seaborn"
      ]
    },
    {
      "cell_type": "code",
      "execution_count": 3,
      "id": "bf5e599c",
      "metadata": {
        "id": "bf5e599c",
        "outputId": "06652630-e3f7-42f2-df5c-835d6b4a8918",
        "colab": {
          "base_uri": "https://localhost:8080/"
        }
      },
      "outputs": [
        {
          "output_type": "stream",
          "name": "stdout",
          "text": [
            "✅ Library berhasil diimport\n"
          ]
        }
      ],
      "source": [
        "import pandas as pd\n",
        "import numpy as np\n",
        "import matplotlib.pyplot as plt\n",
        "import seaborn as sns\n",
        "from sklearn.model_selection import train_test_split, GridSearchCV\n",
        "from sklearn.preprocessing import LabelEncoder, StandardScaler, OneHotEncoder\n",
        "from sklearn.impute import SimpleImputer\n",
        "from sklearn.compose import ColumnTransformer\n",
        "from sklearn.pipeline import Pipeline\n",
        "from sklearn.neighbors import KNeighborsClassifier\n",
        "from sklearn.metrics import accuracy_score, classification_report, confusion_matrix\n",
        "from imblearn.pipeline import Pipeline as ImbPipeline\n",
        "from imblearn.over_sampling import SMOTE\n",
        "import time\n",
        "\n",
        "print(\"✅ Library berhasil diimport\")"
      ]
    },
    {
      "cell_type": "markdown",
      "id": "102ceb1a",
      "metadata": {
        "id": "102ceb1a"
      },
      "source": [
        "## 1. Data Loading dan Preprocessing"
      ]
    },
    {
      "cell_type": "code",
      "execution_count": 4,
      "id": "b9b6372a",
      "metadata": {
        "id": "b9b6372a",
        "outputId": "7ae50318-4c53-46de-f2f0-b4e5847ba3a0",
        "colab": {
          "base_uri": "https://localhost:8080/",
          "height": 258
        }
      },
      "outputs": [
        {
          "output_type": "stream",
          "name": "stdout",
          "text": [
            "📊 DATASET INFORMATION:\n",
            "Jumlah baris yang memiliki nilai NaN pada kolom pertama: 65\n",
            "Dataset shape: (1031, 13)\n"
          ]
        },
        {
          "output_type": "display_data",
          "data": {
            "text/plain": [
              "   Person ID Gender   Age            Occupation Sleep Duration  \\\n",
              "0        1.0   Male  27.0     Software Engineer          06.01   \n",
              "1        2.0   Male  28.0                Doctor          06.02   \n",
              "2        3.0   Male  28.0                Doctor          06.02   \n",
              "3        4.0   Male  28.0  Sales Representative          05.09   \n",
              "4        5.0   Male  28.0  Sales Representative          05.09   \n",
              "\n",
              "   Quality of Sleep  Physical Activity Level  Stress Level BMI Category  \\\n",
              "0               6.0                     42.0           6.0   Overweight   \n",
              "1               6.0                     60.0           8.0       Normal   \n",
              "2               6.0                     60.0           8.0       Normal   \n",
              "3               4.0                     30.0           8.0        Obese   \n",
              "4               4.0                     30.0           8.0        Obese   \n",
              "\n",
              "  Blood Pressure  Heart Rate  Daily Steps Sleep Disorder  \n",
              "0         126/83        77.0       4200.0            NaN  \n",
              "1         125/80        75.0      10000.0            NaN  \n",
              "2         125/80        75.0      10000.0            NaN  \n",
              "3         140/90        85.0       3000.0    Sleep Apnea  \n",
              "4         140/90        85.0       3000.0    Sleep Apnea  "
            ],
            "text/html": [
              "\n",
              "  <div id=\"df-8c8633b5-857d-4157-97c7-1f8e58ebc459\" class=\"colab-df-container\">\n",
              "    <div>\n",
              "<style scoped>\n",
              "    .dataframe tbody tr th:only-of-type {\n",
              "        vertical-align: middle;\n",
              "    }\n",
              "\n",
              "    .dataframe tbody tr th {\n",
              "        vertical-align: top;\n",
              "    }\n",
              "\n",
              "    .dataframe thead th {\n",
              "        text-align: right;\n",
              "    }\n",
              "</style>\n",
              "<table border=\"1\" class=\"dataframe\">\n",
              "  <thead>\n",
              "    <tr style=\"text-align: right;\">\n",
              "      <th></th>\n",
              "      <th>Person ID</th>\n",
              "      <th>Gender</th>\n",
              "      <th>Age</th>\n",
              "      <th>Occupation</th>\n",
              "      <th>Sleep Duration</th>\n",
              "      <th>Quality of Sleep</th>\n",
              "      <th>Physical Activity Level</th>\n",
              "      <th>Stress Level</th>\n",
              "      <th>BMI Category</th>\n",
              "      <th>Blood Pressure</th>\n",
              "      <th>Heart Rate</th>\n",
              "      <th>Daily Steps</th>\n",
              "      <th>Sleep Disorder</th>\n",
              "    </tr>\n",
              "  </thead>\n",
              "  <tbody>\n",
              "    <tr>\n",
              "      <th>0</th>\n",
              "      <td>1.0</td>\n",
              "      <td>Male</td>\n",
              "      <td>27.0</td>\n",
              "      <td>Software Engineer</td>\n",
              "      <td>06.01</td>\n",
              "      <td>6.0</td>\n",
              "      <td>42.0</td>\n",
              "      <td>6.0</td>\n",
              "      <td>Overweight</td>\n",
              "      <td>126/83</td>\n",
              "      <td>77.0</td>\n",
              "      <td>4200.0</td>\n",
              "      <td>NaN</td>\n",
              "    </tr>\n",
              "    <tr>\n",
              "      <th>1</th>\n",
              "      <td>2.0</td>\n",
              "      <td>Male</td>\n",
              "      <td>28.0</td>\n",
              "      <td>Doctor</td>\n",
              "      <td>06.02</td>\n",
              "      <td>6.0</td>\n",
              "      <td>60.0</td>\n",
              "      <td>8.0</td>\n",
              "      <td>Normal</td>\n",
              "      <td>125/80</td>\n",
              "      <td>75.0</td>\n",
              "      <td>10000.0</td>\n",
              "      <td>NaN</td>\n",
              "    </tr>\n",
              "    <tr>\n",
              "      <th>2</th>\n",
              "      <td>3.0</td>\n",
              "      <td>Male</td>\n",
              "      <td>28.0</td>\n",
              "      <td>Doctor</td>\n",
              "      <td>06.02</td>\n",
              "      <td>6.0</td>\n",
              "      <td>60.0</td>\n",
              "      <td>8.0</td>\n",
              "      <td>Normal</td>\n",
              "      <td>125/80</td>\n",
              "      <td>75.0</td>\n",
              "      <td>10000.0</td>\n",
              "      <td>NaN</td>\n",
              "    </tr>\n",
              "    <tr>\n",
              "      <th>3</th>\n",
              "      <td>4.0</td>\n",
              "      <td>Male</td>\n",
              "      <td>28.0</td>\n",
              "      <td>Sales Representative</td>\n",
              "      <td>05.09</td>\n",
              "      <td>4.0</td>\n",
              "      <td>30.0</td>\n",
              "      <td>8.0</td>\n",
              "      <td>Obese</td>\n",
              "      <td>140/90</td>\n",
              "      <td>85.0</td>\n",
              "      <td>3000.0</td>\n",
              "      <td>Sleep Apnea</td>\n",
              "    </tr>\n",
              "    <tr>\n",
              "      <th>4</th>\n",
              "      <td>5.0</td>\n",
              "      <td>Male</td>\n",
              "      <td>28.0</td>\n",
              "      <td>Sales Representative</td>\n",
              "      <td>05.09</td>\n",
              "      <td>4.0</td>\n",
              "      <td>30.0</td>\n",
              "      <td>8.0</td>\n",
              "      <td>Obese</td>\n",
              "      <td>140/90</td>\n",
              "      <td>85.0</td>\n",
              "      <td>3000.0</td>\n",
              "      <td>Sleep Apnea</td>\n",
              "    </tr>\n",
              "  </tbody>\n",
              "</table>\n",
              "</div>\n",
              "    <div class=\"colab-df-buttons\">\n",
              "\n",
              "  <div class=\"colab-df-container\">\n",
              "    <button class=\"colab-df-convert\" onclick=\"convertToInteractive('df-8c8633b5-857d-4157-97c7-1f8e58ebc459')\"\n",
              "            title=\"Convert this dataframe to an interactive table.\"\n",
              "            style=\"display:none;\">\n",
              "\n",
              "  <svg xmlns=\"http://www.w3.org/2000/svg\" height=\"24px\" viewBox=\"0 -960 960 960\">\n",
              "    <path d=\"M120-120v-720h720v720H120Zm60-500h600v-160H180v160Zm220 220h160v-160H400v160Zm0 220h160v-160H400v160ZM180-400h160v-160H180v160Zm440 0h160v-160H620v160ZM180-180h160v-160H180v160Zm440 0h160v-160H620v160Z\"/>\n",
              "  </svg>\n",
              "    </button>\n",
              "\n",
              "  <style>\n",
              "    .colab-df-container {\n",
              "      display:flex;\n",
              "      gap: 12px;\n",
              "    }\n",
              "\n",
              "    .colab-df-convert {\n",
              "      background-color: #E8F0FE;\n",
              "      border: none;\n",
              "      border-radius: 50%;\n",
              "      cursor: pointer;\n",
              "      display: none;\n",
              "      fill: #1967D2;\n",
              "      height: 32px;\n",
              "      padding: 0 0 0 0;\n",
              "      width: 32px;\n",
              "    }\n",
              "\n",
              "    .colab-df-convert:hover {\n",
              "      background-color: #E2EBFA;\n",
              "      box-shadow: 0px 1px 2px rgba(60, 64, 67, 0.3), 0px 1px 3px 1px rgba(60, 64, 67, 0.15);\n",
              "      fill: #174EA6;\n",
              "    }\n",
              "\n",
              "    .colab-df-buttons div {\n",
              "      margin-bottom: 4px;\n",
              "    }\n",
              "\n",
              "    [theme=dark] .colab-df-convert {\n",
              "      background-color: #3B4455;\n",
              "      fill: #D2E3FC;\n",
              "    }\n",
              "\n",
              "    [theme=dark] .colab-df-convert:hover {\n",
              "      background-color: #434B5C;\n",
              "      box-shadow: 0px 1px 3px 1px rgba(0, 0, 0, 0.15);\n",
              "      filter: drop-shadow(0px 1px 2px rgba(0, 0, 0, 0.3));\n",
              "      fill: #FFFFFF;\n",
              "    }\n",
              "  </style>\n",
              "\n",
              "    <script>\n",
              "      const buttonEl =\n",
              "        document.querySelector('#df-8c8633b5-857d-4157-97c7-1f8e58ebc459 button.colab-df-convert');\n",
              "      buttonEl.style.display =\n",
              "        google.colab.kernel.accessAllowed ? 'block' : 'none';\n",
              "\n",
              "      async function convertToInteractive(key) {\n",
              "        const element = document.querySelector('#df-8c8633b5-857d-4157-97c7-1f8e58ebc459');\n",
              "        const dataTable =\n",
              "          await google.colab.kernel.invokeFunction('convertToInteractive',\n",
              "                                                    [key], {});\n",
              "        if (!dataTable) return;\n",
              "\n",
              "        const docLinkHtml = 'Like what you see? Visit the ' +\n",
              "          '<a target=\"_blank\" href=https://colab.research.google.com/notebooks/data_table.ipynb>data table notebook</a>'\n",
              "          + ' to learn more about interactive tables.';\n",
              "        element.innerHTML = '';\n",
              "        dataTable['output_type'] = 'display_data';\n",
              "        await google.colab.output.renderOutput(dataTable, element);\n",
              "        const docLink = document.createElement('div');\n",
              "        docLink.innerHTML = docLinkHtml;\n",
              "        element.appendChild(docLink);\n",
              "      }\n",
              "    </script>\n",
              "  </div>\n",
              "\n",
              "\n",
              "    <div id=\"df-95183277-97dd-4998-9978-f92c545ee2e7\">\n",
              "      <button class=\"colab-df-quickchart\" onclick=\"quickchart('df-95183277-97dd-4998-9978-f92c545ee2e7')\"\n",
              "                title=\"Suggest charts\"\n",
              "                style=\"display:none;\">\n",
              "\n",
              "<svg xmlns=\"http://www.w3.org/2000/svg\" height=\"24px\"viewBox=\"0 0 24 24\"\n",
              "     width=\"24px\">\n",
              "    <g>\n",
              "        <path d=\"M19 3H5c-1.1 0-2 .9-2 2v14c0 1.1.9 2 2 2h14c1.1 0 2-.9 2-2V5c0-1.1-.9-2-2-2zM9 17H7v-7h2v7zm4 0h-2V7h2v10zm4 0h-2v-4h2v4z\"/>\n",
              "    </g>\n",
              "</svg>\n",
              "      </button>\n",
              "\n",
              "<style>\n",
              "  .colab-df-quickchart {\n",
              "      --bg-color: #E8F0FE;\n",
              "      --fill-color: #1967D2;\n",
              "      --hover-bg-color: #E2EBFA;\n",
              "      --hover-fill-color: #174EA6;\n",
              "      --disabled-fill-color: #AAA;\n",
              "      --disabled-bg-color: #DDD;\n",
              "  }\n",
              "\n",
              "  [theme=dark] .colab-df-quickchart {\n",
              "      --bg-color: #3B4455;\n",
              "      --fill-color: #D2E3FC;\n",
              "      --hover-bg-color: #434B5C;\n",
              "      --hover-fill-color: #FFFFFF;\n",
              "      --disabled-bg-color: #3B4455;\n",
              "      --disabled-fill-color: #666;\n",
              "  }\n",
              "\n",
              "  .colab-df-quickchart {\n",
              "    background-color: var(--bg-color);\n",
              "    border: none;\n",
              "    border-radius: 50%;\n",
              "    cursor: pointer;\n",
              "    display: none;\n",
              "    fill: var(--fill-color);\n",
              "    height: 32px;\n",
              "    padding: 0;\n",
              "    width: 32px;\n",
              "  }\n",
              "\n",
              "  .colab-df-quickchart:hover {\n",
              "    background-color: var(--hover-bg-color);\n",
              "    box-shadow: 0 1px 2px rgba(60, 64, 67, 0.3), 0 1px 3px 1px rgba(60, 64, 67, 0.15);\n",
              "    fill: var(--button-hover-fill-color);\n",
              "  }\n",
              "\n",
              "  .colab-df-quickchart-complete:disabled,\n",
              "  .colab-df-quickchart-complete:disabled:hover {\n",
              "    background-color: var(--disabled-bg-color);\n",
              "    fill: var(--disabled-fill-color);\n",
              "    box-shadow: none;\n",
              "  }\n",
              "\n",
              "  .colab-df-spinner {\n",
              "    border: 2px solid var(--fill-color);\n",
              "    border-color: transparent;\n",
              "    border-bottom-color: var(--fill-color);\n",
              "    animation:\n",
              "      spin 1s steps(1) infinite;\n",
              "  }\n",
              "\n",
              "  @keyframes spin {\n",
              "    0% {\n",
              "      border-color: transparent;\n",
              "      border-bottom-color: var(--fill-color);\n",
              "      border-left-color: var(--fill-color);\n",
              "    }\n",
              "    20% {\n",
              "      border-color: transparent;\n",
              "      border-left-color: var(--fill-color);\n",
              "      border-top-color: var(--fill-color);\n",
              "    }\n",
              "    30% {\n",
              "      border-color: transparent;\n",
              "      border-left-color: var(--fill-color);\n",
              "      border-top-color: var(--fill-color);\n",
              "      border-right-color: var(--fill-color);\n",
              "    }\n",
              "    40% {\n",
              "      border-color: transparent;\n",
              "      border-right-color: var(--fill-color);\n",
              "      border-top-color: var(--fill-color);\n",
              "    }\n",
              "    60% {\n",
              "      border-color: transparent;\n",
              "      border-right-color: var(--fill-color);\n",
              "    }\n",
              "    80% {\n",
              "      border-color: transparent;\n",
              "      border-right-color: var(--fill-color);\n",
              "      border-bottom-color: var(--fill-color);\n",
              "    }\n",
              "    90% {\n",
              "      border-color: transparent;\n",
              "      border-bottom-color: var(--fill-color);\n",
              "    }\n",
              "  }\n",
              "</style>\n",
              "\n",
              "      <script>\n",
              "        async function quickchart(key) {\n",
              "          const quickchartButtonEl =\n",
              "            document.querySelector('#' + key + ' button');\n",
              "          quickchartButtonEl.disabled = true;  // To prevent multiple clicks.\n",
              "          quickchartButtonEl.classList.add('colab-df-spinner');\n",
              "          try {\n",
              "            const charts = await google.colab.kernel.invokeFunction(\n",
              "                'suggestCharts', [key], {});\n",
              "          } catch (error) {\n",
              "            console.error('Error during call to suggestCharts:', error);\n",
              "          }\n",
              "          quickchartButtonEl.classList.remove('colab-df-spinner');\n",
              "          quickchartButtonEl.classList.add('colab-df-quickchart-complete');\n",
              "        }\n",
              "        (() => {\n",
              "          let quickchartButtonEl =\n",
              "            document.querySelector('#df-95183277-97dd-4998-9978-f92c545ee2e7 button');\n",
              "          quickchartButtonEl.style.display =\n",
              "            google.colab.kernel.accessAllowed ? 'block' : 'none';\n",
              "        })();\n",
              "      </script>\n",
              "    </div>\n",
              "\n",
              "    </div>\n",
              "  </div>\n"
            ],
            "application/vnd.google.colaboratory.intrinsic+json": {
              "type": "dataframe",
              "summary": "{\n  \"name\": \"display(dataset\",\n  \"rows\": 5,\n  \"fields\": [\n    {\n      \"column\": \"Person ID\",\n      \"properties\": {\n        \"dtype\": \"number\",\n        \"std\": 1.5811388300841898,\n        \"min\": 1.0,\n        \"max\": 5.0,\n        \"num_unique_values\": 5,\n        \"samples\": [\n          2.0,\n          5.0,\n          3.0\n        ],\n        \"semantic_type\": \"\",\n        \"description\": \"\"\n      }\n    },\n    {\n      \"column\": \"Gender\",\n      \"properties\": {\n        \"dtype\": \"category\",\n        \"num_unique_values\": 1,\n        \"samples\": [\n          \"Male\"\n        ],\n        \"semantic_type\": \"\",\n        \"description\": \"\"\n      }\n    },\n    {\n      \"column\": \"Age\",\n      \"properties\": {\n        \"dtype\": \"number\",\n        \"std\": 0.4472135954999579,\n        \"min\": 27.0,\n        \"max\": 28.0,\n        \"num_unique_values\": 2,\n        \"samples\": [\n          28.0\n        ],\n        \"semantic_type\": \"\",\n        \"description\": \"\"\n      }\n    },\n    {\n      \"column\": \"Occupation\",\n      \"properties\": {\n        \"dtype\": \"string\",\n        \"num_unique_values\": 3,\n        \"samples\": [\n          \"Software Engineer\"\n        ],\n        \"semantic_type\": \"\",\n        \"description\": \"\"\n      }\n    },\n    {\n      \"column\": \"Sleep Duration\",\n      \"properties\": {\n        \"dtype\": \"string\",\n        \"num_unique_values\": 3,\n        \"samples\": [\n          \"06.01\"\n        ],\n        \"semantic_type\": \"\",\n        \"description\": \"\"\n      }\n    },\n    {\n      \"column\": \"Quality of Sleep\",\n      \"properties\": {\n        \"dtype\": \"number\",\n        \"std\": 1.0954451150103321,\n        \"min\": 4.0,\n        \"max\": 6.0,\n        \"num_unique_values\": 2,\n        \"samples\": [\n          4.0\n        ],\n        \"semantic_type\": \"\",\n        \"description\": \"\"\n      }\n    },\n    {\n      \"column\": \"Physical Activity Level\",\n      \"properties\": {\n        \"dtype\": \"number\",\n        \"std\": 15.05988047761336,\n        \"min\": 30.0,\n        \"max\": 60.0,\n        \"num_unique_values\": 3,\n        \"samples\": [\n          42.0\n        ],\n        \"semantic_type\": \"\",\n        \"description\": \"\"\n      }\n    },\n    {\n      \"column\": \"Stress Level\",\n      \"properties\": {\n        \"dtype\": \"number\",\n        \"std\": 0.8944271909999157,\n        \"min\": 6.0,\n        \"max\": 8.0,\n        \"num_unique_values\": 2,\n        \"samples\": [\n          8.0\n        ],\n        \"semantic_type\": \"\",\n        \"description\": \"\"\n      }\n    },\n    {\n      \"column\": \"BMI Category\",\n      \"properties\": {\n        \"dtype\": \"string\",\n        \"num_unique_values\": 3,\n        \"samples\": [\n          \"Overweight\"\n        ],\n        \"semantic_type\": \"\",\n        \"description\": \"\"\n      }\n    },\n    {\n      \"column\": \"Blood Pressure\",\n      \"properties\": {\n        \"dtype\": \"string\",\n        \"num_unique_values\": 3,\n        \"samples\": [\n          \"126/83\"\n        ],\n        \"semantic_type\": \"\",\n        \"description\": \"\"\n      }\n    },\n    {\n      \"column\": \"Heart Rate\",\n      \"properties\": {\n        \"dtype\": \"number\",\n        \"std\": 5.176871642217914,\n        \"min\": 75.0,\n        \"max\": 85.0,\n        \"num_unique_values\": 3,\n        \"samples\": [\n          77.0\n        ],\n        \"semantic_type\": \"\",\n        \"description\": \"\"\n      }\n    },\n    {\n      \"column\": \"Daily Steps\",\n      \"properties\": {\n        \"dtype\": \"number\",\n        \"std\": 3648.0131578710075,\n        \"min\": 3000.0,\n        \"max\": 10000.0,\n        \"num_unique_values\": 3,\n        \"samples\": [\n          4200.0\n        ],\n        \"semantic_type\": \"\",\n        \"description\": \"\"\n      }\n    },\n    {\n      \"column\": \"Sleep Disorder\",\n      \"properties\": {\n        \"dtype\": \"category\",\n        \"num_unique_values\": 1,\n        \"samples\": [\n          \"Sleep Apnea\"\n        ],\n        \"semantic_type\": \"\",\n        \"description\": \"\"\n      }\n    }\n  ]\n}"
            }
          },
          "metadata": {}
        }
      ],
      "source": [
        "FILE_PATH = './dataset/fix dataset 1031.csv'\n",
        "\n",
        "# Read CSV with semicolon as separator and handle mixed decimal separators\n",
        "df = pd.read_csv(FILE_PATH, sep=';', decimal='.')\n",
        "dataset = df.copy()\n",
        "\n",
        "# Tampilkan Semua row pada kolom pertama yang memiliki nilai NaN\n",
        "print(\"📊 DATASET INFORMATION:\")\n",
        "print(\"Jumlah baris yang memiliki nilai NaN pada kolom pertama:\", dataset[dataset.columns[0]].isna().sum())\n",
        "\n",
        "# Bersihkan data dengan menghapus baris yang memiliki nilai NaN pada kolom pertama\n",
        "dataset = dataset.dropna(subset=[dataset.columns[0]])\n",
        "\n",
        "print(\"Dataset shape:\", dataset.shape)\n",
        "display(dataset.head())"
      ]
    },
    {
      "cell_type": "code",
      "execution_count": 5,
      "id": "6168eabc",
      "metadata": {
        "id": "6168eabc",
        "outputId": "5c1b2527-51de-440e-fa0a-85a1c95e3726",
        "colab": {
          "base_uri": "https://localhost:8080/"
        }
      },
      "outputs": [
        {
          "output_type": "stream",
          "name": "stdout",
          "text": [
            "✅ Data preprocessing selesai\n"
          ]
        }
      ],
      "source": [
        "# Fill missing values in Sleep Disorder with 'Normal'\n",
        "dataset['Sleep Disorder'] = dataset['Sleep Disorder'].fillna('Normal')\n",
        "\n",
        "# Split Blood Pressure column\n",
        "if 'Blood Pressure' in dataset.columns:\n",
        "    dataset[['Systolic', 'Diastolic']] = dataset['Blood Pressure'].str.split('/', expand=True)\n",
        "    dataset['Systolic'] = pd.to_numeric(dataset['Systolic'], errors='coerce')\n",
        "    dataset['Diastolic'] = pd.to_numeric(dataset['Diastolic'], errors='coerce')\n",
        "    dataset = dataset.drop('Blood Pressure', axis=1)\n",
        "\n",
        "# Clean numeric columns\n",
        "kolom_numerik = [\"Sleep Duration\", \"Heart Rate\", \"Daily Steps\", \"Systolic\", \"Diastolic\"]\n",
        "for col in kolom_numerik:\n",
        "    if col in dataset.columns:\n",
        "        dataset[col] = dataset[col].apply(lambda x: str(x).replace(',', '.') if isinstance(x, str) else x)\n",
        "        dataset[col] = pd.to_numeric(dataset[col], errors='coerce')\n",
        "\n",
        "print(\"✅ Data preprocessing selesai\")"
      ]
    },
    {
      "cell_type": "markdown",
      "id": "1e07478d",
      "metadata": {
        "id": "1e07478d"
      },
      "source": [
        "## 2. Target Encoding dan Feature Selection"
      ]
    },
    {
      "cell_type": "code",
      "execution_count": 6,
      "id": "602cba4c",
      "metadata": {
        "id": "602cba4c",
        "outputId": "abecb65b-7c00-4e43-85c1-d726155fc7c4",
        "colab": {
          "base_uri": "https://localhost:8080/"
        }
      },
      "outputs": [
        {
          "output_type": "stream",
          "name": "stdout",
          "text": [
            "Target classes: ['Insomnia' 'Normal' 'Sleep Apnea']\n",
            "Encoded values: [0 1 2]\n",
            "\n",
            "=== DISTRIBUSI KELAS BEFORE SMOTE ====\n",
            "Insomnia: 296 samples\n",
            "Normal: 438 samples\n",
            "Sleep Apnea: 297 samples\n",
            "\n",
            "Total samples before SMOTE: 1031\n"
          ]
        }
      ],
      "source": [
        "# Label encoding for target\n",
        "label_encoder = LabelEncoder()\n",
        "target_encoded = label_encoder.fit_transform(dataset['Sleep Disorder'])\n",
        "\n",
        "print(\"Target classes:\", label_encoder.classes_)\n",
        "print(\"Encoded values:\", np.unique(target_encoded))\n",
        "\n",
        "# Show class distribution BEFORE SMOTE\n",
        "print(\"\\n=== DISTRIBUSI KELAS BEFORE SMOTE ====\")\n",
        "class_counts_before = pd.Series(target_encoded).value_counts().sort_index()\n",
        "for i, count in enumerate(class_counts_before):\n",
        "    print(f\"{label_encoder.classes_[i]}: {count} samples\")\n",
        "\n",
        "total_before = len(target_encoded)\n",
        "print(f\"\\nTotal samples before SMOTE: {total_before}\")"
      ]
    },
    {
      "cell_type": "code",
      "execution_count": 7,
      "id": "12a6d6c1",
      "metadata": {
        "id": "12a6d6c1",
        "outputId": "5949a056-bd1b-4199-d2b3-8ef0d06dc428",
        "colab": {
          "base_uri": "https://localhost:8080/"
        }
      },
      "outputs": [
        {
          "output_type": "stream",
          "name": "stdout",
          "text": [
            "Selected features: ['Gender', 'Age', 'Occupation', 'Sleep Duration', 'Quality of Sleep', 'Physical Activity Level', 'Stress Level', 'BMI Category', 'Systolic', 'Diastolic']\n",
            "Features shape: (1031, 10)\n"
          ]
        }
      ],
      "source": [
        "# Select features\n",
        "feature_columns = [\"Gender\", \"Age\", \"Occupation\", \"Sleep Duration\", \"Quality of Sleep\",\n",
        "                  \"Physical Activity Level\", \"Stress Level\", \"BMI Category\", \"Systolic\", \"Diastolic\"]\n",
        "\n",
        "# Filter only existing columns\n",
        "available_features = [col for col in feature_columns if col in dataset.columns]\n",
        "features = dataset[available_features]\n",
        "\n",
        "print(\"Selected features:\", available_features)\n",
        "print(\"Features shape:\", features.shape)"
      ]
    },
    {
      "cell_type": "markdown",
      "id": "44856e11",
      "metadata": {
        "id": "44856e11"
      },
      "source": [
        "## 3. Data Splitting"
      ]
    },
    {
      "cell_type": "code",
      "execution_count": 8,
      "id": "929fb1d0",
      "metadata": {
        "id": "929fb1d0",
        "outputId": "523858bf-1b33-4c97-e615-97277e50267b",
        "colab": {
          "base_uri": "https://localhost:8080/"
        }
      },
      "outputs": [
        {
          "output_type": "stream",
          "name": "stdout",
          "text": [
            "=== DATA SPLIT ====\n",
            "Training set: 824 samples\n",
            "Test set: 207 samples\n",
            "\n",
            "Distribusi y_train BEFORE SMOTE:\n",
            "Insomnia: 237 samples\n",
            "Normal: 350 samples\n",
            "Sleep Apnea: 237 samples\n"
          ]
        }
      ],
      "source": [
        "# Split data\n",
        "X_train, X_test, y_train, y_test = train_test_split(\n",
        "    features, target_encoded, test_size=0.2, random_state=42, stratify=target_encoded\n",
        ")\n",
        "\n",
        "print(\"=== DATA SPLIT ====\")\n",
        "print(f\"Training set: {len(X_train)} samples\")\n",
        "print(f\"Test set: {len(X_test)} samples\")\n",
        "\n",
        "print(\"\\nDistribusi y_train BEFORE SMOTE:\")\n",
        "train_dist_before = pd.Series(y_train).value_counts().sort_index()\n",
        "for i, count in enumerate(train_dist_before):\n",
        "    print(f\"{label_encoder.classes_[i]}: {count} samples\")"
      ]
    },
    {
      "cell_type": "markdown",
      "id": "eff1f4df",
      "metadata": {
        "id": "eff1f4df"
      },
      "source": [
        "## 4. Pipeline Setup dengan SMOTE"
      ]
    },
    {
      "cell_type": "code",
      "execution_count": 9,
      "id": "9de3e928",
      "metadata": {
        "id": "9de3e928",
        "outputId": "350a41fd-0037-48c6-9eae-5426604e9cde",
        "colab": {
          "base_uri": "https://localhost:8080/"
        }
      },
      "outputs": [
        {
          "output_type": "stream",
          "name": "stdout",
          "text": [
            "Numerical features: ['Age', 'Sleep Duration', 'Quality of Sleep', 'Physical Activity Level', 'Stress Level', 'Systolic', 'Diastolic']\n",
            "Categorical features: ['Gender', 'Occupation', 'BMI Category']\n",
            "✅ Preprocessor pipeline created\n"
          ]
        }
      ],
      "source": [
        "# Define numerical and categorical features\n",
        "numerical_features = [col for col in available_features if features[col].dtype in ['int64', 'float64']]\n",
        "categorical_features = [col for col in available_features if features[col].dtype == 'object']\n",
        "\n",
        "print(\"Numerical features:\", numerical_features)\n",
        "print(\"Categorical features:\", categorical_features)\n",
        "\n",
        "# Create preprocessors\n",
        "numerical_transformer = Pipeline(steps=[\n",
        "    ('imputer', SimpleImputer(strategy='mean')),\n",
        "    ('scaler', StandardScaler())\n",
        "])\n",
        "\n",
        "categorical_transformer = Pipeline(steps=[\n",
        "    ('imputer', SimpleImputer(strategy='most_frequent')),\n",
        "    ('onehot', OneHotEncoder(handle_unknown='ignore'))\n",
        "])\n",
        "\n",
        "# Combine preprocessors\n",
        "preprocessor = ColumnTransformer(transformers=[\n",
        "    ('num', numerical_transformer, numerical_features),\n",
        "    ('cat', categorical_transformer, categorical_features)\n",
        "])\n",
        "\n",
        "print(\"✅ Preprocessor pipeline created\")"
      ]
    },
    {
      "cell_type": "markdown",
      "id": "7c1a3b20",
      "metadata": {
        "id": "7c1a3b20"
      },
      "source": [
        "## 5. SMOTE Application untuk Melihat Efek Balancing"
      ]
    },
    {
      "cell_type": "code",
      "execution_count": 10,
      "id": "1e398ead",
      "metadata": {
        "id": "1e398ead",
        "outputId": "610856dc-0b33-4dec-8431-4a69ba44035d",
        "colab": {
          "base_uri": "https://localhost:8080/"
        }
      },
      "outputs": [
        {
          "output_type": "stream",
          "name": "stdout",
          "text": [
            "=== COMPARISON BEFORE vs AFTER SMOTE ====\n",
            "\n",
            "BEFORE SMOTE:\n",
            "Insomnia: 237 samples\n",
            "Normal: 350 samples\n",
            "Sleep Apnea: 237 samples\n",
            "Total: 824 samples\n",
            "\n",
            "AFTER SMOTE:\n",
            "Insomnia: 350 samples\n",
            "Normal: 350 samples\n",
            "Sleep Apnea: 350 samples\n",
            "Total: 1050 samples\n",
            "\n",
            "INCREASE PER CLASS:\n",
            "Insomnia: +113 samples (from 237 to 350)\n",
            "Normal: +0 samples (from 350 to 350)\n",
            "Sleep Apnea: +113 samples (from 237 to 350)\n"
          ]
        }
      ],
      "source": [
        "# Apply preprocessing to see the effect of SMOTE clearly\n",
        "X_train_processed = preprocessor.fit_transform(X_train)\n",
        "\n",
        "# Apply SMOTE\n",
        "smote = SMOTE(random_state=42)\n",
        "X_train_smote, y_train_smote = smote.fit_resample(X_train_processed, y_train)\n",
        "\n",
        "print(\"=== COMPARISON BEFORE vs AFTER SMOTE ====\")\n",
        "print(\"\\nBEFORE SMOTE:\")\n",
        "for i, count in enumerate(train_dist_before):\n",
        "    print(f\"{label_encoder.classes_[i]}: {count} samples\")\n",
        "print(f\"Total: {len(y_train)} samples\")\n",
        "\n",
        "print(\"\\nAFTER SMOTE:\")\n",
        "train_dist_after = pd.Series(y_train_smote).value_counts().sort_index()\n",
        "for i, count in enumerate(train_dist_after):\n",
        "    print(f\"{label_encoder.classes_[i]}: {count} samples\")\n",
        "print(f\"Total: {len(y_train_smote)} samples\")\n",
        "\n",
        "# Calculate increase\n",
        "print(\"\\nINCREASE PER CLASS:\")\n",
        "for i in range(len(label_encoder.classes_)):\n",
        "    before = train_dist_before.iloc[i] if i < len(train_dist_before) else 0\n",
        "    after = train_dist_after.iloc[i] if i < len(train_dist_after) else 0\n",
        "    increase = after - before\n",
        "    print(f\"{label_encoder.classes_[i]}: +{increase} samples (from {before} to {after})\")"
      ]
    },
    {
      "cell_type": "code",
      "execution_count": 11,
      "id": "861e9787",
      "metadata": {
        "id": "861e9787",
        "outputId": "37bf95b6-9382-4799-866b-7bab9a5ce3ca",
        "colab": {
          "base_uri": "https://localhost:8080/",
          "height": 507
        }
      },
      "outputs": [
        {
          "output_type": "display_data",
          "data": {
            "text/plain": [
              "<Figure size 1500x500 with 2 Axes>"
            ],
            "image/png": "[encoded data removed]"
          },
          "metadata": {}
        }
      ],
      "source": [
        "# Visualize class distribution before and after SMOTE\n",
        "fig, (ax1, ax2) = plt.subplots(1, 2, figsize=(15, 5))\n",
        "\n",
        "# Before SMOTE\n",
        "before_data = pd.DataFrame({\n",
        "    'Class': [label_encoder.classes_[i] for i in train_dist_before.index],\n",
        "    'Count': train_dist_before.values\n",
        "})\n",
        "sns.barplot(data=before_data, x='Class', y='Count', ax=ax1)\n",
        "ax1.set_title('Class Distribution BEFORE SMOTE')\n",
        "ax1.tick_params(axis='x', rotation=45)\n",
        "\n",
        "# After SMOTE\n",
        "after_data = pd.DataFrame({\n",
        "    'Class': [label_encoder.classes_[i] for i in train_dist_after.index],\n",
        "    'Count': train_dist_after.values\n",
        "})\n",
        "sns.barplot(data=after_data, x='Class', y='Count', ax=ax2)\n",
        "ax2.set_title('Class Distribution AFTER SMOTE')\n",
        "ax2.tick_params(axis='x', rotation=45)\n",
        "\n",
        "plt.tight_layout()\n",
        "plt.show()"
      ]
    },
    {
      "cell_type": "markdown",
      "id": "788d64f8",
      "metadata": {
        "id": "788d64f8"
      },
      "source": [
        "## 6. Baseline Model (Before GridSearch)"
      ]
    },
    {
      "cell_type": "code",
      "execution_count": 12,
      "id": "02cc593e",
      "metadata": {
        "id": "02cc593e",
        "outputId": "6947d7ff-ece6-433c-917d-e8e0558b718b",
        "colab": {
          "base_uri": "https://localhost:8080/"
        }
      },
      "outputs": [
        {
          "output_type": "stream",
          "name": "stdout",
          "text": [
            "Training baseline SMOTE + KNN model...\n",
            "=== BASELINE MODEL (BEFORE GridSearch) ====\n",
            "Default hyperparameters:\n",
            "  n_neighbors: 5\n",
            "  weights: uniform\n",
            "  algorithm: auto\n",
            "  metric: minkowski\n",
            "  p: 2\n",
            "\n",
            "Baseline accuracy with SMOTE: 0.8599 (85.99%)\n"
          ]
        }
      ],
      "source": [
        "# Create baseline SMOTE + KNN pipeline (default parameters)\n",
        "baseline_smote_pipeline = ImbPipeline(steps=[\n",
        "    ('preprocessor', preprocessor),\n",
        "    ('smote', SMOTE(random_state=42)),\n",
        "    ('knn', KNeighborsClassifier())\n",
        "])\n",
        "\n",
        "# Train baseline model\n",
        "print(\"Training baseline SMOTE + KNN model...\")\n",
        "baseline_smote_pipeline.fit(X_train, y_train)\n",
        "baseline_pred = baseline_smote_pipeline.predict(X_test)\n",
        "baseline_accuracy = accuracy_score(y_test, baseline_pred)\n",
        "\n",
        "print(\"=== BASELINE MODEL (BEFORE GridSearch) ====\")\n",
        "print(\"Default hyperparameters:\")\n",
        "knn_params = baseline_smote_pipeline.named_steps['knn'].get_params()\n",
        "important_params = ['n_neighbors', 'weights', 'algorithm', 'metric', 'p']\n",
        "for param in important_params:\n",
        "    if param in knn_params:\n",
        "        print(f\"  {param}: {knn_params[param]}\")\n",
        "\n",
        "print(f\"\\nBaseline accuracy with SMOTE: {baseline_accuracy:.4f} ({baseline_accuracy*100:.2f}%)\")"
      ]
    },
    {
      "cell_type": "markdown",
      "id": "c1da9f66",
      "metadata": {
        "id": "c1da9f66"
      },
      "source": [
        "## 7. GridSearchCV untuk Optimasi Hyperparameter dengan SMOTE"
      ]
    },
    {
      "cell_type": "code",
      "execution_count": 13,
      "id": "b3fa093f",
      "metadata": {
        "id": "b3fa093f",
        "outputId": "e93d8fd5-2c53-419c-b143-23201ecd331b",
        "colab": {
          "base_uri": "https://localhost:8080/"
        }
      },
      "outputs": [
        {
          "output_type": "stream",
          "name": "stdout",
          "text": [
            "Parameter grid for GridSearch dengan SMOTE:\n",
            "  knn__n_neighbors: [3, 5, 7, 9, 11, 13, 15, 17, 19, 21]\n",
            "  knn__weights: ['uniform', 'distance']\n",
            "  knn__algorithm: ['auto', 'ball_tree', 'kd_tree', 'brute']\n",
            "  knn__metric: ['euclidean', 'manhattan', 'minkowski']\n",
            "  knn__p: [1, 2]\n",
            "\n",
            "Total combinations to test: 480\n"
          ]
        }
      ],
      "source": [
        "# Define parameter grid for GridSearch\n",
        "param_grid = {\n",
        "    'knn__n_neighbors': [3, 5, 7, 9, 11, 13, 15, 17, 19, 21],\n",
        "    'knn__weights': ['uniform', 'distance'],\n",
        "    'knn__algorithm': ['auto', 'ball_tree', 'kd_tree', 'brute'],\n",
        "    'knn__metric': ['euclidean', 'manhattan', 'minkowski'],\n",
        "    'knn__p': [1, 2]  # Only relevant for minkowski metric\n",
        "}\n",
        "\n",
        "print(\"Parameter grid for GridSearch dengan SMOTE:\")\n",
        "for param, values in param_grid.items():\n",
        "    print(f\"  {param}: {values}\")\n",
        "\n",
        "print(f\"\\nTotal combinations to test: {np.prod([len(v) for v in param_grid.values()])}\")"
      ]
    },
    {
      "cell_type": "code",
      "execution_count": 14,
      "id": "57bd7d92",
      "metadata": {
        "id": "57bd7d92",
        "outputId": "eb6e1dc7-f3fd-4fc7-e6ed-1285cda87994",
        "colab": {
          "base_uri": "https://localhost:8080/"
        }
      },
      "outputs": [
        {
          "output_type": "stream",
          "name": "stdout",
          "text": [
            "Starting GridSearchCV with SMOTE + KNN...\n",
            "This may take several minutes...\n",
            "Fitting 5 folds for each of 480 candidates, totalling 2400 fits\n",
            "\n",
            "✅ GridSearchCV dengan SMOTE completed in 86.68 seconds\n"
          ]
        }
      ],
      "source": [
        "# Create pipeline for GridSearch with SMOTE\n",
        "grid_smote_pipeline = ImbPipeline(steps=[\n",
        "    ('preprocessor', preprocessor),\n",
        "    ('smote', SMOTE(random_state=42)),\n",
        "    ('knn', KNeighborsClassifier())\n",
        "])\n",
        "\n",
        "# Perform GridSearchCV\n",
        "print(\"Starting GridSearchCV with SMOTE + KNN...\")\n",
        "print(\"This may take several minutes...\")\n",
        "\n",
        "start_time = time.time()\n",
        "\n",
        "grid_search_smote = GridSearchCV(\n",
        "    grid_smote_pipeline,\n",
        "    param_grid,\n",
        "    cv=5,  # 5-fold cross validation\n",
        "    scoring='accuracy',\n",
        "    n_jobs=1,  # Sequential processing (avoids pickling issues with ImbPipeline)\n",
        "    verbose=1\n",
        ")\n",
        "\n",
        "grid_search_smote.fit(X_train, y_train)\n",
        "\n",
        "end_time = time.time()\n",
        "elapsed_time = end_time - start_time\n",
        "\n",
        "print(f\"\\n✅ GridSearchCV dengan SMOTE completed in {elapsed_time:.2f} seconds\")"
      ]
    },
    {
      "cell_type": "markdown",
      "id": "de69009e",
      "metadata": {
        "id": "de69009e"
      },
      "source": [
        "## 8. GridSearch Results"
      ]
    },
    {
      "cell_type": "code",
      "execution_count": 15,
      "id": "eca6279e",
      "metadata": {
        "id": "eca6279e",
        "outputId": "8fc5c719-66a2-4ee5-8251-b30ca90d3489",
        "colab": {
          "base_uri": "https://localhost:8080/"
        }
      },
      "outputs": [
        {
          "output_type": "stream",
          "name": "stdout",
          "text": [
            "=== GRIDSEARCH + SMOTE RESULTS ====\n",
            "\n",
            "Best parameters found:\n",
            "  knn__algorithm: auto\n",
            "  knn__metric: euclidean\n",
            "  knn__n_neighbors: 7\n",
            "  knn__p: 1\n",
            "  knn__weights: distance\n",
            "\n",
            "Best cross-validation score: 0.9175 (91.75%)\n",
            "Test set accuracy with best SMOTE + GridSearch model: 0.9082 (90.82%)\n"
          ]
        }
      ],
      "source": [
        "# Display GridSearch results\n",
        "print(\"=== GRIDSEARCH + SMOTE RESULTS ====\")\n",
        "print(\"\\nBest parameters found:\")\n",
        "for param, value in grid_search_smote.best_params_.items():\n",
        "    print(f\"  {param}: {value}\")\n",
        "\n",
        "print(f\"\\nBest cross-validation score: {grid_search_smote.best_score_:.4f} ({grid_search_smote.best_score_*100:.2f}%)\")\n",
        "\n",
        "# Test the best model\n",
        "best_model_smote = grid_search_smote.best_estimator_\n",
        "y_pred_grid_smote = best_model_smote.predict(X_test)\n",
        "grid_smote_accuracy = accuracy_score(y_test, y_pred_grid_smote)\n",
        "\n",
        "print(f\"Test set accuracy with best SMOTE + GridSearch model: {grid_smote_accuracy:.4f} ({grid_smote_accuracy*100:.2f}%)\")"
      ]
    },
    {
      "cell_type": "code",
      "execution_count": 16,
      "id": "61b80afb",
      "metadata": {
        "id": "61b80afb",
        "outputId": "f0b48f93-01c8-46e9-aaa2-e6cf148066d0",
        "colab": {
          "base_uri": "https://localhost:8080/"
        }
      },
      "outputs": [
        {
          "output_type": "stream",
          "name": "stdout",
          "text": [
            "=== COMPARISON: BEFORE vs AFTER GridSearch (dengan SMOTE) ====\n",
            "\n",
            "BEFORE GridSearch (SMOTE + default KNN parameters):\n",
            "  n_neighbors: 5\n",
            "  weights: uniform\n",
            "  algorithm: auto\n",
            "  metric: minkowski\n",
            "  p: 2\n",
            "  Accuracy: 0.8599 (85.99%)\n",
            "\n",
            "AFTER GridSearch (SMOTE + optimized KNN parameters):\n",
            "  algorithm: auto\n",
            "  metric: euclidean\n",
            "  n_neighbors: 7\n",
            "  p: 1\n",
            "  weights: distance\n",
            "  Accuracy: 0.9082 (90.82%)\n",
            "\n",
            "Improvement: 0.0483 (4.83 percentage points)\n",
            "✅ GridSearch improved SMOTE + KNN model performance!\n"
          ]
        }
      ],
      "source": [
        "# Compare Before vs After GridSearch (both with SMOTE)\n",
        "print(\"=== COMPARISON: BEFORE vs AFTER GridSearch (dengan SMOTE) ====\")\n",
        "print(\"\\nBEFORE GridSearch (SMOTE + default KNN parameters):\")\n",
        "print(f\"  n_neighbors: 5\")\n",
        "print(f\"  weights: uniform\")\n",
        "print(f\"  algorithm: auto\")\n",
        "print(f\"  metric: minkowski\")\n",
        "print(f\"  p: 2\")\n",
        "print(f\"  Accuracy: {baseline_accuracy:.4f} ({baseline_accuracy*100:.2f}%)\")\n",
        "\n",
        "print(\"\\nAFTER GridSearch (SMOTE + optimized KNN parameters):\")\n",
        "for param, value in grid_search_smote.best_params_.items():\n",
        "    param_name = param.replace('knn__', '')\n",
        "    print(f\"  {param_name}: {value}\")\n",
        "print(f\"  Accuracy: {grid_smote_accuracy:.4f} ({grid_smote_accuracy*100:.2f}%)\")\n",
        "\n",
        "improvement = grid_smote_accuracy - baseline_accuracy\n",
        "print(f\"\\nImprovement: {improvement:.4f} ({improvement*100:.2f} percentage points)\")\n",
        "\n",
        "if improvement > 0:\n",
        "    print(\"✅ GridSearch improved SMOTE + KNN model performance!\")\n",
        "elif improvement == 0:\n",
        "    print(\"➖ No improvement from GridSearch\")\n",
        "else:\n",
        "    print(\"⚠️ GridSearch resulted in lower performance (may indicate overfitting)\")"
      ]
    },
    {
      "cell_type": "markdown",
      "id": "819b6f21",
      "metadata": {
        "id": "819b6f21"
      },
      "source": [
        "## 9. Detailed Performance Analysis"
      ]
    },
    {
      "cell_type": "code",
      "execution_count": 17,
      "id": "35457289",
      "metadata": {
        "id": "35457289",
        "outputId": "fb56ecde-6f41-4260-cb08-c97a1db10e93",
        "colab": {
          "base_uri": "https://localhost:8080/"
        }
      },
      "outputs": [
        {
          "output_type": "stream",
          "name": "stdout",
          "text": [
            "=== DETAILED PERFORMANCE ANALYSIS ====\n",
            "\n",
            "Classification Report (Best SMOTE + GridSearch Model):\n",
            "              precision    recall  f1-score   support\n",
            "\n",
            "    Insomnia       0.89      0.86      0.88        59\n",
            "      Normal       0.90      0.95      0.93        88\n",
            " Sleep Apnea       0.93      0.88      0.91        60\n",
            "\n",
            "    accuracy                           0.91       207\n",
            "   macro avg       0.91      0.90      0.90       207\n",
            "weighted avg       0.91      0.91      0.91       207\n",
            "\n"
          ]
        }
      ],
      "source": [
        "# Detailed classification report\n",
        "print(\"=== DETAILED PERFORMANCE ANALYSIS ====\")\n",
        "print(\"\\nClassification Report (Best SMOTE + GridSearch Model):\")\n",
        "print(classification_report(y_test, y_pred_grid_smote, target_names=label_encoder.classes_))"
      ]
    },
    {
      "cell_type": "code",
      "execution_count": 18,
      "id": "cfcec87f",
      "metadata": {
        "id": "cfcec87f",
        "outputId": "dace707c-7dd7-415f-9b4b-698d11f38d8c",
        "colab": {
          "base_uri": "https://localhost:8080/",
          "height": 607
        }
      },
      "outputs": [
        {
          "output_type": "display_data",
          "data": {
            "text/plain": [
              "<Figure size 800x600 with 2 Axes>"
            ],
            "image/png": "[encoded data removed]"
          },
          "metadata": {}
        }
      ],
      "source": [
        "# Confusion Matrix\n",
        "cm_grid_smote = confusion_matrix(y_test, y_pred_grid_smote)\n",
        "\n",
        "plt.figure(figsize=(8, 6))\n",
        "sns.heatmap(cm_grid_smote, annot=True, fmt=\"d\", cmap=\"Blues\",\n",
        "            xticklabels=label_encoder.classes_, yticklabels=label_encoder.classes_)\n",
        "plt.title(\"Confusion Matrix - SMOTE + GridSearch + KNN\")\n",
        "plt.xlabel(\"Predicted Label\")\n",
        "plt.ylabel(\"True Label\")\n",
        "plt.tight_layout()\n",
        "plt.show()"
      ]
    },
    {
      "cell_type": "markdown",
      "id": "2cc21088",
      "metadata": {
        "id": "2cc21088"
      },
      "source": [
        "## 10. Comparison dengan Model Lain"
      ]
    },
    {
      "cell_type": "code",
      "execution_count": 19,
      "id": "6e2cb956",
      "metadata": {
        "id": "6e2cb956",
        "outputId": "ae981976-17f5-40bc-dcaf-2fa92d787ed7",
        "colab": {
          "base_uri": "https://localhost:8080/"
        }
      },
      "outputs": [
        {
          "output_type": "stream",
          "name": "stdout",
          "text": [
            "=== COMPARISON: SEMUA MODEL ====\n",
            "1. KNN Murni: 0.8599 (85.99%)\n",
            "2. KNN + SMOTE: 0.8599 (85.99%)\n",
            "3. SMOTE + GridSearch + KNN: 0.9082 (90.82%)\n",
            "\n",
            "Improvement SMOTE vs Murni: +0.00 pp\n",
            "Improvement SMOTE+GridSearch vs Murni: +4.83 pp\n",
            "Improvement SMOTE+GridSearch vs SMOTE: +4.83 pp\n"
          ]
        }
      ],
      "source": [
        "# Train KNN murni untuk comparison\n",
        "knn_murni = Pipeline(steps=[\n",
        "    ('preprocessor', preprocessor),\n",
        "    ('knn', KNeighborsClassifier(n_neighbors=5))\n",
        "])\n",
        "\n",
        "knn_murni.fit(X_train, y_train)\n",
        "pred_murni = knn_murni.predict(X_test)\n",
        "accuracy_murni = accuracy_score(y_test, pred_murni)\n",
        "\n",
        "# Train KNN + SMOTE tanpa GridSearch\n",
        "knn_smote_only = ImbPipeline(steps=[\n",
        "    ('preprocessor', preprocessor),\n",
        "    ('smote', SMOTE(random_state=42)),\n",
        "    ('knn', KNeighborsClassifier(n_neighbors=5))\n",
        "])\n",
        "\n",
        "knn_smote_only.fit(X_train, y_train)\n",
        "pred_smote_only = knn_smote_only.predict(X_test)\n",
        "accuracy_smote_only = accuracy_score(y_test, pred_smote_only)\n",
        "\n",
        "print(\"=== COMPARISON: SEMUA MODEL ====\")\n",
        "print(f\"1. KNN Murni: {accuracy_murni:.4f} ({accuracy_murni*100:.2f}%)\")\n",
        "print(f\"2. KNN + SMOTE: {accuracy_smote_only:.4f} ({accuracy_smote_only*100:.2f}%)\")\n",
        "print(f\"3. SMOTE + GridSearch + KNN: {grid_smote_accuracy:.4f} ({grid_smote_accuracy*100:.2f}%)\")\n",
        "\n",
        "print(f\"\\nImprovement SMOTE vs Murni: {(accuracy_smote_only - accuracy_murni)*100:+.2f} pp\")\n",
        "print(f\"Improvement SMOTE+GridSearch vs Murni: {(grid_smote_accuracy - accuracy_murni)*100:+.2f} pp\")\n",
        "print(f\"Improvement SMOTE+GridSearch vs SMOTE: {(grid_smote_accuracy - accuracy_smote_only)*100:+.2f} pp\")"
      ]
    },
    {
      "cell_type": "code",
      "execution_count": 20,
      "id": "e32c08cd",
      "metadata": {
        "id": "e32c08cd",
        "outputId": "a3714e53-a84d-4989-cc11-e34f66f247ad",
        "colab": {
          "base_uri": "https://localhost:8080/",
          "height": 607
        }
      },
      "outputs": [
        {
          "output_type": "display_data",
          "data": {
            "text/plain": [
              "<Figure size 1000x600 with 1 Axes>"
            ],
            "image/png": "[encoded data removed]"
          },
          "metadata": {}
        }
      ],
      "source": [
        "# Visualize comparison\n",
        "models = ['KNN Murni', 'KNN + SMOTE', 'SMOTE + GridSearch + KNN']\n",
        "accuracies = [accuracy_murni, accuracy_smote_only, grid_smote_accuracy]\n",
        "colors = ['lightblue', 'orange', 'darkgreen']\n",
        "\n",
        "plt.figure(figsize=(10, 6))\n",
        "bars = plt.bar(models, accuracies, color=colors, alpha=0.7)\n",
        "plt.title('Model Performance Comparison')\n",
        "plt.ylabel('Accuracy')\n",
        "plt.ylim(0, 1)\n",
        "\n",
        "# Add value labels on bars\n",
        "for bar, acc in zip(bars, accuracies):\n",
        "    plt.text(bar.get_x() + bar.get_width()/2, bar.get_height() + 0.01,\n",
        "             f'{acc:.4f}', ha='center', va='bottom', fontweight='bold')\n",
        "\n",
        "plt.xticks(rotation=45)\n",
        "plt.tight_layout()\n",
        "plt.show()"
      ]
    },
    {
      "cell_type": "markdown",
      "id": "5e11e559",
      "metadata": {
        "id": "5e11e559"
      },
      "source": [
        "## 11. Top 10 Best Parameter Combinations"
      ]
    },
    {
      "cell_type": "code",
      "execution_count": 21,
      "id": "1ba541ee",
      "metadata": {
        "id": "1ba541ee",
        "outputId": "5d2f2370-271a-4665-d102-38f45f2559a0",
        "colab": {
          "base_uri": "https://localhost:8080/"
        }
      },
      "outputs": [
        {
          "output_type": "stream",
          "name": "stdout",
          "text": [
            "=== TOP 10 PARAMETER COMBINATIONS (SMOTE + GridSearch) ====\n",
            "\n",
            "1. Score: 0.9175 (±0.0152)\n",
            "   Parameters: {'knn__algorithm': 'auto', 'knn__metric': 'euclidean', 'knn__n_neighbors': 7, 'knn__p': 1, 'knn__weights': 'distance'}\n",
            "\n",
            "2. Score: 0.9175 (±0.0152)\n",
            "   Parameters: {'knn__algorithm': 'auto', 'knn__metric': 'euclidean', 'knn__n_neighbors': 7, 'knn__p': 2, 'knn__weights': 'distance'}\n",
            "\n",
            "3. Score: 0.9175 (±0.0152)\n",
            "   Parameters: {'knn__algorithm': 'auto', 'knn__metric': 'minkowski', 'knn__n_neighbors': 7, 'knn__p': 2, 'knn__weights': 'distance'}\n",
            "\n",
            "4. Score: 0.9175 (±0.0152)\n",
            "   Parameters: {'knn__algorithm': 'brute', 'knn__metric': 'euclidean', 'knn__n_neighbors': 7, 'knn__p': 1, 'knn__weights': 'distance'}\n",
            "\n",
            "5. Score: 0.9175 (±0.0152)\n",
            "   Parameters: {'knn__algorithm': 'brute', 'knn__metric': 'euclidean', 'knn__n_neighbors': 7, 'knn__p': 2, 'knn__weights': 'distance'}\n",
            "\n",
            "6. Score: 0.9175 (±0.0152)\n",
            "   Parameters: {'knn__algorithm': 'brute', 'knn__metric': 'minkowski', 'knn__n_neighbors': 7, 'knn__p': 2, 'knn__weights': 'distance'}\n",
            "\n",
            "7. Score: 0.9163 (±0.0186)\n",
            "   Parameters: {'knn__algorithm': 'auto', 'knn__metric': 'manhattan', 'knn__n_neighbors': 7, 'knn__p': 1, 'knn__weights': 'distance'}\n",
            "\n",
            "8. Score: 0.9163 (±0.0186)\n",
            "   Parameters: {'knn__algorithm': 'auto', 'knn__metric': 'manhattan', 'knn__n_neighbors': 7, 'knn__p': 2, 'knn__weights': 'distance'}\n",
            "\n",
            "9. Score: 0.9163 (±0.0186)\n",
            "   Parameters: {'knn__algorithm': 'auto', 'knn__metric': 'minkowski', 'knn__n_neighbors': 7, 'knn__p': 1, 'knn__weights': 'distance'}\n",
            "\n",
            "10. Score: 0.9163 (±0.0151)\n",
            "   Parameters: {'knn__algorithm': 'ball_tree', 'knn__metric': 'euclidean', 'knn__n_neighbors': 7, 'knn__p': 1, 'knn__weights': 'distance'}\n"
          ]
        }
      ],
      "source": [
        "# Display top 10 parameter combinations\n",
        "results_df = pd.DataFrame(grid_search_smote.cv_results_)\n",
        "top_10 = results_df.nlargest(10, 'mean_test_score')[['mean_test_score', 'std_test_score', 'params']]\n",
        "\n",
        "print(\"=== TOP 10 PARAMETER COMBINATIONS (SMOTE + GridSearch) ====\")\n",
        "for i, (idx, row) in enumerate(top_10.iterrows(), 1):\n",
        "    print(f\"\\n{i}. Score: {row['mean_test_score']:.4f} (±{row['std_test_score']:.4f})\")\n",
        "    print(f\"   Parameters: {row['params']}\")"
      ]
    },
    {
      "cell_type": "markdown",
      "id": "57f7ccf7",
      "metadata": {
        "id": "57f7ccf7"
      },
      "source": [
        "## 12. K Value Analysis"
      ]
    },
    {
      "cell_type": "code",
      "execution_count": 22,
      "id": "1f66a51d",
      "metadata": {
        "id": "1f66a51d",
        "outputId": "b03fc110-363c-45d8-c4c6-36ae627d45d7",
        "colab": {
          "base_uri": "https://localhost:8080/",
          "height": 676
        }
      },
      "outputs": [
        {
          "output_type": "display_data",
          "data": {
            "text/plain": [
              "<Figure size 1000x600 with 1 Axes>"
            ],
            "image/png": "[encoded data removed]"
          },
          "metadata": {}
        },
        {
          "output_type": "stream",
          "name": "stdout",
          "text": [
            "\n",
            "=== K OPTIMAL untuk SMOTE + GridSearch + KNN ====\n",
            "Best k: 7\n",
            "Best CV score with k=7: 0.9175\n"
          ]
        }
      ],
      "source": [
        "# Analyze the effect of different k values specifically\n",
        "k_values = param_grid['knn__n_neighbors']\n",
        "k_scores = []\n",
        "\n",
        "# Filter results for the best other parameters but varying k\n",
        "best_params_except_k = {k: v for k, v in grid_search_smote.best_params_.items() if k != 'knn__n_neighbors'}\n",
        "\n",
        "for k in k_values:\n",
        "    # Find results with this k and best other parameters\n",
        "    matching_rows = results_df[\n",
        "        (results_df['param_knn__n_neighbors'] == k) &\n",
        "        (results_df['param_knn__weights'] == best_params_except_k.get('knn__weights')) &\n",
        "        (results_df['param_knn__algorithm'] == best_params_except_k.get('knn__algorithm')) &\n",
        "        (results_df['param_knn__metric'] == best_params_except_k.get('knn__metric')) &\n",
        "        (results_df['param_knn__p'] == best_params_except_k.get('knn__p'))\n",
        "    ]\n",
        "\n",
        "    if not matching_rows.empty:\n",
        "        k_scores.append(matching_rows['mean_test_score'].iloc[0])\n",
        "    else:\n",
        "        k_scores.append(0)\n",
        "\n",
        "# Plot k vs accuracy\n",
        "plt.figure(figsize=(10, 6))\n",
        "plt.plot(k_values, k_scores, marker='o', linewidth=2, markersize=6, color='green')\n",
        "best_k = grid_search_smote.best_params_['knn__n_neighbors']\n",
        "plt.axvline(x=best_k, color='red', linestyle='--', alpha=0.7, label=f'Best k={best_k}')\n",
        "plt.title('Cross-Validation Accuracy vs. Number of Neighbors (k) - SMOTE + GridSearch')\n",
        "plt.xlabel('k (Number of Neighbors)')\n",
        "plt.ylabel('Cross-Validation Accuracy')\n",
        "plt.grid(True, alpha=0.3)\n",
        "plt.legend()\n",
        "plt.xticks(k_values)\n",
        "plt.tight_layout()\n",
        "plt.show()\n",
        "\n",
        "print(f\"\\n=== K OPTIMAL untuk SMOTE + GridSearch + KNN ====\")\n",
        "print(f\"Best k: {best_k}\")\n",
        "print(f\"Best CV score with k={best_k}: {grid_search_smote.best_score_:.4f}\")"
      ]
    },
    {
      "cell_type": "markdown",
      "id": "b439ff9f",
      "metadata": {
        "id": "b439ff9f"
      },
      "source": [
        "## 13. Final Summary"
      ]
    },
    {
      "cell_type": "code",
      "execution_count": 23,
      "id": "ab92a482",
      "metadata": {
        "id": "ab92a482",
        "outputId": "fb8a8488-6068-45b6-babd-8b3bc519c624",
        "colab": {
          "base_uri": "https://localhost:8080/"
        }
      },
      "outputs": [
        {
          "output_type": "stream",
          "name": "stdout",
          "text": [
            "======================================================================\n",
            "FINAL SUMMARY - SMOTE + GRIDSEARCH + KNN\n",
            "======================================================================\n",
            "\n",
            "📊 DATASET INFORMATION:\n",
            "   Total samples: 1031\n",
            "   Features used: 10\n",
            "   Classes: 3 (Insomnia, Normal, Sleep Apnea)\n",
            "\n",
            "🔄 SMOTE BALANCING:\n",
            "   Before SMOTE:\n",
            "     Insomnia: 237 samples\n",
            "     Normal: 350 samples\n",
            "     Sleep Apnea: 237 samples\n",
            "   After SMOTE:\n",
            "     Insomnia: 350 samples\n",
            "     Normal: 350 samples\n",
            "     Sleep Apnea: 350 samples\n",
            "\n",
            "🔍 GRIDSEARCH CONFIGURATION:\n",
            "   Total parameter combinations tested: 480\n",
            "   Cross-validation folds: 5\n",
            "   Search time: 86.68 seconds\n",
            "\n",
            "📈 PERFORMANCE RESULTS:\n",
            "   KNN Murni: 0.8599 (85.99%)\n",
            "   KNN + SMOTE: 0.8599 (85.99%)\n",
            "   SMOTE + GridSearch + KNN: 0.9082 (90.82%)\n",
            "   Final improvement: +4.83 percentage points\n",
            "\n",
            "⚙️ OPTIMAL HYPERPARAMETERS (AFTER GridSearch):\n",
            "   algorithm: auto\n",
            "   metric: euclidean\n",
            "   n_neighbors: 7\n",
            "   p: 1\n",
            "   weights: distance\n",
            "\n",
            "🎯 KEY FINDINGS:\n",
            "   • Optimal k value dengan SMOTE: 7\n",
            "   • SMOTE effect: +0.00 pp improvement\n",
            "   • GridSearch effect: +4.83 pp additional improvement\n",
            "   • Combined effect: +4.83 pp total improvement\n",
            "\n",
            "✅ CONCLUSION:\n",
            "   SMOTE + GridSearch + KNN memberikan performa terbaik!\n",
            "   Kombinasi balancing data dan hyperparameter tuning efektif.\n",
            "======================================================================\n"
          ]
        }
      ],
      "source": [
        "print(\"=\" * 70)\n",
        "print(\"FINAL SUMMARY - SMOTE + GRIDSEARCH + KNN\")\n",
        "print(\"=\" * 70)\n",
        "\n",
        "print(\"\\n📊 DATASET INFORMATION:\")\n",
        "print(f\"   Total samples: {len(dataset)}\")\n",
        "print(f\"   Features used: {len(available_features)}\")\n",
        "print(f\"   Classes: {len(label_encoder.classes_)} ({', '.join(label_encoder.classes_)})\")\n",
        "\n",
        "print(\"\\n🔄 SMOTE BALANCING:\")\n",
        "print(\"   Before SMOTE:\")\n",
        "for i, count in enumerate(train_dist_before):\n",
        "    print(f\"     {label_encoder.classes_[i]}: {count} samples\")\n",
        "print(\"   After SMOTE:\")\n",
        "for i, count in enumerate(train_dist_after):\n",
        "    print(f\"     {label_encoder.classes_[i]}: {count} samples\")\n",
        "\n",
        "print(\"\\n🔍 GRIDSEARCH CONFIGURATION:\")\n",
        "print(f\"   Total parameter combinations tested: {len(results_df)}\")\n",
        "print(f\"   Cross-validation folds: 5\")\n",
        "print(f\"   Search time: {elapsed_time:.2f} seconds\")\n",
        "\n",
        "print(\"\\n📈 PERFORMANCE RESULTS:\")\n",
        "print(f\"   KNN Murni: {accuracy_murni:.4f} ({accuracy_murni*100:.2f}%)\")\n",
        "print(f\"   KNN + SMOTE: {accuracy_smote_only:.4f} ({accuracy_smote_only*100:.2f}%)\")\n",
        "print(f\"   SMOTE + GridSearch + KNN: {grid_smote_accuracy:.4f} ({grid_smote_accuracy*100:.2f}%)\")\n",
        "print(f\"   Final improvement: {(grid_smote_accuracy - accuracy_murni)*100:+.2f} percentage points\")\n",
        "\n",
        "print(\"\\n⚙️ OPTIMAL HYPERPARAMETERS (AFTER GridSearch):\")\n",
        "for param, value in grid_search_smote.best_params_.items():\n",
        "    param_name = param.replace('knn__', '')\n",
        "    print(f\"   {param_name}: {value}\")\n",
        "\n",
        "print(\"\\n🎯 KEY FINDINGS:\")\n",
        "optimal_k = grid_search_smote.best_params_['knn__n_neighbors']\n",
        "print(f\"   • Optimal k value dengan SMOTE: {optimal_k}\")\n",
        "print(f\"   • SMOTE effect: {(accuracy_smote_only - accuracy_murni)*100:+.2f} pp improvement\")\n",
        "print(f\"   • GridSearch effect: {(grid_smote_accuracy - accuracy_smote_only)*100:+.2f} pp additional improvement\")\n",
        "print(f\"   • Combined effect: {(grid_smote_accuracy - accuracy_murni)*100:+.2f} pp total improvement\")\n",
        "\n",
        "print(\"\\n✅ CONCLUSION:\")\n",
        "if grid_smote_accuracy > max(accuracy_murni, accuracy_smote_only):\n",
        "    print(\"   SMOTE + GridSearch + KNN memberikan performa terbaik!\")\n",
        "    print(\"   Kombinasi balancing data dan hyperparameter tuning efektif.\")\n",
        "else:\n",
        "    print(\"   Perlu analisis lebih lanjut untuk optimasi yang lebih baik.\")\n",
        "\n",
        "print(\"=\" * 70)"
      ]
    },
    {
      "cell_type": "markdown",
      "id": "1f35dd5d",
      "metadata": {
        "id": "1f35dd5d"
      },
      "source": [
        "## Summary\n",
        "\n",
        "**SMOTE + GridSearch + KNN Results**\n",
        "\n",
        "### 🔄 SMOTE Analysis:\n",
        "- **Data before SMOTE**: Distribusi kelas original dengan ketidakseimbangan\n",
        "- **Data after SMOTE**: Distribusi kelas yang seimbang setelah synthetic sampling\n",
        "- **Increase per class**: Jumlah sampel sintetis yang ditambahkan\n",
        "\n",
        "### ⚙️ GridSearch Optimization:\n",
        "- **Before GridSearch**: Hyperparameter default dengan SMOTE\n",
        "- **After GridSearch**: Hyperparameter optimal hasil comprehensive search\n",
        "- **Best combination**: SMOTE + optimized KNN parameters\n",
        "\n",
        "### 📊 Performance Comparison:\n",
        "- **K optimal**: Nilai k terbaik untuk SMOTE + GridSearch + KNN\n",
        "- **Improvement analysis**: Efek individual dan kombinasi dari SMOTE dan GridSearch\n",
        "- **Best approach**: Perbandingan dengan KNN murni dan KNN+SMOTE\n",
        "\n",
        "### 🎯 Key Insights:\n",
        "- Kombinasi SMOTE dan GridSearch memberikan optimasi maksimal\n",
        "- Balancing data dan hyperparameter tuning saling melengkapi\n",
        "- Model final merupakan hasil optimasi dua tahap yang komprehensif"
      ]
    }
  ],
  "metadata": {
    "kernelspec": {
      "display_name": "Python 3",
      "language": "python",
      "name": "python3"
    },
    "language_info": {
      "codemirror_mode": {
        "name": "ipython",
        "version": 3
      },
      "file_extension": ".py",
      "mimetype": "text/x-python",
      "name": "python",
      "nbconvert_exporter": "python",
      "pygments_lexer": "ipython3",
      "version": "3.12.6"
    },
    "colab": {
      "provenance": []
    }
  },
  "nbformat": 4,
  "nbformat_minor": 5
}